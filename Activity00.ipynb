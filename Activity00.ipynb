{
 "cells": [
  {
   "cell_type": "markdown",
   "id": "447f84ed-a841-408a-a25c-ca120b6dff1b",
   "metadata": {
    "tags": []
   },
   "source": [
    "# <span style='color:#DB822E'>Introduction to Jupyter Notebooks and the Hands-on Lab\n",
    "Welcome to the Aruba AI Workshop Hands on Lab Environment! The lab is hosted in AWS and runs on an opensource platform called [Jupyter Lab](https://jupyter.org/). This workshop is broken into seven lab activities designed to reinforce the basic machine learning (ML) concepts from today's lecture.  The lab activities move through progressively more advanced ML concepts. The final two activities bring us to a deep learning model that determines if an image is a switch or an access point!\n",
    "\n",
    "Each lab, called an activity, is listed in the directory structure in left pane 👈. There are 8 total lab activities.\n",
    "    \n",
    "1. [Activity00](Activity00.ipynb)\n",
    "2. [Activity01](Activity01.ipynb)\n",
    "3. [Activity02](Activity02.ipynb)\n",
    "4. [Activity03](Activity03.ipynb)\n",
    "5. [Activity04](Activity04.ipynb)\n",
    "6. [Activity05](Activity05.ipynb)\n",
    "7. [Activity21](Activity21.ipynb)\n",
    "8. [Activity22](Activity22.ipynb)\n",
    "    \n",
    "You will navigate the labs sequentially by double clicking the activity name. You are in `Activity00` that will give you a primer on how to use and navigate Jupyter Notebooks. If you are familiar with how to use Jupyter Labs and Notebooks, then please continue onto [Activity01](Activity01.ipynb). Have fun!\n",
    "\n",
    "***"
   ]
  },
  {
   "cell_type": "markdown",
   "id": "cd3eb2fe-56b9-4806-8e0e-54ce2bd04c6c",
   "metadata": {},
   "source": [
    "### What is a Jupyter Lab and Notebook\n",
    "The Jupyter Notebook is an open source web application that we use to create and share the Machine Learning lab that contains the live lab guide, code, visualizations, and text. For more details on how to use and deploy your own Jupyter Notebooks, please see this [video](https://www.youtube.com/watch?v=5pf0_bpNbkw). \n",
    "\n",
    "Jupyter Lab is a collection of notebooks. Each notebook in this Aruba AI Workshop, is an activity.\n",
    "\n",
    "***"
   ]
  },
  {
   "cell_type": "markdown",
   "id": "70117549-bd9b-4e2f-a302-b3d8e1a28d5d",
   "metadata": {},
   "source": [
    "### Why didn't you call the notebooks, \"labs\", such as: Lab01, Lab02, etc.\n",
    "The term \"lab\" is already being used by Jupyter Lab. To avoid confusion, we renamed \"Aruba labs\" to Activity for this workshop. \n",
    "\n",
    "***"
   ]
  },
  {
   "cell_type": "markdown",
   "id": "7281f437-35a6-41c6-a341-9d237e2fb20f",
   "metadata": {},
   "source": [
    "### Why use Jupyter Notebooks instead of VS Code, terminal or other tool\n",
    "\n",
    "Jupyter Notebook provide an easy why to include everything is needed to run Python packages, code and Linux packages. Since Jupyter Notebooks run via a webpage, the output from the code we run will be display in a UI that can render images, display colors and format text easier than via a terminal.\n",
    "\n",
    "We wanted this workshops to focus on Machine Learning and AI and less on \"how to\" write code.\n",
    "\n",
    "***"
   ]
  },
  {
   "cell_type": "markdown",
   "id": "6b6e2c99-4686-4ec5-8ee1-6267c9a2f590",
   "metadata": {},
   "source": [
    "### Keyboard Shortcuts\n",
    "- SHIFT+Enter : to execute code block or exit out of edit mode.\n",
    "- Arrow keys : to move around the notebook cells\n",
    "- C, X, V : Copy, Cut and Paste\n",
    "- dd : to delete a cell\n",
    "- z, shift-z : undo/redo\n",
    "\n",
    "***"
   ]
  },
  {
   "cell_type": "markdown",
   "id": "3ac18912-9427-48c8-801f-2392c0cf072b",
   "metadata": {
    "tags": []
   },
   "source": [
    "### Navigating Between Cells and Executing Code\n",
    "\n",
    "Jupyter Notebooks has a framework that is composed of cells. These cells can be text, code, or data.\n",
    "Each cell has two modes:\n",
    "- Command mode - Where the cell is executed. For a text or Markdown page, this will render the page. For a code cell, it will run the Python code.\n",
    "- Edit mode - Allows you to edit the text/Markdown or Python code.\n",
    "\n",
    "\n",
    "To indicate which cell is active, the cell block will show a blue bar to the left of the cell.  A cell becomes active when you click into the cell and that is when you will the blue bar.  If you see three dots (ellipses), then that cell block has been collapsed. See the image below for examples of the blue bar and ellipses.\n",
    "<div>\n",
    "    <img src=\"images/jupyter_collapse_current.png\" width=\"30%\" height=\"30%\"/>\n",
    "</div>\n",
    "\n",
    "Clicking the three dots will expand the cell block. To collapse the cell, click the blue bar next to the cell. You can also collapse/expand cells using the drop down menu.\n",
    "\n",
    "Now, that we know how to activate a cell by \"clicking\" the target cell we can try running some sample code.  Click the code cell below and run the code by clicking the play(▶️) button up above or using the shortcut key Shift+Enter.  Go ahead and run the code cell just below 👇🏻 now.\n",
    "\n",
    "***"
   ]
  },
  {
   "cell_type": "code",
   "execution_count": null,
   "id": "8f7d5c10-6528-4e2e-981b-6ce825fd05a9",
   "metadata": {
    "tags": []
   },
   "outputs": [],
   "source": [
    "#\n",
    "# Example code block\n",
    "#\n",
    "from IPython.display import display as print, Markdown\n",
    "\n",
    "\n",
    "print(\"Output:\\n\")\n",
    "print(\"Hello whirled peas\\n\")\n",
    "\n",
    "#\n",
    "# Print a range of numbers.\n",
    "#\n",
    "for i in range(0, 10):\n",
    "    print(f\"Number: {i}\")\n",
    "    \n",
    "print(Markdown('<span style=\"color: #14B326\">Done!</span>'))"
   ]
  },
  {
   "cell_type": "markdown",
   "id": "212ea6db-73b6-45b0-ab6f-ca4d9a3f4797",
   "metadata": {
    "tags": []
   },
   "source": [
    "***\n",
    "\n",
    "## Understanding Jupyter Code Indicator\n",
    "\n",
    "### Code Indicator Listing\n",
    "The number in the brackets (10 in this screenshot), is called an indicator. The indicator will tell you if the code has been run or if it is currently running.  \n",
    "\n",
    "- Empty brackets `[]` - the code has never been run before.\n",
    "- Brackets with a start `[*]` - The code is actively running.\n",
    "- Brackets with an integer `[10]` - The code has run. This example is showing that the code has been executed and this was 10th code run in the lab. E.g. The code block prior to this was 9 and if you re-run this again, it will be 11. **(See screen shots below)**\n",
    "  \n",
    "<div>\n",
    "    <img src=\"images/jupyter-command-count.png\" width=\"30%\" height=\"30%\"/>\n",
    "</div>\n",
    "\n",
    "### `[*]` Actively Running Code\n",
    "This is a screenshot of the code cell below 👇🏻. Jupyter is waiting 10 seconds for the code to complete. Not all code in this lab runs in an instant.  It is expected that you will `[*]` from time to time.  Be paitient and let code complete before proceeding.\n",
    "\n",
    "<div>\n",
    "    <img src=\"images/jupyter_sleep_running.png\" width=\"30%\" height=\"30%\"/>\n",
    "</div>\n",
    "\n",
    "### `[10]` Completed Code Block\n",
    "When the code has completed it will show execution order number that was mentioned above, which is 12 in the below screenshot.\n",
    "\n",
    "<div>\n",
    "    <img src=\"images/jupyter_sleep_done.png\" width=\"30%\" height=\"30%\"/>\n",
    "</div>\n",
    "\n",
    "**Let's practice by running the code below 👇🏻 and paying attention to the indicators.**"
   ]
  },
  {
   "cell_type": "code",
   "execution_count": null,
   "id": "adcf8a6b-71aa-42fa-8d7e-eb141a95ca85",
   "metadata": {
    "tags": []
   },
   "outputs": [],
   "source": [
    "import time\n",
    "\n",
    "# Time in seconds to sleep\n",
    "sleep_time=10\n",
    "time.sleep(sleep_time)\n",
    "\n",
    "print(\"Output:\")\n",
    "print(f\"Slept for {sleep_time} seconds\")\n",
    "\n",
    "\n",
    "print(Markdown('<span style=\"color: #14B326\">Done!</span>'))"
   ]
  },
  {
   "cell_type": "markdown",
   "id": "a1aa9171-3a98-4933-a9ab-9d8c66f8eebb",
   "metadata": {},
   "source": [
    "## Directory Structure on the Left 👈🏿 ##\n",
    "On the left, you should see a directory listing of several folders and files. The gray folders house data sets, models and images used in the labs.  You do not need to interact with these folders.  The activities is where you will double click to launch lab activities. The next activity in this workshop is: Activity01. Please go ahead and get started and open Activity01.ipynb!"
   ]
  },
  {
   "cell_type": "markdown",
   "id": "ee65ca40-f966-441a-ac21-4f9a94131d8b",
   "metadata": {},
   "source": [
    "## Congratulations! You have completed Activity 00.\n",
    "\n",
    "[Start Activity 01](Activity01.ipynb)\n"
   ]
  }
 ],
 "metadata": {
  "kernelspec": {
   "display_name": "Python 3 (ipykernel)",
   "language": "python",
   "name": "python3"
  },
  "language_info": {
   "codemirror_mode": {
    "name": "ipython",
    "version": 3
   },
   "file_extension": ".py",
   "mimetype": "text/x-python",
   "name": "python",
   "nbconvert_exporter": "python",
   "pygments_lexer": "ipython3",
   "version": "3.11.5"
  }
 },
 "nbformat": 4,
 "nbformat_minor": 5
}
