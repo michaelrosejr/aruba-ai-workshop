{
 "cells": [
  {
   "cell_type": "markdown",
   "id": "3ac18912-9427-48c8-801f-2392c0cf072b",
   "metadata": {
    "tags": []
   },
   "source": [
    "# Activity 00: How to use Jupyter Notebooks\n",
    "\n",
    "Welcome to the Aruba AI Workshop! This workshop is broken into seven labs that will take you from the basic machine learning (ML) concepts and move into more advanced ML concepts. The final activity will be using ML to determine if an image is a switch or an AP!\n",
    "\n",
    "Each Activity is listed on the left in the directory. However, before you begin, please go through the following Jupyter Lab overview. If you're already familiar with how to use Jupyter Labs and Notebooks, then please continue onto Activity 01. Have fun!\n",
    "\n",
    "## What is a Jupyter Lab and Notebook\n",
    "The Jupyter Notebook is an open source web application that we use to create and share the Machine Learning lab that contains the live lab guide, code, visualizations, and text. For more details on how to use and deploy your own Jupyter Notebooks, please see this [video](https://www.youtube.com/watch?v=5pf0_bpNbkw). \n",
    "\n",
    "Jupyter Lab is a collection of notebooks. Each notebook in this Aruba AI Workshop, is an activity.\n",
    "\n",
    "## Why didn't you call the notebooks, \"labs\", such as: Lab01, Lab02, etc.\n",
    "The term \"lab\" is already being used by Jupyter Lab. To avoid confusion, we renamed \"Aruba labs\" to Activity for this workshop. \n",
    "\n",
    "## Why use Jupyter Notebooks instead of VS Code, terminal or other tool\n",
    "\n",
    "Jupyter Notebook provide an easy why to include everything is needed to run Python packages, code and Linux packages. Since Jupyter Notebooks run via a webpage, the output from the code we run will be display in a UI that can render images, display colors and format text easier than via a terminal.\n",
    "\n",
    "We wanted this workshops to focus on Machine Learning and AI and less on \"how to\" write code.\n",
    "\n",
    "## Keyboard Shortcuts\n",
    "- SHIFT+Enter : to execute code block or exit out of edit mode.\n",
    "- Arrow keys : to move around the notebook cells\n",
    "- C, X, V : Copy, Cut and Paste\n",
    "- dd : to delete a cell\n",
    "- z, shift-z : undo/redo\n",
    "\n",
    "\n",
    "## Quick overview\n",
    "\n",
    "Jupyter Notebooks has a\n",
    "framework that is composed of cells. These cells can be text, code or data.\n",
    "Each cell has two modes:\n",
    "- Command mode - Where the cell is executed. For a text or Markdown page, this will render the page. For a code cell, it will run the Python code.\n",
    "- Edit mode - Allows you to edit the text/Markdown or Python code.\n",
    "\n",
    "\n",
    "To indicate which cell is active, the cell block will show a blue bar to the left of the cell. \n",
    "If you see three dots, then that cell block has been collapsed. Clicking the three dots will expand the cell block. To collapse the cell, click the blue bar next to the cell. You can also collapse/expand cells using the drop down menus\n",
    "<div>\n",
    "    <img src=\"images/jupyter_collapse_current.png\" width=\"50%\" height=\"50%\"/>\n",
    "</div>\n",
    "\n",
    "\n"
   ]
  },
  {
   "cell_type": "code",
   "execution_count": null,
   "id": "8f7d5c10-6528-4e2e-981b-6ce825fd05a9",
   "metadata": {
    "tags": []
   },
   "outputs": [],
   "source": [
    "#\n",
    "# Example code block\n",
    "#\n",
    "from IPython.display import display as print, Markdown\n",
    "\n",
    "\n",
    "print(\"Output:\\n\")\n",
    "print(\"Hello World\\n\")\n",
    "\n",
    "#\n",
    "# Print a range of numbers.\n",
    "#\n",
    "for i in range(0, 10):\n",
    "    print(f\"Number: {i}\")\n",
    "    \n",
    "print(Markdown('<span style=\"color: #14B326\">Done!</span>'))"
   ]
  },
  {
   "cell_type": "markdown",
   "id": "212ea6db-73b6-45b0-ab6f-ca4d9a3f4797",
   "metadata": {
    "tags": []
   },
   "source": [
    "## Jupyter Code Indicator\n",
    "\n",
    "### Code block has executed and completed\n",
    "The number in the brackets (10 in this screenshot), called an indicator, is showing that the code has been executed and the execution order. For this example, this was 10th run. The code block prior to this was 9 and if you re-run this again, it will be 11. \n",
    "<div>\n",
    "    <img src=\"images/jupyter-command-count.png\" width=\"50%\" height=\"50%\"/>\n",
    "</div>\n",
    "\n",
    "\n",
    "### Running code block\n",
    "When a code block is running the status indicator will display an asterisk (* ) to indicate that the Python code is still running. In this screenshot, Jupyter is waiting 10 seconds for the code to complete. \n",
    "<div>\n",
    "    <img src=\"images/jupyter_sleep_running.png\" width=\"50%\" height=\"50%\"/>\n",
    "</div>\n",
    "\n",
    "### Completed code block\n",
    "When the code has completed it will show execution order number that was mentioned above, which is 12 in the below screenshot.\n",
    "<div>\n",
    "    <img src=\"images/jupyter_sleep_done.png\" width=\"50%\" height=\"50%\"/>\n",
    "</div>\n",
    "\n",
    "#### Let's see an example"
   ]
  },
  {
   "cell_type": "code",
   "execution_count": null,
   "id": "adcf8a6b-71aa-42fa-8d7e-eb141a95ca85",
   "metadata": {
    "tags": []
   },
   "outputs": [],
   "source": [
    "import time\n",
    "\n",
    "# Time in seconds to sleep\n",
    "sleep_time=10\n",
    "time.sleep(sleep_time)\n",
    "\n",
    "print(\"Output:\")\n",
    "print(f\"Slept for {sleep_time} seconds\")\n",
    "\n",
    "\n",
    "print(Markdown('<span style=\"color: #14B326\">Done!</span>'))"
   ]
  },
  {
   "cell_type": "markdown",
   "id": "a1aa9171-3a98-4933-a9ab-9d8c66f8eebb",
   "metadata": {},
   "source": [
    "On the left, you should see a directory listing of a number folders and files. The next activity in this workshop is: Activity01. Please go ahead and get started and open Activity01.ipynb!"
   ]
  },
  {
   "cell_type": "markdown",
   "id": "ee65ca40-f966-441a-ac21-4f9a94131d8b",
   "metadata": {},
   "source": [
    "## Congratulations! You have completed Activity 00.\n",
    "\n",
    "[Start Activity 01](Activity01.ipynb)\n"
   ]
  }
 ],
 "metadata": {
  "kernelspec": {
   "display_name": "Python 3 (ipykernel)",
   "language": "python",
   "name": "python3"
  },
  "language_info": {
   "codemirror_mode": {
    "name": "ipython",
    "version": 3
   },
   "file_extension": ".py",
   "mimetype": "text/x-python",
   "name": "python",
   "nbconvert_exporter": "python",
   "pygments_lexer": "ipython3",
   "version": "3.10.3"
  }
 },
 "nbformat": 4,
 "nbformat_minor": 5
}
