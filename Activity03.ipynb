{
 "cells": [
  {
   "cell_type": "markdown",
   "id": "66b58206-d9e3-4a0f-8642-c6bde3d0db95",
   "metadata": {},
   "source": [
    "## <span style='color:#DB822E'>Activity 3: Classifiers and Features </span>\n",
    "\n",
    "Good features are informative, independent, and simple. It is important to evaluate features that are useful and to evaluate more than one feature. In this activity we will use dog height to make a prediction on the breed of dog (Labradors or Greyhound).  in this lab we will produce a histogram that we can use to make a visual determination if the feature was useful.  \n",
    "\n",
    "In this lab we will once again load `NumPy` and a library called `matplotlib` that will assist us in rendering a histogram so that we can visualize the predictions of this model.\n",
    "\n",
    "After loading the necessary Python modules, we create a \"toy example\" with a population of dogs. Half of the dogs will be Greyhounds and the other half Labradors (labs). In code we will define Greyhounds as 28 inches tall and Labs as 24 inches tall.  The real world is messy and height is usually a distributed feature. Tbherefore, we add +/- 4 inches of randomness to form an array of possible heights of the dogs.  Next, for the histogram, the code will define the Greyhounds and red and Labs as Blue.\n",
    "\n",
    "Go ahead and run the code block now 👇🏾 and then consider these discussion questions.\n",
    "\n",
    "Based on looking at the histogram, where do think the model is confident in its predictions? When do you see, uncertainty? Do you think in this example, height alone was a useful feature for the model to make an accurate prediction?\n",
    "\n",
    "To learn more about this lab you can watch [What makes a good feature? Machine Learning Recipes 3](https://youtu.be/N9fDIAflCMY?si=CmpieqcDK12HBhdE) \n"
   ]
  },
  {
   "cell_type": "code",
   "execution_count": null,
   "id": "57c328da-17e6-42e5-a54c-ae6e87350a6b",
   "metadata": {
    "tags": []
   },
   "outputs": [],
   "source": [
    "from IPython.display import display, Markdown, Image\n",
    "\n",
    "import matplotlib.pyplot as plt\n",
    "import numpy as np\n",
    "\n",
    "# Create population of 1000 dog, 50/50 greyhound/labrador\n",
    "greyhounds = 5000\n",
    "labs = 500\n",
    "\n",
    "# Assume greyhounds are normally 28\" tall\n",
    "# Assume labradors are normally 24\" tall\n",
    "# Assume normal distribution of +/- 4\"\n",
    "grey_height = 28 + 4 * np.random.randn(greyhounds)\n",
    "lab_height = 24 + 4 * np.random.randn(labs)\n",
    "\n",
    "# Greyounds - red, labradors - blue\n",
    "plt.title(\"Greyhounds (Red) vs. Labradors (Blue)\")\n",
    "plt.xlabel('Height') \n",
    "plt.ylabel('# of Dogs') \n",
    "plt.hist([grey_height, lab_height], stacked=True, color=['r', 'b'])\n",
    "plt.show()\n",
    "\n",
    "display(Markdown('<span style=\"color: #14B326\">Done!</span>'))\n",
    "\n"
   ]
  },
  {
   "cell_type": "markdown",
   "id": "e5041133-b218-4bd8-a6c6-f58f4fcad1b9",
   "metadata": {},
   "source": [
    "## You have completed Activity 03.\n",
    "\n",
    "[Start Activity 04](Activity04.ipynb)"
   ]
  },
  {
   "cell_type": "code",
   "execution_count": null,
   "id": "ab66382b-4fed-4bc3-9426-352d432b4a3d",
   "metadata": {},
   "outputs": [],
   "source": []
  },
  {
   "cell_type": "code",
   "execution_count": null,
   "id": "ad7ad4cd-8500-4da5-9c97-8976b58a2d84",
   "metadata": {},
   "outputs": [],
   "source": []
  }
 ],
 "metadata": {
  "kernelspec": {
   "display_name": "Python 3 (ipykernel)",
   "language": "python",
   "name": "python3"
  },
  "language_info": {
   "codemirror_mode": {
    "name": "ipython",
    "version": 3
   },
   "file_extension": ".py",
   "mimetype": "text/x-python",
   "name": "python",
   "nbconvert_exporter": "python",
   "pygments_lexer": "ipython3",
   "version": "3.11.5"
  }
 },
 "nbformat": 4,
 "nbformat_minor": 5
}
