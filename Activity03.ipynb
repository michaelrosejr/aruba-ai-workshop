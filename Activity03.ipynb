{
 "cells": [
  {
   "cell_type": "markdown",
   "id": "66b58206-d9e3-4a0f-8642-c6bde3d0db95",
   "metadata": {},
   "source": [
    "## <span style='color:#DB822E'>Activity 3: Classifiers and Features </span>\n",
    "\n",
    "Good features are informative, independent, and simple. It is important to evaluate features that useful and to evaluate more than one feature. In this activity we will use dog height to make a prediction on the breed of dog (Labradors or Greyhound).  in this lab we will produce a histogram that we can use to make a visual determination if the feature was useful.  \n",
    "\n",
    "After loading the necessary Python modules, we create a \"toy example\" with a population of dogs. <br>\n",
    "Half of the dogs will be Greyhounds and the other half Labradors (labs).\n",
    "\n",
    "We'll then see the average height to 28 inches and 24 inches tall respectively.\n",
    "\n",
    "Then plot the number of dogs based on height.  Do you think in this example, height alone was a useful feature for the model to make an accurate prediction?\n",
    "\n",
    "This lab is inspired by the YouTube video series “Machine Learning Recipes with Josh Gordon” and [specifically this video:](https://youtu.be/N9fDIAflCMY?si=CmpieqcDK12HBhdE) \n"
   ]
  },
  {
   "cell_type": "code",
   "execution_count": null,
   "id": "57c328da-17e6-42e5-a54c-ae6e87350a6b",
   "metadata": {
    "tags": []
   },
   "outputs": [],
   "source": [
    "from IPython.display import display, Markdown, Image\n",
    "\n",
    "import matplotlib.pyplot as plt\n",
    "import numpy as np\n",
    "\n",
    "# Create population of 1000 dog, 50/50 greyhound/labrador\n",
    "greyhounds = 500\n",
    "labs = 500\n",
    "\n",
    "# Assume greyhounds are normally 28\" tall\n",
    "# Assume labradors are normally 24\" tall\n",
    "# Assume normal distribution of +/- 4\"\n",
    "grey_height = 28 + 4 * np.random.randn(greyhounds)\n",
    "lab_height = 24 + 4 * np.random.randn(labs)\n",
    "\n",
    "# Greyounds - red, labradors - blue\n",
    "plt.title(\"Greyhounds vs. Labradors\")\n",
    "plt.xlabel('Height') \n",
    "plt.ylabel('# of Dogs') \n",
    "plt.hist([grey_height, lab_height], stacked=True, color=['r', 'b'])\n",
    "plt.show()\n",
    "\n",
    "display(Markdown('<span style=\"color: #14B326\">Done!</span>'))\n",
    "\n"
   ]
  },
  {
   "cell_type": "markdown",
   "id": "e5041133-b218-4bd8-a6c6-f58f4fcad1b9",
   "metadata": {},
   "source": [
    "## You have completed Activity 03.\n",
    "\n",
    "[Start Activity 04](Activity04.ipynb)"
   ]
  }
 ],
 "metadata": {
  "kernelspec": {
   "display_name": "Python 3 (ipykernel)",
   "language": "python",
   "name": "python3"
  },
  "language_info": {
   "codemirror_mode": {
    "name": "ipython",
    "version": 3
   },
   "file_extension": ".py",
   "mimetype": "text/x-python",
   "name": "python",
   "nbconvert_exporter": "python",
   "pygments_lexer": "ipython3",
   "version": "3.10.12"
  }
 },
 "nbformat": 4,
 "nbformat_minor": 5
}
