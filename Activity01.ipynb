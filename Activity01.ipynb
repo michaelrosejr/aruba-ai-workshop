{
 "cells": [
  {
   "cell_type": "markdown",
   "id": "e6fc291f-6c25-4596-a7ad-e6d9a0b83fdb",
   "metadata": {},
   "source": [
    "# <span style='color:#DB822E'>Activity 1: Apples vs Oranges</span>\n",
    "<span style=\"color:black; font-weight:500\">\n",
    "    \n",
    "In this lab we'll use a very simple dataset to determine if an object is an Apple or Orange. This is a problem that sounds easy but could be impossible to solve without machine learning. The real world is messy and the rules we write using traditional coding methods would start to break.  For example, how would you handle black and white images of the fruit? Or, how would you handle images without an apple or an orange?  Apples or Oranges is a classic \"hello world!\" machine learning problem.\n",
    "\n",
    "An algorithm is the procedure to figure out the rules for us so we don't have to create rules by hand and to do that we create a classifier. We'll use Supervised Learning to create a classifier by finding patterns in examples.  This lab is inspired by the YouTube video series “Machine Learning Recipes with Josh Gordon” and [specifically this video:](https://youtu.be/cKxRvEZd3Mw?si=K41pLPj-4WwaYR1)\n",
    "\n",
    "</span>\n"
   ]
  },
  {
   "cell_type": "code",
   "execution_count": null,
   "id": "ef0464d1-178b-4858-baec-8ece600e8279",
   "metadata": {
    "tags": []
   },
   "outputs": [],
   "source": [
    "from IPython.display import display, Markdown\n",
    "from IPython.display import Image\n",
    "\n",
    "from sklearn import tree\n",
    "\n",
    "display(Markdown('<span style=\"color: #14B326\">Done!</span>'))"
   ]
  },
  {
   "cell_type": "markdown",
   "id": "86ac6646-8aa7-4f44-a868-2027124edcbc",
   "metadata": {},
   "source": [
    "\n",
    "We'll then load the features, labels and assign those to the value of `clf`"
   ]
  },
  {
   "cell_type": "code",
   "execution_count": null,
   "id": "06979c32-f80e-469c-932c-4ba39adbd1a5",
   "metadata": {
    "tags": []
   },
   "outputs": [],
   "source": [
    "\n",
    "features = [[140, 1], [130, 1], [150, 0], [170, 0]]\n",
    "labels = [0, 0, 1, 1]\n",
    "clf = tree.DecisionTreeClassifier()\n",
    "clf = clf.fit(features, labels)\n",
    "\n",
    "display(Markdown('<span style=\"color: #14B326\">Done!</span>'))"
   ]
  },
  {
   "cell_type": "markdown",
   "id": "ff52db62-72a5-4c76-81b6-565571c8fa9a",
   "metadata": {},
   "source": [
    "***\n",
    "\n",
    "### Finally, we'll load the test data.\n",
    "The names of the fruit we'll be comparing.\n",
    "Then the values we want to predict. <br>\n",
    "In this example: 150, 0<br>\n",
    "150 for the Weight<br>\n",
    "0 for Bumpy texture<br>\n",
    "\n",
    "<div>\n",
    "    <img src=\"images/AppleOrange-TrainingData.png\" width=\"50%\" height=\"50%\"/>\n",
    "</div>\n",
    "\n"
   ]
  },
  {
   "cell_type": "code",
   "execution_count": null,
   "id": "23450ee5-9452-414b-8cb5-13e657b11a9a",
   "metadata": {
    "tags": []
   },
   "outputs": [],
   "source": [
    "names  = ['Apple', 'Orange']\n",
    "\n",
    "# Prediction\n",
    "prediction = [150, 0]\n",
    "\n",
    "# Print prediction\n",
    "display(Markdown(\"#### Prediction Weight and Texture Data: \"), prediction)\n",
    "\n",
    "display(Markdown(\"#### Prediction: \"))\n",
    "clf.predict([prediction])[0]\n",
    "names[clf.predict([prediction])[0]]\n",
    "\n",
    "display(Markdown('<span style=\"color: #14B326\">Done!</span>'))"
   ]
  },
  {
   "cell_type": "markdown",
   "id": "84a8fcfe-c02f-4ca5-839c-af2c335d0aad",
   "metadata": {},
   "source": [
    "***\n",
    "\n",
    "## <span style='color:#DB822E'>Enter your own weight and texture type</span>\n",
    "\n",
    "See what happens when you enter different types based on the weight.\n",
    "<br><br>"
   ]
  },
  {
   "cell_type": "code",
   "execution_count": null,
   "id": "cb4297cc-e307-43f5-b5e5-38a8d5e1fdb1",
   "metadata": {
    "tags": []
   },
   "outputs": [],
   "source": [
    "weight=input(\"Enter the weight (grams):\")\n",
    "texture=input(\"Enter the texture type (0 or 1)\")\n",
    "\n",
    "prediction = [weight, texture]\n",
    "display(Markdown(\"### Prediction Weight and Texture Data: \"), prediction)\n",
    "clf.predict([prediction])[0]\n",
    "display(Markdown(\"### Prediction: \"))\n",
    "names[clf.predict([prediction])[0]]\n",
    "\n",
    "display(Markdown('<span style=\"color: #14B326\">Done!</span>'))\n"
   ]
  },
  {
   "cell_type": "markdown",
   "id": "10c14f6d-3c32-4b73-91c7-751f97ebfbb8",
   "metadata": {},
   "source": [
    "***\n",
    "\n",
    "## You have completed Activity 01.\n",
    "\n",
    "[Start Activity 02](Activity02.ipynb)"
   ]
  },
  {
   "cell_type": "code",
   "execution_count": null,
   "id": "c1f5a597-5f07-41fd-8bb7-a5716aa31912",
   "metadata": {},
   "outputs": [],
   "source": []
  }
 ],
 "metadata": {
  "kernelspec": {
   "display_name": "Python 3 (ipykernel)",
   "language": "python",
   "name": "python3"
  },
  "language_info": {
   "codemirror_mode": {
    "name": "ipython",
    "version": 3
   },
   "file_extension": ".py",
   "mimetype": "text/x-python",
   "name": "python",
   "nbconvert_exporter": "python",
   "pygments_lexer": "ipython3",
   "version": "3.10.12"
  }
 },
 "nbformat": 4,
 "nbformat_minor": 5
}
