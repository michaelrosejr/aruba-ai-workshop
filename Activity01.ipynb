{
 "cells": [
  {
   "cell_type": "markdown",
   "id": "cf14cf97-0800-4f33-a88e-61dcf78d2d54",
   "metadata": {
    "jupyter": {
     "source_hidden": true
    }
   },
   "source": [
    "# AI/ML Lab Workshop based on Josh Gordon series\n",
    "\n",
    "[Machine Learning Recipes - YouTube Series](https://www.youtube.com/watch?v=cKxRvEZd3Mw&list=PLOU2XLYxmsIIuiBfYad6rFYQU_jL2ryal&index=1)\n",
    "\n",
    "Learning AI/ML Utilizing two opensource libraries:\n",
    "* scikit-learn\n",
    "* TensorFlow\n",
    "\n"
   ]
  },
  {
   "cell_type": "markdown",
   "id": "8ba57cbc-4c33-425d-a7c3-42c7dd06087c",
   "metadata": {},
   "source": [
    "# <span style='color:#DB822E'>Apples vs Oranges</span>\n",
    "<span style=\"color:black; font-weight:500\">\n",
    "\n",
    "Ref: https://www.youtube.com/watch?v=cKxRvEZd3Mw&list=PLOU2XLYxmsIIuiBfYad6rFYQU_jL2ryal&index=1\n",
    "    \n",
    "In this lab we'll use a very simple dataset to determine if an object is an Apple or Orange.\n",
    "We'll use Supervised Learning to create a classifier by finding patterns in examples.\n",
    "</span>\n"
   ]
  },
  {
   "cell_type": "code",
   "execution_count": null,
   "id": "ef0464d1-178b-4858-baec-8ece600e8279",
   "metadata": {},
   "outputs": [],
   "source": [
    "from IPython.display import display as print, Markdown\n",
    "from IPython.display import Image\n",
    "\n",
    "from sklearn import tree"
   ]
  },
  {
   "cell_type": "markdown",
   "id": "86ac6646-8aa7-4f44-a868-2027124edcbc",
   "metadata": {},
   "source": [
    "\n",
    "We'll then load the features, labels and assign those to the value of `clf`"
   ]
  },
  {
   "cell_type": "code",
   "execution_count": null,
   "id": "06979c32-f80e-469c-932c-4ba39adbd1a5",
   "metadata": {},
   "outputs": [],
   "source": [
    "\n",
    "# This doesn't work well with Kaggle or Google CoLab\n",
    "# display(Image(filename='images/AppleOrage-TrainingData.png'))\n",
    "\n",
    "features = [[140, 1], [130, 1], [150, 0], [170, 0]]\n",
    "labels = [0, 0, 1, 1]\n",
    "clf = tree.DecisionTreeClassifier()\n",
    "clf = clf.fit(features, labels)\n",
    "\n"
   ]
  },
  {
   "cell_type": "markdown",
   "id": "ff52db62-72a5-4c76-81b6-565571c8fa9a",
   "metadata": {},
   "source": [
    "### Finally, we'll load the test data.\n",
    "The names of the fruit we'll be comparing.\n",
    "Then the values we want to predict. <br>\n",
    "In this example: 150, 0<br>\n",
    "150 for the Weight<br>\n",
    "0 for Bumpy texture<br>\n",
    "\n",
    "<div>\n",
    "    <img src=\"images/AppleOrange-TrainingData.png\" width=\"50%\" height=\"50%\"/>\n",
    "</div>\n",
    "\n"
   ]
  },
  {
   "cell_type": "code",
   "execution_count": null,
   "id": "23450ee5-9452-414b-8cb5-13e657b11a9a",
   "metadata": {},
   "outputs": [],
   "source": [
    "names  = ['Apple', 'Orange']\n",
    "\n",
    "# Prediction\n",
    "prediction = [150, 0]\n",
    "\n",
    "# Print prediction\n",
    "display(Markdown(\"#### Prediction Weight and Texture Data: \"), prediction)\n",
    "\n",
    "display(Markdown(\"#### Prediction: \"))\n",
    "clf.predict([prediction])[0]\n",
    "names[clf.predict([prediction])[0]]"
   ]
  },
  {
   "cell_type": "markdown",
   "id": "84a8fcfe-c02f-4ca5-839c-af2c335d0aad",
   "metadata": {},
   "source": [
    "## <span style='color:#DB822E'>Enter your own weight and texture type</span>\n",
    "\n",
    "See what happens when you enter different types based on the weight.\n",
    "<br><br>"
   ]
  },
  {
   "cell_type": "code",
   "execution_count": null,
   "id": "cb4297cc-e307-43f5-b5e5-38a8d5e1fdb1",
   "metadata": {},
   "outputs": [],
   "source": [
    "weight=input(\"Enter the weight (grams):\")\n",
    "texture=input(\"Enter the texture type (0 or 1)\")\n",
    "\n",
    "prediction = [weight, texture]\n",
    "display(Markdown(\"### Prediction Weight and Texture Data: \"), prediction)\n",
    "clf.predict([prediction])[0]\n",
    "display(Markdown(\"### Prediction: \"))\n",
    "names[clf.predict([prediction])[0]]\n"
   ]
  }
 ],
 "metadata": {
  "kernelspec": {
   "display_name": "Python 3 (ipykernel)",
   "language": "python",
   "name": "python3"
  },
  "language_info": {
   "codemirror_mode": {
    "name": "ipython",
    "version": 3
   },
   "file_extension": ".py",
   "mimetype": "text/x-python",
   "name": "python",
   "nbconvert_exporter": "python",
   "pygments_lexer": "ipython3",
   "version": "3.11.4"
  }
 },
 "nbformat": 4,
 "nbformat_minor": 5
}
