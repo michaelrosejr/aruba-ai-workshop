{
 "cells": [
  {
   "cell_type": "markdown",
   "id": "e6fc291f-6c25-4596-a7ad-e6d9a0b83fdb",
   "metadata": {},
   "source": [
    "# <span style='color:#DB822E'>Introduction: Apples 🍎 vs Oranges 🍊</span>\n",
    "<span style=\"color:black; font-weight:500\">\n",
    "    \n",
    "In this lab we'll use a very simple dataset to determine if an object is an Apple or Orange. This is a problem that sounds easy but could be impossible to solve without machine learning. The real world is messy and the rules we write using traditional coding methods would start to break.  For example, how would you handle black and white images of the fruit? Or how would you handle images without an apple or an orange?  Apples or Oranges is a classic \"hello world!\" machine learning problem.\n",
    "\n",
    "An algorithm is the procedure to figure out the \"rules\" for us so we don't have to code rules by hand and to do that we create a classifier. The lab uses supervised learning or a trained model to predict an apple or orange. You will create and use a classifier that will find patterns in training data. Then, when faced with previously unseen data your classifier model will make predictions on the type of fruit. The inspiration for the labs in activity 01-05 is the YouTube video series “Machine Learning Recipes with Josh Gordon.” To learn more about this lab you can watch [Hello World! Machine Learning Recipes 1](https://youtu.be/cKxRvEZd3Mw?si=K41pLPj-4WwaYR1)\n",
    "\n",
    "</span>\n",
    "\n",
    "***"
   ]
  },
  {
   "cell_type": "markdown",
   "id": "cec148bd-f393-4335-81df-8fdcb994d2cb",
   "metadata": {},
   "source": [
    "## Step 1 - Establish the sklearn Environment\n",
    "Our labs are powered by two open-source libraries called scikit learn (sklearn and Tensorflow). The first 5 Activities use sklearn and the last two are Tensorflow.  For step 1, run the code block below to import the sklearn library.\n",
    "\n",
    "**Hint: To run the code, click inside highlight the code cell and click the play button up above or use the shortcut key Shift+Enter**"
   ]
  },
  {
   "cell_type": "code",
   "execution_count": 1,
   "id": "ef0464d1-178b-4858-baec-8ece600e8279",
   "metadata": {
    "tags": []
   },
   "outputs": [
    {
     "data": {
      "text/markdown": [
       "<span style=\"color: #14B326\">Done! Step 1 is complete.</span>"
      ],
      "text/plain": [
       "<IPython.core.display.Markdown object>"
      ]
     },
     "metadata": {},
     "output_type": "display_data"
    }
   ],
   "source": [
    "from IPython.display import display, Markdown\n",
    "from IPython.display import Image\n",
    "\n",
    "from sklearn import tree\n",
    "\n",
    "display(Markdown('<span style=\"color: #14B326\">Done! Step 1 is complete.</span>'))"
   ]
  },
  {
   "cell_type": "markdown",
   "id": "86ac6646-8aa7-4f44-a868-2027124edcbc",
   "metadata": {
    "tags": []
   },
   "source": [
    "***\n",
    "\n",
    "## Step 2 - Collect Training Data, Create the Model and Algorithm\n",
    "Here we establish basic training data used in this supervised machine learning classifier.  This training data uses two features.\n",
    "1. Weight\n",
    "2. Texture (bumpy, smooth)\n",
    "\n",
    "The data set has 4 examples with two labels **(apples and oranges)**.\n",
    "\n",
    "\n",
    ">`features = [[140, smooth], [130, smooth], [150, bumpy], [170, bumpy]]`\n",
    "\n",
    ">`labels = [apple, apple, orange, orange]`\n",
    "\n",
    "Here's a picture of our training data.\n",
    "<div>\n",
    "    <img src=\"images/AppleOrange-TrainingData.png\" width=\"20%\" height=\"20%\"/>\n",
    "</div>\n",
    "\n",
    "In the actual code cell below, smooth, bumpy, apples and oranges are replace with integers `[0, 1]`\n",
    "\n",
    "Next, the code creates the model family `clf` or classifier.  The model type we use is a decision tree `clf = tree.DecisionTreeClassifier()`.  We use a learning algorithm called `fit`.   The job of `fit` is to find patterns in data.\n",
    "\n",
    "**Now it's time to run the code cell below** 👇🏽👇🏽"
   ]
  },
  {
   "cell_type": "code",
   "execution_count": null,
   "id": "06979c32-f80e-469c-932c-4ba39adbd1a5",
   "metadata": {
    "tags": []
   },
   "outputs": [],
   "source": [
    "\n",
    "features = [[140, 1], [130, 1], [150, 0], [170, 0]]\n",
    "labels = [0, 0, 1, 1]\n",
    "clf = tree.DecisionTreeClassifier()\n",
    "clf = clf.fit(features, labels)\n",
    "\n",
    "display(Markdown('<span style=\"color: #14B326\">Done! Step 2 is complete.</span>'))"
   ]
  },
  {
   "cell_type": "markdown",
   "id": "ff52db62-72a5-4c76-81b6-565571c8fa9a",
   "metadata": {},
   "source": [
    "***\n",
    "\n",
    "## Step 3 - Test the Model (Make a Prediction)\n",
    "\n",
    "Now that we have a trained classifier model it's time to \"take it for a spin\" and see the model make a prediction.  In this code cell, we will use the `predict` function to feed the model inputs of 150 grams and bumpy `[150, 0]`.  Let's think about this, based on those inputs and the image above can you guess what the model will predict? Apple or Orange?  **Let's run the code cell below and see if you were right.**\n"
   ]
  },
  {
   "cell_type": "code",
   "execution_count": null,
   "id": "23450ee5-9452-414b-8cb5-13e657b11a9a",
   "metadata": {
    "tags": []
   },
   "outputs": [],
   "source": [
    "names  = ['Apple', 'Orange']\n",
    "\n",
    "# Prediction\n",
    "prediction = [150, 0]\n",
    "\n",
    "# Print prediction\n",
    "display(Markdown(\"#### Prediction Weight and Texture Data: \"), prediction)\n",
    "\n",
    "display(Markdown(\"#### Prediction: \"))\n",
    "clf.predict([prediction])[0]\n",
    "print(names[clf.predict([prediction])[0]])\n",
    "\n",
    "display(Markdown('<span style=\"color: #14B326\">Done! Congraulations! You have just mastered your first ML program!! On to the final step.</span>'))"
   ]
  },
  {
   "cell_type": "markdown",
   "id": "84a8fcfe-c02f-4ca5-839c-af2c335d0aad",
   "metadata": {},
   "source": [
    "***\n",
    "\n",
    "## Step 4 - Experimentation\n",
    "\n",
    "In the previous code cell, the code was hard coded with the inputs `[150, 0]`.  Now, in this final step you can experiment on your own.  The code will prompt you to enter your own values for weight and texture.  Try a few different inputs to see if you can model to make varied predictions.  Enjoy!"
   ]
  },
  {
   "cell_type": "code",
   "execution_count": null,
   "id": "cb4297cc-e307-43f5-b5e5-38a8d5e1fdb1",
   "metadata": {
    "tags": []
   },
   "outputs": [],
   "source": [
    "weight=input(\"Enter the weight (grams):\")\n",
    "texture=input(\"Enter the texture type (0 or 1)\")\n",
    "\n",
    "prediction = [weight, texture]\n",
    "display(Markdown(\"### Prediction Weight and Texture Data: \"), prediction)\n",
    "clf.predict([prediction])[0]\n",
    "display(Markdown(\"### Prediction: \"))\n",
    "print(names[clf.predict([prediction])[0]])\n",
    "\n",
    "display(Markdown('<span style=\"color: #14B326\">Done! Step 4 is complete.</span>'))\n"
   ]
  },
  {
   "cell_type": "markdown",
   "id": "10c14f6d-3c32-4b73-91c7-751f97ebfbb8",
   "metadata": {},
   "source": [
    "***\n",
    "\n",
    "## You have completed Activity 01.\n",
    "\n",
    "[Start Activity 02](Activity02.ipynb)"
   ]
  }
 ],
 "metadata": {
  "kernelspec": {
   "display_name": "Python 3 (ipykernel)",
   "language": "python",
   "name": "python3"
  },
  "language_info": {
   "codemirror_mode": {
    "name": "ipython",
    "version": 3
   },
   "file_extension": ".py",
   "mimetype": "text/x-python",
   "name": "python",
   "nbconvert_exporter": "python",
   "pygments_lexer": "ipython3",
   "version": "3.11.5"
  }
 },
 "nbformat": 4,
 "nbformat_minor": 5
}
