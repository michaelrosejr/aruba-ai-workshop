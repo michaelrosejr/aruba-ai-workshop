{
 "cells": [
  {
   "cell_type": "markdown",
   "id": "667783be-7af3-4edf-823a-6c36398661ae",
   "metadata": {},
   "source": [
    "## <span style='color:#DB822E'>Writing our own Classifier</span>\n",
    "\n",
    "Ref: https://www.youtube.com/watch?v=AoeEHqVSNOw&t=210s\n",
    "\n",
    "Using what we have learned so far, to write our own classifier from scratch. We will use the K-Nearnst Neighbors from the Scrappy module, which is one of the easiest classifiers avaialble. We will train our model using features and splitting the dataset in half. \n",
    "\n",
    "<div>\n",
    "    <img src=\"images/KNeighborsClassifier.png\" width=\"50%\" height=\"50%\"/>\n",
    "</div>\n",
    "\n",
    "Using the same code from the previous lesson. We will comment out that code and write our own classifier. The rest of the pipeline will stay exactly the same."
   ]
  },
  {
   "cell_type": "code",
   "execution_count": 1,
   "id": "5793205c-aa8f-495a-b3ad-9f4f98309411",
   "metadata": {},
   "outputs": [
    {
     "data": {
      "text/plain": [
       "0.9866666666666667"
      ]
     },
     "metadata": {},
     "output_type": "display_data"
    }
   ],
   "source": [
    "\n",
    "from IPython.display import display as print\n",
    "\n",
    "from scipy.spatial import distance\n",
    "from sklearn import datasets\n",
    "from sklearn.metrics import accuracy_score\n",
    "\n",
    "def euc(a, b):\n",
    "    return distance.euclidean(a, b)\n",
    "\n",
    "\n",
    "class ScrappyKNN():\n",
    "    \"\"\"\n",
    "    Barebones KNN\n",
    "    \"\"\"\n",
    "\n",
    "    def fit(self, X_train, y_train):\n",
    "        \"\"\"\n",
    "        Takes features and labels for training set as input\n",
    "        :param X_train:\n",
    "        :param y_train:\n",
    "        :return:\n",
    "        \"\"\"\n",
    "        self.X_train = X_train\n",
    "        self.y_train = y_train\n",
    "\n",
    "    def predict(self, X_test):\n",
    "        \"\"\"\n",
    "        Receives features for testing data\n",
    "        Output predictions for labels\n",
    "        :param X_test:\n",
    "        :return:\n",
    "        \"\"\"\n",
    "        predictions = []\n",
    "        for row in X_test:\n",
    "            # label = random.choice(self.y_train)  # Random decision\n",
    "            label = self.closest(row)\n",
    "            predictions.append(label)\n",
    "\n",
    "        return predictions\n",
    "\n",
    "    def closest(self, row):\n",
    "        \"\"\"\n",
    "        Find the closest training point\n",
    "        :param row:\n",
    "        :return:\n",
    "        \"\"\"\n",
    "        # Distance from test point to first training point\n",
    "        best_dist = euc(row, self.X_train[0])  # Shortest distance found so far\n",
    "        best_index = 0  # index of closest training point\n",
    "        for i in range(1, len(self.X_train)):  # Iterate over all other training points\n",
    "            dist = euc(row, self.X_train[i])\n",
    "            if dist < best_dist:  # Found closer, update\n",
    "                best_dist = dist\n",
    "                best_index = i\n",
    "        return self.y_train[best_index]  # closest example\n",
    "\n",
    "from sklearn import datasets\n",
    "\n",
    "iris = datasets.load_iris()\n",
    "\n",
    "X = iris.data\n",
    "y = iris.target\n",
    "\n",
    "from sklearn.model_selection import train_test_split\n",
    "\n",
    "X_train, X_test, y_train, y_test = train_test_split(X, y, test_size=0.5)\n",
    "\n",
    "# from sklearn.neighbors import KNeighborsClassifier\n",
    "my_classifier = ScrappyKNN()\n",
    "\n",
    "my_classifier.fit(X_train, y_train)\n",
    "\n",
    "predictions = my_classifier.predict(X_test)\n",
    "\n",
    "from sklearn.metrics import accuracy_score\n",
    "\n",
    "print(accuracy_score(y_test, predictions))\n",
    "\n"
   ]
  },
  {
   "cell_type": "code",
   "execution_count": null,
   "id": "51807c44-ff71-4109-8ea2-91e0ced17814",
   "metadata": {},
   "outputs": [],
   "source": []
  }
 ],
 "metadata": {
  "kernelspec": {
   "display_name": "local-venv-kernel",
   "language": "python",
   "name": "local-venv-kernel"
  },
  "language_info": {
   "codemirror_mode": {
    "name": "ipython",
    "version": 3
   },
   "file_extension": ".py",
   "mimetype": "text/x-python",
   "name": "python",
   "nbconvert_exporter": "python",
   "pygments_lexer": "ipython3",
   "version": "3.10.3"
  }
 },
 "nbformat": 4,
 "nbformat_minor": 5
}
