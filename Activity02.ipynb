{
 "cells": [
  {
   "cell_type": "markdown",
   "id": "83b727a9-c539-49d2-8c1e-609984aab5f0",
   "metadata": {},
   "source": [
    "## <span style='color:#DB822E'>This lession requires graphviz to be installed</span>\n",
    "\n",
    "Ref: https://www.youtube.com/watch?v=tNa99PG8hR8&list=PLOU2XLYxmsIIuiBfYad6rFYQU_jL2ryal&index=2\n",
    "\n",
    "On the users workstation\n",
    "\n",
    "```\n",
    "mac: brew install graphviz\n",
    "ubuntu: sudo apt-get install graphviz\n",
    "windows: ???\n",
    "```\n",
    "\n",
    "We need to install a few packages for the his lab. \n",
    "The first will be Python pandas used to parse large amounts of data\n",
    "The second will be Python <sklearn module>[https://scikit-learn.org/stable/], which is a predicitive data analyis module.\n",
    "<br /><br />\n",
    "\n"
   ]
  },
  {
   "cell_type": "markdown",
   "id": "c6c224ef-8d95-4eea-92e8-640aed515e0f",
   "metadata": {},
   "source": [
    "## <font color='#DB822E'>Configure Python\n",
    "\n",
    "We load the Python modules for Jupyter Lab, Panadas and the `sklearn` datasets\n",
    "<br />\n",
    "<br />\n",
    "\n"
   ]
  },
  {
   "cell_type": "code",
   "execution_count": null,
   "id": "c7887752-c907-442d-bdb8-9d62d3c002a5",
   "metadata": {},
   "outputs": [],
   "source": [
    "# Import Jupyter Display module for better data output\n",
    "from IPython.display import display, Markdown, Image\n",
    "import pandas as pd\n",
    "import numpy as np\n",
    "\n"
   ]
  },
  {
   "cell_type": "markdown",
   "id": "40b5dfbd-522f-44a8-9ef3-c21989cc13ed",
   "metadata": {},
   "source": [
    "## <font color='#DB822E'>Load the datasets\n",
    "We load the sklearn Python module and the Iris flower datasets.\n",
    "We then print the feature and target names to confirm the datasets are loaded.\n",
    "<br> \n",
    "The `Sepal` is the (usually) the green leaf of the flower<br>\n",
    "The `Petal` is the non-green leaf/petal of the flower<br>\n",
    "<br>"
   ]
  },
  {
   "cell_type": "code",
   "execution_count": null,
   "id": "5924a939-8516-4cd1-b1d1-524eaa02c06e",
   "metadata": {},
   "outputs": [],
   "source": [
    "from sklearn.datasets import load_iris\n",
    "from sklearn import tree\n",
    "\n",
    "iris = load_iris()\n",
    "\n",
    "display(Markdown(\"### <font color='#DB822E'>Features Names:\"))\n",
    "display(iris.feature_names)\n",
    "\n",
    "display(Markdown(\"### <font color='#DB822E'>Target Names: \"))\n",
    "for types in iris.target_names:\n",
    "    display(types)\n"
   ]
  },
  {
   "cell_type": "markdown",
   "id": "e67a3580-0248-4946-bffa-19faccc93c4d",
   "metadata": {},
   "source": [
    "<br>\n",
    "Let's print out entire dataset\n",
    "<br><br>"
   ]
  },
  {
   "cell_type": "code",
   "execution_count": null,
   "id": "97b20523-8e16-4918-9b60-b3923a1e63d9",
   "metadata": {
    "jupyter": {
     "outputs_hidden": true
    }
   },
   "outputs": [],
   "source": [
    "# iris_data = []\n",
    "# for i in range(len(iris.target)):\n",
    "#     iris_data.append(\n",
    "#         {\"Example\": i, \"Label\": iris.target[i], \"Features\": iris.data[i]}\n",
    "#     )\n",
    "\n",
    "# df = pd.DataFrame(iris_data)\n",
    "# display(HTML(df.to_html(index=False)))\n",
    "\n",
    "for i in range(len(iris.target)):\n",
    "    display(f\"Example {i}: label {iris.target[i]}: features {iris.data[i]}\")\n",
    "\n",
    "# display(iris.data[0])\n"
   ]
  },
  {
   "cell_type": "markdown",
   "id": "f6c96e91-8c2a-4aaf-9f0f-4c40dc2708a6",
   "metadata": {},
   "source": [
    "\n",
    "### <span style='color:#DB822E'>Print out entire dataset with target names instead of index</span>\n",
    "<br>\n"
   ]
  },
  {
   "cell_type": "code",
   "execution_count": null,
   "id": "775892ec-bf6b-429c-bebb-e4ef94e5d142",
   "metadata": {
    "jupyter": {
     "outputs_hidden": true
    }
   },
   "outputs": [],
   "source": [
    "\n",
    "for i in range(len(iris.target)):\n",
    "    display(f\"Example {i}: label {iris.target_names[iris.target[i]]}({iris.target[i]}): features {iris.data[i]}\")"
   ]
  },
  {
   "cell_type": "markdown",
   "id": "4b18cd76-29c7-425e-b1e2-3816422064dd",
   "metadata": {},
   "source": [
    "## <span style='color:#DB822E'>Entering our own data</span>\n",
    "\n",
    "We'll now enter our own test data. We'll start by removing any septal, petal info in the dataset.\n",
    "This will ensure we'll get the results we intended. \n",
    "Then enter our test index data. [0, 50, 100]\n",
    "\n",
    "Then print the expected results.\n",
    "\n"
   ]
  },
  {
   "cell_type": "code",
   "execution_count": null,
   "id": "64894bf8-6fbe-41d2-890f-ba79f710e173",
   "metadata": {},
   "outputs": [],
   "source": [
    "\n",
    "# iris = load_iris()\n",
    "test_idx = [0, 50, 100]\n",
    "\n",
    "# training data\n",
    "train_target = np.delete(iris.target, test_idx)\n",
    "train_data = np.delete(iris.data, test_idx, axis=0)\n",
    "\n",
    "# testing data\n",
    "test_target = iris.target[test_idx]\n",
    "test_data = iris.data[test_idx]\n",
    "\n",
    "\n",
    "\n",
    "# What to expect\n",
    "display(test_target)"
   ]
  },
  {
   "cell_type": "markdown",
   "id": "d755061b-2e2f-4a95-a2cb-35983219fbb1",
   "metadata": {},
   "source": [
    "### <span style='color:#DB822E'> What does the model predict?</font>\n",
    "\n",
    "With text data enter, we now train the model with the new dataset.\n",
    "Using the test data we entered above, we then predict what we should get based on that data\n",
    "<br><br>\n"
   ]
  },
  {
   "cell_type": "code",
   "execution_count": null,
   "id": "5ec042df-f29b-42e5-9e47-a654cc6a92ac",
   "metadata": {},
   "outputs": [],
   "source": [
    "# create new classifier\n",
    "clf = tree.DecisionTreeClassifier()\n",
    "# train on training data\n",
    "clf.fit(train_data, train_target)\n",
    "\n",
    "# What the tree predicts\n",
    "display(clf.predict(test_data))"
   ]
  },
  {
   "cell_type": "markdown",
   "id": "1230f95a-5881-410c-ac6d-677ec78438f3",
   "metadata": {},
   "source": [
    "###  <span style='color:#DB822E'> Visualize the data using an image</span>\n",
    "\n",
    "Utilizing the Graphviz Dot language module to print out a tree diagram of the Iris petal/sepal data\n",
    "<br>"
   ]
  },
  {
   "cell_type": "code",
   "execution_count": null,
   "id": "03a7a8df-c626-4a05-b4bd-e1a12aaf8134",
   "metadata": {},
   "outputs": [],
   "source": [
    "# Visualize\n",
    "# from scikit decision tree tutorial: http://scikit-learn.org/stable/modules/tree.html\n",
    "from six import StringIO\n",
    "import pydotplus\n",
    "\n",
    "dot_data = StringIO()\n",
    "tree.export_graphviz(clf, out_file=dot_data,\n",
    "                     feature_names=iris.feature_names,\n",
    "                     class_names=iris.target_names,\n",
    "                     filled=True, rounded=True,\n",
    "                     impurity=False)\n",
    "\n",
    "graph = pydotplus.graph_from_dot_data(dot_data.getvalue())\n",
    "\n",
    "graph.write_png(\"images/iris.png\")\n",
    "display(Image(filename=\"images/iris.png\"))\n",
    "\n"
   ]
  },
  {
   "cell_type": "code",
   "execution_count": null,
   "id": "f8556e03-b297-4c44-b3a8-91fc5abd7396",
   "metadata": {},
   "outputs": [],
   "source": []
  }
 ],
 "metadata": {
  "kernelspec": {
   "display_name": "local-venv-kernel",
   "language": "python",
   "name": "local-venv-kernel"
  },
  "language_info": {
   "codemirror_mode": {
    "name": "ipython",
    "version": 3
   },
   "file_extension": ".py",
   "mimetype": "text/x-python",
   "name": "python",
   "nbconvert_exporter": "python",
   "pygments_lexer": "ipython3",
   "version": "3.10.3"
  }
 },
 "nbformat": 4,
 "nbformat_minor": 5
}
