{
 "cells": [
  {
   "cell_type": "markdown",
   "id": "83b727a9-c539-49d2-8c1e-609984aab5f0",
   "metadata": {},
   "source": [
    "## <span style='color:#DB822E'>Activity 2: Supervised Learning</span>\n",
    "\n",
    "\n",
    "In this lab we will classify different species of iris flowers based on the classic Iris data set (https://en.wikipedia.org/wiki/Iris_flower_data_set ). The species are setosa, versicolor and virginica.  This dataset is a bit more complex and interesting than the data set used in activity 01.  This lab will emphasize the importance of test data to validate the model and also give a cool graphical representation of the decision tree model.\n",
    "\n",
    "This lab is inspired by the YouTube video series “Machine Learning Recipes with Josh Gordon” and specifically this video: https://youtu.be/tNa99PG8hR8?si=wyU-efpPqHKYW1Wp \n",
    "\n",
    "\n",
    "***"
   ]
  },
  {
   "cell_type": "markdown",
   "id": "f46c03f3-9be8-4275-a227-213135ea0b80",
   "metadata": {
    "tags": []
   },
   "source": [
    "## <font color='#DB822E'>Configure Python\n",
    "\n",
    "We load the Python modules for Jupyter Lab and Pandas.\n",
    "\n"
   ]
  },
  {
   "cell_type": "code",
   "execution_count": null,
   "id": "c7887752-c907-442d-bdb8-9d62d3c002a5",
   "metadata": {
    "tags": []
   },
   "outputs": [],
   "source": [
    "# Import Jupyter Display module for better data output\n",
    "from IPython.display import display, Markdown, Image\n",
    "import pandas as pd\n",
    "import numpy as np\n",
    "\n",
    "display(Markdown('<span style=\"color: #14B326\">Done!</span>'))\n",
    "\n"
   ]
  },
  {
   "cell_type": "markdown",
   "id": "40b5dfbd-522f-44a8-9ef3-c21989cc13ed",
   "metadata": {},
   "source": [
    "***\n",
    "\n",
    "\n",
    "## <font color='#DB822E'>Load the datasets\n",
    "We load the sklearn Python module and the Iris flower datasets.\n",
    "We then print the feature and target names to confirm the datasets are loaded.\n",
    "<br> \n",
    "The `Sepal` is the (usually) the green leaf of the flower<br>\n",
    "The `Petal` is the non-green leaf/petal of the flower<br>\n",
    "<br>\n",
    "    \n",
    "### This may take a few second to run. Check the status indicator *, to see if its still running or not."
   ]
  },
  {
   "cell_type": "code",
   "execution_count": null,
   "id": "5924a939-8516-4cd1-b1d1-524eaa02c06e",
   "metadata": {
    "tags": []
   },
   "outputs": [],
   "source": [
    "from sklearn.datasets import load_iris\n",
    "from sklearn import tree\n",
    "\n",
    "iris = load_iris()\n",
    "\n",
    "display(Markdown(\"### <font color='#DB822E'>Features Names:\"))\n",
    "display(iris.feature_names)\n",
    "\n",
    "display(Markdown(\"### <font color='#DB822E'>Target Names: \"))\n",
    "for types in iris.target_names:\n",
    "    display(types)\n",
    "\n",
    "display(Markdown('<span style=\"color: #14B326\">Done!</span>'))\n"
   ]
  },
  {
   "cell_type": "markdown",
   "id": "e67a3580-0248-4946-bffa-19faccc93c4d",
   "metadata": {},
   "source": [
    "*** \n",
    "\n",
    "## <font color='#DB822E'>Next we'll print out entire dataset\n",
    "\n",
    "The [Iris Flower Data Set](https://en.wikipedia.org/wiki/Iris_flower_data_set#Data_set)  is availabile on [Wikipedia](https://en.wikipedia.org/wiki/Iris_flower_data_set#Data_set) as well. It may be easier to view the data on [Wikipedia](https://en.wikipedia.org/wiki/Iris_flower_data_set#Data_set).\n",
    "<br><br>"
   ]
  },
  {
   "cell_type": "code",
   "execution_count": null,
   "id": "97b20523-8e16-4918-9b60-b3923a1e63d9",
   "metadata": {
    "tags": []
   },
   "outputs": [],
   "source": [
    "# iris_data = []\n",
    "# for i in range(len(iris.target)):\n",
    "#     iris_data.append(\n",
    "#         {\"Example\": i, \"Label\": iris.target[i], \"Features\": iris.data[i]}\n",
    "#     )\n",
    "\n",
    "# df = pd.DataFrame(iris_data)\n",
    "# display(HTML(df.to_html(index=False)))\n",
    "\n",
    "for i in range(len(iris.target)):\n",
    "    display(f\"Example {i}: label {iris.target[i]}: features {iris.data[i]}\")\n",
    "\n",
    "# display(iris.data[0])\n",
    "\n",
    "display(Markdown('<span style=\"color: #14B326\">Done!</span>'))\n",
    "\n"
   ]
  },
  {
   "cell_type": "markdown",
   "id": "f6c96e91-8c2a-4aaf-9f0f-4c40dc2708a6",
   "metadata": {
    "tags": []
   },
   "source": [
    "\n",
    "### <span style='color:#DB822E'>Print out entire dataset with target names instead of index</span>\n",
    "<br>\n"
   ]
  },
  {
   "cell_type": "code",
   "execution_count": null,
   "id": "775892ec-bf6b-429c-bebb-e4ef94e5d142",
   "metadata": {
    "tags": []
   },
   "outputs": [],
   "source": [
    "\n",
    "for i in range(len(iris.target)):\n",
    "    display(f\"Example {i}: label {iris.target_names[iris.target[i]]}({iris.target[i]}): features {iris.data[i]}\")\n",
    "    \n",
    "display(Markdown('<span style=\"color: #14B326\">Done!</span>'))\n"
   ]
  },
  {
   "cell_type": "markdown",
   "id": "1fd2f091-7030-4f9f-8bb4-f38c06020a9e",
   "metadata": {
    "tags": []
   },
   "source": [
    "## <span style='color:#DB822E'>Create Test Data Set by Removing One Example of Each Flower</span>\n",
    "\n",
    "The majority of this data set is used to train the model.  However, we also want to have a known set of test data to ensure our model is working.  Therefore, we will remove one example of each type of flower.  The data is organized in groups of 50.\n",
    "\n",
    "Setosa is 0-49\n",
    "Versicolor is 50-99\n",
    "Virginica starts at 100.\n",
    "\n",
    "In this code block we will delete 0, 50, 100 so that 1 of each species is removed from training data and can be used later for testing.\n",
    "\n",
    "\n",
    "The testing data is helpful as you're training your model to ensure the dataset is valid.\n",
    "\n",
    "Then print the expected results\n",
    "\n"
   ]
  },
  {
   "cell_type": "code",
   "execution_count": null,
   "id": "be18b461-46d9-4567-9144-3eaddab598f7",
   "metadata": {
    "tags": []
   },
   "outputs": [],
   "source": [
    "\n",
    "# iris = load_iris()\n",
    "test_idx = [0, 50, 100]\n",
    "\n",
    "# training data\n",
    "train_target = np.delete(iris.target, test_idx)\n",
    "train_data = np.delete(iris.data, test_idx, axis=0)\n",
    "\n",
    "# testing data\n",
    "test_target = iris.target[test_idx]\n",
    "test_data = iris.data[test_idx]\n",
    "\n",
    "\n",
    "\n",
    "# What to expect\n",
    "display(Markdown(\"This will show the array of the test data. It will be relevant in the next section:\"))\n",
    "\n",
    "display(test_target)\n",
    "\n",
    "display(Markdown('<span style=\"color: #14B326\">Done!</span>'))\n"
   ]
  },
  {
   "cell_type": "markdown",
   "id": "d755061b-2e2f-4a95-a2cb-35983219fbb1",
   "metadata": {},
   "source": [
    "### <span style='color:#DB822E'> What does the model predict?</font>\n",
    "\n",
    "We now train the model with the new dataset.\n",
    "Using the test data we entered above, we then predict what we should get based on that data\n",
    "<br><br>\n"
   ]
  },
  {
   "cell_type": "code",
   "execution_count": null,
   "id": "5ec042df-f29b-42e5-9e47-a654cc6a92ac",
   "metadata": {
    "tags": []
   },
   "outputs": [],
   "source": [
    "# create new classifier\n",
    "clf = tree.DecisionTreeClassifier()\n",
    "# train on training data\n",
    "clf.fit(train_data, train_target)\n",
    "\n",
    "# What the tree predicts\n",
    "display(Markdown(\"This should match the output in the previous section:\"))\n",
    "display(clf.predict(test_data))\n",
    "\n",
    "display(Markdown('<span style=\"color: #14B326\">Done!</span>'))\n"
   ]
  },
  {
   "cell_type": "markdown",
   "id": "1230f95a-5881-410c-ac6d-677ec78438f3",
   "metadata": {},
   "source": [
    "***\n",
    "\n",
    "###  <span style='color:#DB822E'> Visualize the data using an image</span>\n",
    "\n",
    "Utilizing the Graphviz Dot language module to print out a tree diagram of the Iris petal/sepal data\n",
    "<br>"
   ]
  },
  {
   "cell_type": "code",
   "execution_count": null,
   "id": "03a7a8df-c626-4a05-b4bd-e1a12aaf8134",
   "metadata": {
    "tags": []
   },
   "outputs": [],
   "source": [
    "# Visualize\n",
    "# from scikit decision tree tutorial: http://scikit-learn.org/stable/modules/tree.html\n",
    "from six import StringIO\n",
    "import pydotplus\n",
    "\n",
    "dot_data = StringIO()\n",
    "tree.export_graphviz(clf, out_file=dot_data,\n",
    "                     feature_names=iris.feature_names,\n",
    "                     class_names=iris.target_names,\n",
    "                     filled=True, rounded=True,\n",
    "                     impurity=False)\n",
    "\n",
    "graph = pydotplus.graph_from_dot_data(dot_data.getvalue())\n",
    "\n",
    "graph.write_png(\"images/iris.png\")\n",
    "display(Image(filename=\"images/iris.png\"))\n",
    "\n",
    "display(Markdown('<span style=\"color: #14B326\">Done!</span>'))\n"
   ]
  },
  {
   "cell_type": "markdown",
   "id": "4fb58193-6dec-481a-a7fc-9bcb230e2898",
   "metadata": {},
   "source": [
    "## You have completed Activity 02.\n",
    "\n",
    "[Start Activity 03](Activity03.ipynb)"
   ]
  }
 ],
 "metadata": {
  "kernelspec": {
   "display_name": "Python 3 (ipykernel)",
   "language": "python",
   "name": "python3"
  },
  "language_info": {
   "codemirror_mode": {
    "name": "ipython",
    "version": 3
   },
   "file_extension": ".py",
   "mimetype": "text/x-python",
   "name": "python",
   "nbconvert_exporter": "python",
   "pygments_lexer": "ipython3",
   "version": "3.10.12"
  }
 },
 "nbformat": 4,
 "nbformat_minor": 5
}
