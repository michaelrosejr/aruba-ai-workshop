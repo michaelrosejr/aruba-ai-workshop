{
 "cells": [
  {
   "cell_type": "markdown",
   "id": "83b727a9-c539-49d2-8c1e-609984aab5f0",
   "metadata": {
    "jp-MarkdownHeadingCollapsed": true
   },
   "source": [
    "## <span style='color:#DB822E'>Activity 2: Visualizing a Decision Tree</span>\n",
    "\n",
    "In the Activity 01 we used a decision tree as a classifier. There are many different types of classifiers but we chose decision tree because they are easy to read and understand. Decision Trees are one of the few models that are interpretable meaning we can understand exactly why a classifier predicts an answer. In this lab we will add modules to the environment that will allow us to visualize the decision tree.\n",
    "\n",
    "We will move on from the 🍎 and 🍊 data for now. In this activity we will use a well-known dataset used in beginner ML code projects called [Iris](https://en.wikipedia.org/wiki/Iris_flower_data_set). This data evaluates 4 different features of an Iris to predict its specific species from one of three choices.\n",
    "\n",
    "1. setosa\n",
    "2. versicolor\n",
    "3. virginica\n",
    "\n",
    "This dataset is a bit more complex and interesting than the data set used in activity 01. This lab will emphasize the importance of test data to validate the model and deliver a cool graphical representation of the decision tree model. In this lab we will\n",
    "\n",
    "1. Import a data set\n",
    "2. Train a classifier\n",
    "3. Predict a label for new flower\n",
    "4. Visualize the decision tree\n",
    "\n",
    "To learn more about this lab you can watch [Visualize a Decision Tree Machine Learning Recipes 2](https://youtu.be/tNa99PG8hR8?si=IFuJcyxgLf8htxNz)\n",
    "\n",
    "\n",
    "***"
   ]
  },
  {
   "cell_type": "markdown",
   "id": "f46c03f3-9be8-4275-a227-213135ea0b80",
   "metadata": {
    "tags": []
   },
   "source": [
    "## Step 1 Configure Python\n",
    "\n",
    "First, we need to further prepare our python environment by importing a two additional libraires required by this lab (pandas and NumPy).  \n",
    "- `Pandas` is a very popular python library for working with data.  Since, we are importing data we need this library.\n",
    "- `NumPy` is an open-source Python library that facilitates efficient numerical operations on large quantities of data. \n",
    "\n",
    "Let's get started with lab by running the code cell just below 👇🏾 to load Pandas and NumPy libraries. **Hint:  highlight the cell and try Shift+Enter**\n"
   ]
  },
  {
   "cell_type": "code",
   "execution_count": 1,
   "id": "c7887752-c907-442d-bdb8-9d62d3c002a5",
   "metadata": {
    "tags": []
   },
   "outputs": [
    {
     "data": {
      "text/markdown": [
       "<span style=\"color: #14B326\">Done! On to Step 2</span>"
      ],
      "text/plain": [
       "<IPython.core.display.Markdown object>"
      ]
     },
     "metadata": {},
     "output_type": "display_data"
    }
   ],
   "source": [
    "# Import Jupyter Display module for better data output\n",
    "from IPython.display import display, Markdown, Image\n",
    "import pandas as pd\n",
    "import numpy as np\n",
    "\n",
    "display(Markdown('<span style=\"color: #14B326\">Done! On to Step 2</span>'))\n",
    "\n"
   ]
  },
  {
   "cell_type": "markdown",
   "id": "40b5dfbd-522f-44a8-9ef3-c21989cc13ed",
   "metadata": {},
   "source": [
    "***\n",
    "\n",
    "## Step 2 - Load the datasets\n",
    "Sci-kit-learn is a great tool for ML learning because it provides many sample data sets (e.g. Iris) and utilities for downloading.  In this step we will import and load the data.\n",
    "\n",
    "- `feature_names` is the variable for the 4 features inlcuded in the dataset\n",
    "\n",
    "1. `sepal length (cm)`\n",
    "2. `sepal width (cm)`\n",
    "3. `petal length (cm)`\n",
    "4. `petal width (cm)`\n",
    "\n",
    "**Terminology:**\n",
    "\n",
    "Sepal\n",
    ":is the (usually) the green leaf of the flower<br>\n",
    "\n",
    "Petal\n",
    ": is the non-green leaf/petal of the flower<br>\n",
    "\n",
    "- `target_names` is the variable for the labels (the 3 different species of Iris flower)\n",
    "\n",
    "1. `setosa`\n",
    "2. `versicolor`\n",
    "3. `virginica`\n",
    "\n",
    "We then print the feature and target (label) names to confirm the datasets are loaded. Goa ahead and try it now 👇🏾.\n",
    "\n",
    "    \n",
    "**Tip: This step may take a moment to run and complete. Remember a status indicator `[*]:`, indicates the code cell is still running.**"
   ]
  },
  {
   "cell_type": "code",
   "execution_count": 2,
   "id": "5924a939-8516-4cd1-b1d1-524eaa02c06e",
   "metadata": {
    "tags": []
   },
   "outputs": [
    {
     "data": {
      "text/markdown": [
       "### <font color='#DB822E'>Features Names:"
      ],
      "text/plain": [
       "<IPython.core.display.Markdown object>"
      ]
     },
     "metadata": {},
     "output_type": "display_data"
    },
    {
     "data": {
      "text/plain": [
       "['sepal length (cm)',\n",
       " 'sepal width (cm)',\n",
       " 'petal length (cm)',\n",
       " 'petal width (cm)']"
      ]
     },
     "metadata": {},
     "output_type": "display_data"
    },
    {
     "data": {
      "text/markdown": [
       "### <font color='#DB822E'>Label Names: "
      ],
      "text/plain": [
       "<IPython.core.display.Markdown object>"
      ]
     },
     "metadata": {},
     "output_type": "display_data"
    },
    {
     "data": {
      "text/plain": [
       "'setosa'"
      ]
     },
     "metadata": {},
     "output_type": "display_data"
    },
    {
     "data": {
      "text/plain": [
       "'versicolor'"
      ]
     },
     "metadata": {},
     "output_type": "display_data"
    },
    {
     "data": {
      "text/plain": [
       "'virginica'"
      ]
     },
     "metadata": {},
     "output_type": "display_data"
    },
    {
     "data": {
      "text/markdown": [
       "<span style=\"color: #14B326\">Done! On to Step 3.</span>"
      ],
      "text/plain": [
       "<IPython.core.display.Markdown object>"
      ]
     },
     "metadata": {},
     "output_type": "display_data"
    }
   ],
   "source": [
    "from sklearn.datasets import load_iris\n",
    "from sklearn import tree\n",
    "\n",
    "iris = load_iris()\n",
    "\n",
    "display(Markdown(\"### <font color='#DB822E'>Features Names:\"))\n",
    "display(iris.feature_names)\n",
    "\n",
    "display(Markdown(\"### <font color='#DB822E'>Label Names: \"))\n",
    "for types in iris.target_names:\n",
    "    display(types)\n",
    "\n",
    "display(Markdown('<span style=\"color: #14B326\">Done! On to Step 3.</span>'))\n"
   ]
  },
  {
   "cell_type": "markdown",
   "id": "e67a3580-0248-4946-bffa-19faccc93c4d",
   "metadata": {},
   "source": [
    "*** \n",
    "\n",
    "## Step 3 - Display the Iris Data\n",
    "\n",
    "In Step 2 we imported the Iris data and started the validation process by displaying the feature and label names. Let's finish the validation process by displaying and exploring the data.  Iris has 150 examples (records).  You can display a single line from the data with `display(iris.data[0])` \n",
    "\n",
    "Feel free to uncomment the line above to display the features from any given line (0-149) or Iris data.  Or run the code cell as is to display the entire data set."
   ]
  },
  {
   "cell_type": "code",
   "execution_count": 9,
   "id": "97b20523-8e16-4918-9b60-b3923a1e63d9",
   "metadata": {
    "tags": []
   },
   "outputs": [
    {
     "data": {
      "text/plain": [
       "array([5.1, 3.5, 1.4, 0.2])"
      ]
     },
     "metadata": {},
     "output_type": "display_data"
    },
    {
     "data": {
      "text/plain": [
       "array([4.9, 3. , 1.4, 0.2])"
      ]
     },
     "metadata": {},
     "output_type": "display_data"
    },
    {
     "data": {
      "text/plain": [
       "array([4.7, 3.2, 1.3, 0.2])"
      ]
     },
     "metadata": {},
     "output_type": "display_data"
    },
    {
     "data": {
      "text/markdown": [
       "<span style=\"color: #14B326\">Done! The data has displayed with variable names instead of the actual labels. In step 4 we will display the data with the actual labels.</span>"
      ],
      "text/plain": [
       "<IPython.core.display.Markdown object>"
      ]
     },
     "metadata": {},
     "output_type": "display_data"
    }
   ],
   "source": [
    "#for i in range(len(iris.target)):\n",
    " #   display(f\"Example {i}: label {iris.target[i]}: features {iris.data[i]}\")\n",
    "\n",
    "# UNCOMMENT THIS LINE TO SEE A SINGLE DATASET\n",
    "display(iris.data[0])\n",
    "display(iris.data[1])\n",
    "display(iris.data[2])\n",
    "\n",
    "display(Markdown('<span style=\"color: #14B326\">Done! The data has displayed with variable names instead of the actual labels. In step 4 we will display the data with the actual labels.</span>'))\n",
    "\n"
   ]
  },
  {
   "cell_type": "markdown",
   "id": "f6c96e91-8c2a-4aaf-9f0f-4c40dc2708a6",
   "metadata": {
    "tags": []
   },
   "source": [
    "***\n",
    "\n",
    "## Step 4 - Print out entire dataset with label names</span>\n",
    "\n",
    "Displaying with data with the actual labels makes it more human readable.  You will also notice that the data is ordered such that a new species starts lines 0, 50 and 100.  This is important because in upcoming step 5 we will reserve some test data for each species to use for model validation.\n",
    "\n",
    "- Example 0 begin Setosa\n",
    "- Example 50 begin Versicolor\n",
    "- Example 100 begin Virginica\n",
    "\n",
    "**Go for it!** 👇🏾"
   ]
  },
  {
   "cell_type": "code",
   "execution_count": 10,
   "id": "775892ec-bf6b-429c-bebb-e4ef94e5d142",
   "metadata": {
    "tags": []
   },
   "outputs": [
    {
     "data": {
      "text/plain": [
       "'Example 0: label setosa(0): features [5.1 3.5 1.4 0.2]'"
      ]
     },
     "metadata": {},
     "output_type": "display_data"
    },
    {
     "data": {
      "text/plain": [
       "'Example 1: label setosa(0): features [4.9 3.  1.4 0.2]'"
      ]
     },
     "metadata": {},
     "output_type": "display_data"
    },
    {
     "data": {
      "text/plain": [
       "'Example 2: label setosa(0): features [4.7 3.2 1.3 0.2]'"
      ]
     },
     "metadata": {},
     "output_type": "display_data"
    },
    {
     "data": {
      "text/plain": [
       "'Example 3: label setosa(0): features [4.6 3.1 1.5 0.2]'"
      ]
     },
     "metadata": {},
     "output_type": "display_data"
    },
    {
     "data": {
      "text/plain": [
       "'Example 4: label setosa(0): features [5.  3.6 1.4 0.2]'"
      ]
     },
     "metadata": {},
     "output_type": "display_data"
    },
    {
     "data": {
      "text/plain": [
       "'Example 5: label setosa(0): features [5.4 3.9 1.7 0.4]'"
      ]
     },
     "metadata": {},
     "output_type": "display_data"
    },
    {
     "data": {
      "text/plain": [
       "'Example 6: label setosa(0): features [4.6 3.4 1.4 0.3]'"
      ]
     },
     "metadata": {},
     "output_type": "display_data"
    },
    {
     "data": {
      "text/plain": [
       "'Example 7: label setosa(0): features [5.  3.4 1.5 0.2]'"
      ]
     },
     "metadata": {},
     "output_type": "display_data"
    },
    {
     "data": {
      "text/plain": [
       "'Example 8: label setosa(0): features [4.4 2.9 1.4 0.2]'"
      ]
     },
     "metadata": {},
     "output_type": "display_data"
    },
    {
     "data": {
      "text/plain": [
       "'Example 9: label setosa(0): features [4.9 3.1 1.5 0.1]'"
      ]
     },
     "metadata": {},
     "output_type": "display_data"
    },
    {
     "data": {
      "text/plain": [
       "'Example 10: label setosa(0): features [5.4 3.7 1.5 0.2]'"
      ]
     },
     "metadata": {},
     "output_type": "display_data"
    },
    {
     "data": {
      "text/plain": [
       "'Example 11: label setosa(0): features [4.8 3.4 1.6 0.2]'"
      ]
     },
     "metadata": {},
     "output_type": "display_data"
    },
    {
     "data": {
      "text/plain": [
       "'Example 12: label setosa(0): features [4.8 3.  1.4 0.1]'"
      ]
     },
     "metadata": {},
     "output_type": "display_data"
    },
    {
     "data": {
      "text/plain": [
       "'Example 13: label setosa(0): features [4.3 3.  1.1 0.1]'"
      ]
     },
     "metadata": {},
     "output_type": "display_data"
    },
    {
     "data": {
      "text/plain": [
       "'Example 14: label setosa(0): features [5.8 4.  1.2 0.2]'"
      ]
     },
     "metadata": {},
     "output_type": "display_data"
    },
    {
     "data": {
      "text/plain": [
       "'Example 15: label setosa(0): features [5.7 4.4 1.5 0.4]'"
      ]
     },
     "metadata": {},
     "output_type": "display_data"
    },
    {
     "data": {
      "text/plain": [
       "'Example 16: label setosa(0): features [5.4 3.9 1.3 0.4]'"
      ]
     },
     "metadata": {},
     "output_type": "display_data"
    },
    {
     "data": {
      "text/plain": [
       "'Example 17: label setosa(0): features [5.1 3.5 1.4 0.3]'"
      ]
     },
     "metadata": {},
     "output_type": "display_data"
    },
    {
     "data": {
      "text/plain": [
       "'Example 18: label setosa(0): features [5.7 3.8 1.7 0.3]'"
      ]
     },
     "metadata": {},
     "output_type": "display_data"
    },
    {
     "data": {
      "text/plain": [
       "'Example 19: label setosa(0): features [5.1 3.8 1.5 0.3]'"
      ]
     },
     "metadata": {},
     "output_type": "display_data"
    },
    {
     "data": {
      "text/plain": [
       "'Example 20: label setosa(0): features [5.4 3.4 1.7 0.2]'"
      ]
     },
     "metadata": {},
     "output_type": "display_data"
    },
    {
     "data": {
      "text/plain": [
       "'Example 21: label setosa(0): features [5.1 3.7 1.5 0.4]'"
      ]
     },
     "metadata": {},
     "output_type": "display_data"
    },
    {
     "data": {
      "text/plain": [
       "'Example 22: label setosa(0): features [4.6 3.6 1.  0.2]'"
      ]
     },
     "metadata": {},
     "output_type": "display_data"
    },
    {
     "data": {
      "text/plain": [
       "'Example 23: label setosa(0): features [5.1 3.3 1.7 0.5]'"
      ]
     },
     "metadata": {},
     "output_type": "display_data"
    },
    {
     "data": {
      "text/plain": [
       "'Example 24: label setosa(0): features [4.8 3.4 1.9 0.2]'"
      ]
     },
     "metadata": {},
     "output_type": "display_data"
    },
    {
     "data": {
      "text/plain": [
       "'Example 25: label setosa(0): features [5.  3.  1.6 0.2]'"
      ]
     },
     "metadata": {},
     "output_type": "display_data"
    },
    {
     "data": {
      "text/plain": [
       "'Example 26: label setosa(0): features [5.  3.4 1.6 0.4]'"
      ]
     },
     "metadata": {},
     "output_type": "display_data"
    },
    {
     "data": {
      "text/plain": [
       "'Example 27: label setosa(0): features [5.2 3.5 1.5 0.2]'"
      ]
     },
     "metadata": {},
     "output_type": "display_data"
    },
    {
     "data": {
      "text/plain": [
       "'Example 28: label setosa(0): features [5.2 3.4 1.4 0.2]'"
      ]
     },
     "metadata": {},
     "output_type": "display_data"
    },
    {
     "data": {
      "text/plain": [
       "'Example 29: label setosa(0): features [4.7 3.2 1.6 0.2]'"
      ]
     },
     "metadata": {},
     "output_type": "display_data"
    },
    {
     "data": {
      "text/plain": [
       "'Example 30: label setosa(0): features [4.8 3.1 1.6 0.2]'"
      ]
     },
     "metadata": {},
     "output_type": "display_data"
    },
    {
     "data": {
      "text/plain": [
       "'Example 31: label setosa(0): features [5.4 3.4 1.5 0.4]'"
      ]
     },
     "metadata": {},
     "output_type": "display_data"
    },
    {
     "data": {
      "text/plain": [
       "'Example 32: label setosa(0): features [5.2 4.1 1.5 0.1]'"
      ]
     },
     "metadata": {},
     "output_type": "display_data"
    },
    {
     "data": {
      "text/plain": [
       "'Example 33: label setosa(0): features [5.5 4.2 1.4 0.2]'"
      ]
     },
     "metadata": {},
     "output_type": "display_data"
    },
    {
     "data": {
      "text/plain": [
       "'Example 34: label setosa(0): features [4.9 3.1 1.5 0.2]'"
      ]
     },
     "metadata": {},
     "output_type": "display_data"
    },
    {
     "data": {
      "text/plain": [
       "'Example 35: label setosa(0): features [5.  3.2 1.2 0.2]'"
      ]
     },
     "metadata": {},
     "output_type": "display_data"
    },
    {
     "data": {
      "text/plain": [
       "'Example 36: label setosa(0): features [5.5 3.5 1.3 0.2]'"
      ]
     },
     "metadata": {},
     "output_type": "display_data"
    },
    {
     "data": {
      "text/plain": [
       "'Example 37: label setosa(0): features [4.9 3.6 1.4 0.1]'"
      ]
     },
     "metadata": {},
     "output_type": "display_data"
    },
    {
     "data": {
      "text/plain": [
       "'Example 38: label setosa(0): features [4.4 3.  1.3 0.2]'"
      ]
     },
     "metadata": {},
     "output_type": "display_data"
    },
    {
     "data": {
      "text/plain": [
       "'Example 39: label setosa(0): features [5.1 3.4 1.5 0.2]'"
      ]
     },
     "metadata": {},
     "output_type": "display_data"
    },
    {
     "data": {
      "text/plain": [
       "'Example 40: label setosa(0): features [5.  3.5 1.3 0.3]'"
      ]
     },
     "metadata": {},
     "output_type": "display_data"
    },
    {
     "data": {
      "text/plain": [
       "'Example 41: label setosa(0): features [4.5 2.3 1.3 0.3]'"
      ]
     },
     "metadata": {},
     "output_type": "display_data"
    },
    {
     "data": {
      "text/plain": [
       "'Example 42: label setosa(0): features [4.4 3.2 1.3 0.2]'"
      ]
     },
     "metadata": {},
     "output_type": "display_data"
    },
    {
     "data": {
      "text/plain": [
       "'Example 43: label setosa(0): features [5.  3.5 1.6 0.6]'"
      ]
     },
     "metadata": {},
     "output_type": "display_data"
    },
    {
     "data": {
      "text/plain": [
       "'Example 44: label setosa(0): features [5.1 3.8 1.9 0.4]'"
      ]
     },
     "metadata": {},
     "output_type": "display_data"
    },
    {
     "data": {
      "text/plain": [
       "'Example 45: label setosa(0): features [4.8 3.  1.4 0.3]'"
      ]
     },
     "metadata": {},
     "output_type": "display_data"
    },
    {
     "data": {
      "text/plain": [
       "'Example 46: label setosa(0): features [5.1 3.8 1.6 0.2]'"
      ]
     },
     "metadata": {},
     "output_type": "display_data"
    },
    {
     "data": {
      "text/plain": [
       "'Example 47: label setosa(0): features [4.6 3.2 1.4 0.2]'"
      ]
     },
     "metadata": {},
     "output_type": "display_data"
    },
    {
     "data": {
      "text/plain": [
       "'Example 48: label setosa(0): features [5.3 3.7 1.5 0.2]'"
      ]
     },
     "metadata": {},
     "output_type": "display_data"
    },
    {
     "data": {
      "text/plain": [
       "'Example 49: label setosa(0): features [5.  3.3 1.4 0.2]'"
      ]
     },
     "metadata": {},
     "output_type": "display_data"
    },
    {
     "data": {
      "text/plain": [
       "'Example 50: label versicolor(1): features [7.  3.2 4.7 1.4]'"
      ]
     },
     "metadata": {},
     "output_type": "display_data"
    },
    {
     "data": {
      "text/plain": [
       "'Example 51: label versicolor(1): features [6.4 3.2 4.5 1.5]'"
      ]
     },
     "metadata": {},
     "output_type": "display_data"
    },
    {
     "data": {
      "text/plain": [
       "'Example 52: label versicolor(1): features [6.9 3.1 4.9 1.5]'"
      ]
     },
     "metadata": {},
     "output_type": "display_data"
    },
    {
     "data": {
      "text/plain": [
       "'Example 53: label versicolor(1): features [5.5 2.3 4.  1.3]'"
      ]
     },
     "metadata": {},
     "output_type": "display_data"
    },
    {
     "data": {
      "text/plain": [
       "'Example 54: label versicolor(1): features [6.5 2.8 4.6 1.5]'"
      ]
     },
     "metadata": {},
     "output_type": "display_data"
    },
    {
     "data": {
      "text/plain": [
       "'Example 55: label versicolor(1): features [5.7 2.8 4.5 1.3]'"
      ]
     },
     "metadata": {},
     "output_type": "display_data"
    },
    {
     "data": {
      "text/plain": [
       "'Example 56: label versicolor(1): features [6.3 3.3 4.7 1.6]'"
      ]
     },
     "metadata": {},
     "output_type": "display_data"
    },
    {
     "data": {
      "text/plain": [
       "'Example 57: label versicolor(1): features [4.9 2.4 3.3 1. ]'"
      ]
     },
     "metadata": {},
     "output_type": "display_data"
    },
    {
     "data": {
      "text/plain": [
       "'Example 58: label versicolor(1): features [6.6 2.9 4.6 1.3]'"
      ]
     },
     "metadata": {},
     "output_type": "display_data"
    },
    {
     "data": {
      "text/plain": [
       "'Example 59: label versicolor(1): features [5.2 2.7 3.9 1.4]'"
      ]
     },
     "metadata": {},
     "output_type": "display_data"
    },
    {
     "data": {
      "text/plain": [
       "'Example 60: label versicolor(1): features [5.  2.  3.5 1. ]'"
      ]
     },
     "metadata": {},
     "output_type": "display_data"
    },
    {
     "data": {
      "text/plain": [
       "'Example 61: label versicolor(1): features [5.9 3.  4.2 1.5]'"
      ]
     },
     "metadata": {},
     "output_type": "display_data"
    },
    {
     "data": {
      "text/plain": [
       "'Example 62: label versicolor(1): features [6.  2.2 4.  1. ]'"
      ]
     },
     "metadata": {},
     "output_type": "display_data"
    },
    {
     "data": {
      "text/plain": [
       "'Example 63: label versicolor(1): features [6.1 2.9 4.7 1.4]'"
      ]
     },
     "metadata": {},
     "output_type": "display_data"
    },
    {
     "data": {
      "text/plain": [
       "'Example 64: label versicolor(1): features [5.6 2.9 3.6 1.3]'"
      ]
     },
     "metadata": {},
     "output_type": "display_data"
    },
    {
     "data": {
      "text/plain": [
       "'Example 65: label versicolor(1): features [6.7 3.1 4.4 1.4]'"
      ]
     },
     "metadata": {},
     "output_type": "display_data"
    },
    {
     "data": {
      "text/plain": [
       "'Example 66: label versicolor(1): features [5.6 3.  4.5 1.5]'"
      ]
     },
     "metadata": {},
     "output_type": "display_data"
    },
    {
     "data": {
      "text/plain": [
       "'Example 67: label versicolor(1): features [5.8 2.7 4.1 1. ]'"
      ]
     },
     "metadata": {},
     "output_type": "display_data"
    },
    {
     "data": {
      "text/plain": [
       "'Example 68: label versicolor(1): features [6.2 2.2 4.5 1.5]'"
      ]
     },
     "metadata": {},
     "output_type": "display_data"
    },
    {
     "data": {
      "text/plain": [
       "'Example 69: label versicolor(1): features [5.6 2.5 3.9 1.1]'"
      ]
     },
     "metadata": {},
     "output_type": "display_data"
    },
    {
     "data": {
      "text/plain": [
       "'Example 70: label versicolor(1): features [5.9 3.2 4.8 1.8]'"
      ]
     },
     "metadata": {},
     "output_type": "display_data"
    },
    {
     "data": {
      "text/plain": [
       "'Example 71: label versicolor(1): features [6.1 2.8 4.  1.3]'"
      ]
     },
     "metadata": {},
     "output_type": "display_data"
    },
    {
     "data": {
      "text/plain": [
       "'Example 72: label versicolor(1): features [6.3 2.5 4.9 1.5]'"
      ]
     },
     "metadata": {},
     "output_type": "display_data"
    },
    {
     "data": {
      "text/plain": [
       "'Example 73: label versicolor(1): features [6.1 2.8 4.7 1.2]'"
      ]
     },
     "metadata": {},
     "output_type": "display_data"
    },
    {
     "data": {
      "text/plain": [
       "'Example 74: label versicolor(1): features [6.4 2.9 4.3 1.3]'"
      ]
     },
     "metadata": {},
     "output_type": "display_data"
    },
    {
     "data": {
      "text/plain": [
       "'Example 75: label versicolor(1): features [6.6 3.  4.4 1.4]'"
      ]
     },
     "metadata": {},
     "output_type": "display_data"
    },
    {
     "data": {
      "text/plain": [
       "'Example 76: label versicolor(1): features [6.8 2.8 4.8 1.4]'"
      ]
     },
     "metadata": {},
     "output_type": "display_data"
    },
    {
     "data": {
      "text/plain": [
       "'Example 77: label versicolor(1): features [6.7 3.  5.  1.7]'"
      ]
     },
     "metadata": {},
     "output_type": "display_data"
    },
    {
     "data": {
      "text/plain": [
       "'Example 78: label versicolor(1): features [6.  2.9 4.5 1.5]'"
      ]
     },
     "metadata": {},
     "output_type": "display_data"
    },
    {
     "data": {
      "text/plain": [
       "'Example 79: label versicolor(1): features [5.7 2.6 3.5 1. ]'"
      ]
     },
     "metadata": {},
     "output_type": "display_data"
    },
    {
     "data": {
      "text/plain": [
       "'Example 80: label versicolor(1): features [5.5 2.4 3.8 1.1]'"
      ]
     },
     "metadata": {},
     "output_type": "display_data"
    },
    {
     "data": {
      "text/plain": [
       "'Example 81: label versicolor(1): features [5.5 2.4 3.7 1. ]'"
      ]
     },
     "metadata": {},
     "output_type": "display_data"
    },
    {
     "data": {
      "text/plain": [
       "'Example 82: label versicolor(1): features [5.8 2.7 3.9 1.2]'"
      ]
     },
     "metadata": {},
     "output_type": "display_data"
    },
    {
     "data": {
      "text/plain": [
       "'Example 83: label versicolor(1): features [6.  2.7 5.1 1.6]'"
      ]
     },
     "metadata": {},
     "output_type": "display_data"
    },
    {
     "data": {
      "text/plain": [
       "'Example 84: label versicolor(1): features [5.4 3.  4.5 1.5]'"
      ]
     },
     "metadata": {},
     "output_type": "display_data"
    },
    {
     "data": {
      "text/plain": [
       "'Example 85: label versicolor(1): features [6.  3.4 4.5 1.6]'"
      ]
     },
     "metadata": {},
     "output_type": "display_data"
    },
    {
     "data": {
      "text/plain": [
       "'Example 86: label versicolor(1): features [6.7 3.1 4.7 1.5]'"
      ]
     },
     "metadata": {},
     "output_type": "display_data"
    },
    {
     "data": {
      "text/plain": [
       "'Example 87: label versicolor(1): features [6.3 2.3 4.4 1.3]'"
      ]
     },
     "metadata": {},
     "output_type": "display_data"
    },
    {
     "data": {
      "text/plain": [
       "'Example 88: label versicolor(1): features [5.6 3.  4.1 1.3]'"
      ]
     },
     "metadata": {},
     "output_type": "display_data"
    },
    {
     "data": {
      "text/plain": [
       "'Example 89: label versicolor(1): features [5.5 2.5 4.  1.3]'"
      ]
     },
     "metadata": {},
     "output_type": "display_data"
    },
    {
     "data": {
      "text/plain": [
       "'Example 90: label versicolor(1): features [5.5 2.6 4.4 1.2]'"
      ]
     },
     "metadata": {},
     "output_type": "display_data"
    },
    {
     "data": {
      "text/plain": [
       "'Example 91: label versicolor(1): features [6.1 3.  4.6 1.4]'"
      ]
     },
     "metadata": {},
     "output_type": "display_data"
    },
    {
     "data": {
      "text/plain": [
       "'Example 92: label versicolor(1): features [5.8 2.6 4.  1.2]'"
      ]
     },
     "metadata": {},
     "output_type": "display_data"
    },
    {
     "data": {
      "text/plain": [
       "'Example 93: label versicolor(1): features [5.  2.3 3.3 1. ]'"
      ]
     },
     "metadata": {},
     "output_type": "display_data"
    },
    {
     "data": {
      "text/plain": [
       "'Example 94: label versicolor(1): features [5.6 2.7 4.2 1.3]'"
      ]
     },
     "metadata": {},
     "output_type": "display_data"
    },
    {
     "data": {
      "text/plain": [
       "'Example 95: label versicolor(1): features [5.7 3.  4.2 1.2]'"
      ]
     },
     "metadata": {},
     "output_type": "display_data"
    },
    {
     "data": {
      "text/plain": [
       "'Example 96: label versicolor(1): features [5.7 2.9 4.2 1.3]'"
      ]
     },
     "metadata": {},
     "output_type": "display_data"
    },
    {
     "data": {
      "text/plain": [
       "'Example 97: label versicolor(1): features [6.2 2.9 4.3 1.3]'"
      ]
     },
     "metadata": {},
     "output_type": "display_data"
    },
    {
     "data": {
      "text/plain": [
       "'Example 98: label versicolor(1): features [5.1 2.5 3.  1.1]'"
      ]
     },
     "metadata": {},
     "output_type": "display_data"
    },
    {
     "data": {
      "text/plain": [
       "'Example 99: label versicolor(1): features [5.7 2.8 4.1 1.3]'"
      ]
     },
     "metadata": {},
     "output_type": "display_data"
    },
    {
     "data": {
      "text/plain": [
       "'Example 100: label virginica(2): features [6.3 3.3 6.  2.5]'"
      ]
     },
     "metadata": {},
     "output_type": "display_data"
    },
    {
     "data": {
      "text/plain": [
       "'Example 101: label virginica(2): features [5.8 2.7 5.1 1.9]'"
      ]
     },
     "metadata": {},
     "output_type": "display_data"
    },
    {
     "data": {
      "text/plain": [
       "'Example 102: label virginica(2): features [7.1 3.  5.9 2.1]'"
      ]
     },
     "metadata": {},
     "output_type": "display_data"
    },
    {
     "data": {
      "text/plain": [
       "'Example 103: label virginica(2): features [6.3 2.9 5.6 1.8]'"
      ]
     },
     "metadata": {},
     "output_type": "display_data"
    },
    {
     "data": {
      "text/plain": [
       "'Example 104: label virginica(2): features [6.5 3.  5.8 2.2]'"
      ]
     },
     "metadata": {},
     "output_type": "display_data"
    },
    {
     "data": {
      "text/plain": [
       "'Example 105: label virginica(2): features [7.6 3.  6.6 2.1]'"
      ]
     },
     "metadata": {},
     "output_type": "display_data"
    },
    {
     "data": {
      "text/plain": [
       "'Example 106: label virginica(2): features [4.9 2.5 4.5 1.7]'"
      ]
     },
     "metadata": {},
     "output_type": "display_data"
    },
    {
     "data": {
      "text/plain": [
       "'Example 107: label virginica(2): features [7.3 2.9 6.3 1.8]'"
      ]
     },
     "metadata": {},
     "output_type": "display_data"
    },
    {
     "data": {
      "text/plain": [
       "'Example 108: label virginica(2): features [6.7 2.5 5.8 1.8]'"
      ]
     },
     "metadata": {},
     "output_type": "display_data"
    },
    {
     "data": {
      "text/plain": [
       "'Example 109: label virginica(2): features [7.2 3.6 6.1 2.5]'"
      ]
     },
     "metadata": {},
     "output_type": "display_data"
    },
    {
     "data": {
      "text/plain": [
       "'Example 110: label virginica(2): features [6.5 3.2 5.1 2. ]'"
      ]
     },
     "metadata": {},
     "output_type": "display_data"
    },
    {
     "data": {
      "text/plain": [
       "'Example 111: label virginica(2): features [6.4 2.7 5.3 1.9]'"
      ]
     },
     "metadata": {},
     "output_type": "display_data"
    },
    {
     "data": {
      "text/plain": [
       "'Example 112: label virginica(2): features [6.8 3.  5.5 2.1]'"
      ]
     },
     "metadata": {},
     "output_type": "display_data"
    },
    {
     "data": {
      "text/plain": [
       "'Example 113: label virginica(2): features [5.7 2.5 5.  2. ]'"
      ]
     },
     "metadata": {},
     "output_type": "display_data"
    },
    {
     "data": {
      "text/plain": [
       "'Example 114: label virginica(2): features [5.8 2.8 5.1 2.4]'"
      ]
     },
     "metadata": {},
     "output_type": "display_data"
    },
    {
     "data": {
      "text/plain": [
       "'Example 115: label virginica(2): features [6.4 3.2 5.3 2.3]'"
      ]
     },
     "metadata": {},
     "output_type": "display_data"
    },
    {
     "data": {
      "text/plain": [
       "'Example 116: label virginica(2): features [6.5 3.  5.5 1.8]'"
      ]
     },
     "metadata": {},
     "output_type": "display_data"
    },
    {
     "data": {
      "text/plain": [
       "'Example 117: label virginica(2): features [7.7 3.8 6.7 2.2]'"
      ]
     },
     "metadata": {},
     "output_type": "display_data"
    },
    {
     "data": {
      "text/plain": [
       "'Example 118: label virginica(2): features [7.7 2.6 6.9 2.3]'"
      ]
     },
     "metadata": {},
     "output_type": "display_data"
    },
    {
     "data": {
      "text/plain": [
       "'Example 119: label virginica(2): features [6.  2.2 5.  1.5]'"
      ]
     },
     "metadata": {},
     "output_type": "display_data"
    },
    {
     "data": {
      "text/plain": [
       "'Example 120: label virginica(2): features [6.9 3.2 5.7 2.3]'"
      ]
     },
     "metadata": {},
     "output_type": "display_data"
    },
    {
     "data": {
      "text/plain": [
       "'Example 121: label virginica(2): features [5.6 2.8 4.9 2. ]'"
      ]
     },
     "metadata": {},
     "output_type": "display_data"
    },
    {
     "data": {
      "text/plain": [
       "'Example 122: label virginica(2): features [7.7 2.8 6.7 2. ]'"
      ]
     },
     "metadata": {},
     "output_type": "display_data"
    },
    {
     "data": {
      "text/plain": [
       "'Example 123: label virginica(2): features [6.3 2.7 4.9 1.8]'"
      ]
     },
     "metadata": {},
     "output_type": "display_data"
    },
    {
     "data": {
      "text/plain": [
       "'Example 124: label virginica(2): features [6.7 3.3 5.7 2.1]'"
      ]
     },
     "metadata": {},
     "output_type": "display_data"
    },
    {
     "data": {
      "text/plain": [
       "'Example 125: label virginica(2): features [7.2 3.2 6.  1.8]'"
      ]
     },
     "metadata": {},
     "output_type": "display_data"
    },
    {
     "data": {
      "text/plain": [
       "'Example 126: label virginica(2): features [6.2 2.8 4.8 1.8]'"
      ]
     },
     "metadata": {},
     "output_type": "display_data"
    },
    {
     "data": {
      "text/plain": [
       "'Example 127: label virginica(2): features [6.1 3.  4.9 1.8]'"
      ]
     },
     "metadata": {},
     "output_type": "display_data"
    },
    {
     "data": {
      "text/plain": [
       "'Example 128: label virginica(2): features [6.4 2.8 5.6 2.1]'"
      ]
     },
     "metadata": {},
     "output_type": "display_data"
    },
    {
     "data": {
      "text/plain": [
       "'Example 129: label virginica(2): features [7.2 3.  5.8 1.6]'"
      ]
     },
     "metadata": {},
     "output_type": "display_data"
    },
    {
     "data": {
      "text/plain": [
       "'Example 130: label virginica(2): features [7.4 2.8 6.1 1.9]'"
      ]
     },
     "metadata": {},
     "output_type": "display_data"
    },
    {
     "data": {
      "text/plain": [
       "'Example 131: label virginica(2): features [7.9 3.8 6.4 2. ]'"
      ]
     },
     "metadata": {},
     "output_type": "display_data"
    },
    {
     "data": {
      "text/plain": [
       "'Example 132: label virginica(2): features [6.4 2.8 5.6 2.2]'"
      ]
     },
     "metadata": {},
     "output_type": "display_data"
    },
    {
     "data": {
      "text/plain": [
       "'Example 133: label virginica(2): features [6.3 2.8 5.1 1.5]'"
      ]
     },
     "metadata": {},
     "output_type": "display_data"
    },
    {
     "data": {
      "text/plain": [
       "'Example 134: label virginica(2): features [6.1 2.6 5.6 1.4]'"
      ]
     },
     "metadata": {},
     "output_type": "display_data"
    },
    {
     "data": {
      "text/plain": [
       "'Example 135: label virginica(2): features [7.7 3.  6.1 2.3]'"
      ]
     },
     "metadata": {},
     "output_type": "display_data"
    },
    {
     "data": {
      "text/plain": [
       "'Example 136: label virginica(2): features [6.3 3.4 5.6 2.4]'"
      ]
     },
     "metadata": {},
     "output_type": "display_data"
    },
    {
     "data": {
      "text/plain": [
       "'Example 137: label virginica(2): features [6.4 3.1 5.5 1.8]'"
      ]
     },
     "metadata": {},
     "output_type": "display_data"
    },
    {
     "data": {
      "text/plain": [
       "'Example 138: label virginica(2): features [6.  3.  4.8 1.8]'"
      ]
     },
     "metadata": {},
     "output_type": "display_data"
    },
    {
     "data": {
      "text/plain": [
       "'Example 139: label virginica(2): features [6.9 3.1 5.4 2.1]'"
      ]
     },
     "metadata": {},
     "output_type": "display_data"
    },
    {
     "data": {
      "text/plain": [
       "'Example 140: label virginica(2): features [6.7 3.1 5.6 2.4]'"
      ]
     },
     "metadata": {},
     "output_type": "display_data"
    },
    {
     "data": {
      "text/plain": [
       "'Example 141: label virginica(2): features [6.9 3.1 5.1 2.3]'"
      ]
     },
     "metadata": {},
     "output_type": "display_data"
    },
    {
     "data": {
      "text/plain": [
       "'Example 142: label virginica(2): features [5.8 2.7 5.1 1.9]'"
      ]
     },
     "metadata": {},
     "output_type": "display_data"
    },
    {
     "data": {
      "text/plain": [
       "'Example 143: label virginica(2): features [6.8 3.2 5.9 2.3]'"
      ]
     },
     "metadata": {},
     "output_type": "display_data"
    },
    {
     "data": {
      "text/plain": [
       "'Example 144: label virginica(2): features [6.7 3.3 5.7 2.5]'"
      ]
     },
     "metadata": {},
     "output_type": "display_data"
    },
    {
     "data": {
      "text/plain": [
       "'Example 145: label virginica(2): features [6.7 3.  5.2 2.3]'"
      ]
     },
     "metadata": {},
     "output_type": "display_data"
    },
    {
     "data": {
      "text/plain": [
       "'Example 146: label virginica(2): features [6.3 2.5 5.  1.9]'"
      ]
     },
     "metadata": {},
     "output_type": "display_data"
    },
    {
     "data": {
      "text/plain": [
       "'Example 147: label virginica(2): features [6.5 3.  5.2 2. ]'"
      ]
     },
     "metadata": {},
     "output_type": "display_data"
    },
    {
     "data": {
      "text/plain": [
       "'Example 148: label virginica(2): features [6.2 3.4 5.4 2.3]'"
      ]
     },
     "metadata": {},
     "output_type": "display_data"
    },
    {
     "data": {
      "text/plain": [
       "'Example 149: label virginica(2): features [5.9 3.  5.1 1.8]'"
      ]
     },
     "metadata": {},
     "output_type": "display_data"
    },
    {
     "data": {
      "text/markdown": [
       "<span style=\"color: #14B326\">Done! On to step 5!</span>"
      ],
      "text/plain": [
       "<IPython.core.display.Markdown object>"
      ]
     },
     "metadata": {},
     "output_type": "display_data"
    }
   ],
   "source": [
    "\n",
    "for i in range(len(iris.target)):\n",
    "    display(f\"Example {i}: label {iris.target_names[iris.target[i]]}({iris.target[i]}): features {iris.data[i]}\")\n",
    "    \n",
    "display(Markdown('<span style=\"color: #14B326\">Done! On to step 5!</span>'))\n"
   ]
  },
  {
   "cell_type": "markdown",
   "id": "1fd2f091-7030-4f9f-8bb4-f38c06020a9e",
   "metadata": {
    "tags": []
   },
   "source": [
    "***\n",
    "\n",
    "## Step 5 - Prep the data by removing test data entries</span>\n",
    "This is supervised learning. This means we use a labeled set of data to train model.  After we train a model, we need to test the model with known good data. Therefore, we will remove three examples to create a test data set. Most of this data set is used to train the model.  In the previous we learned that a new species starts lines 0, 50 and 100. \n",
    "\n",
    "In this code block we will remove examples 0, 50, 100 and use these examples to create a new set of data for test.  To validate our work we display the data.\n",
    "\n",
    "Remember \n",
    "\n",
    "- `test_target` is the variable for the label array. `[0, 1, 2]` for setosa, versicolor and virginica.\n",
    "- `test_data` is the array of features.\n",
    "\n"
   ]
  },
  {
   "cell_type": "code",
   "execution_count": 11,
   "id": "be18b461-46d9-4567-9144-3eaddab598f7",
   "metadata": {
    "tags": []
   },
   "outputs": [
    {
     "data": {
      "text/markdown": [
       "This will show the array of the test data. It will be relevant in the next section:"
      ],
      "text/plain": [
       "<IPython.core.display.Markdown object>"
      ]
     },
     "metadata": {},
     "output_type": "display_data"
    },
    {
     "data": {
      "text/plain": [
       "array([0, 1, 2])"
      ]
     },
     "metadata": {},
     "output_type": "display_data"
    },
    {
     "data": {
      "text/plain": [
       "array([[5.1, 3.5, 1.4, 0.2],\n",
       "       [7. , 3.2, 4.7, 1.4],\n",
       "       [6.3, 3.3, 6. , 2.5]])"
      ]
     },
     "metadata": {},
     "output_type": "display_data"
    },
    {
     "data": {
      "text/markdown": [
       "<span style=\"color: #14B326\">Done! Now that we have training and test data, we will train the model in step 6.</span>"
      ],
      "text/plain": [
       "<IPython.core.display.Markdown object>"
      ]
     },
     "metadata": {},
     "output_type": "display_data"
    }
   ],
   "source": [
    "\n",
    "# iris = load_iris()\n",
    "test_idx = [0, 50, 100]\n",
    "\n",
    "# training data\n",
    "train_target = np.delete(iris.target, test_idx)\n",
    "train_data = np.delete(iris.data, test_idx, axis=0)\n",
    "\n",
    "# testing data\n",
    "test_target = iris.target[test_idx]\n",
    "test_data = iris.data[test_idx]\n",
    "\n",
    "\n",
    "\n",
    "# What to expect\n",
    "display(Markdown(\"This will show the array of the test data. It will be relevant in the next section:\"))\n",
    "\n",
    "display(test_target)\n",
    "display(test_data)\n",
    "\n",
    "\n",
    "display(Markdown('<span style=\"color: #14B326\">Done! Now that we have training and test data, we will train the model in step 6.</span>'))\n"
   ]
  },
  {
   "cell_type": "markdown",
   "id": "d755061b-2e2f-4a95-a2cb-35983219fbb1",
   "metadata": {},
   "source": [
    "***\n",
    "\n",
    "## Step 6 - Train the model. What does the model predict?</font>\n",
    "\n",
    "We now train the model with the new dataset. Similar, to the 🍎 and 🍊data in activity 01.  We will \n",
    "1. create a classifier model\n",
    "2. apply a fit algorithm\n",
    "3. Train with our training data\n",
    "\n",
    "Using the test data we entered above, we then predict what we should get based on that data\n",
    "<br><br>\n"
   ]
  },
  {
   "cell_type": "code",
   "execution_count": 12,
   "id": "5ec042df-f29b-42e5-9e47-a654cc6a92ac",
   "metadata": {
    "tags": []
   },
   "outputs": [
    {
     "data": {
      "text/markdown": [
       "This should match the output in the previous section:"
      ],
      "text/plain": [
       "<IPython.core.display.Markdown object>"
      ]
     },
     "metadata": {},
     "output_type": "display_data"
    },
    {
     "data": {
      "text/plain": [
       "array([0, 1, 2])"
      ]
     },
     "metadata": {},
     "output_type": "display_data"
    },
    {
     "data": {
      "text/markdown": [
       "<span style=\"color: #14B326\">Done! On to Step 7!</span>"
      ],
      "text/plain": [
       "<IPython.core.display.Markdown object>"
      ]
     },
     "metadata": {},
     "output_type": "display_data"
    }
   ],
   "source": [
    "# create new classifier\n",
    "clf = tree.DecisionTreeClassifier()\n",
    "# train on training data\n",
    "clf.fit(train_data, train_target)\n",
    "\n",
    "# What the tree predicts\n",
    "display(Markdown(\"This should match the output in the previous section:\"))\n",
    "display(clf.predict(test_data))\n",
    "\n",
    "\n",
    "display(Markdown('<span style=\"color: #14B326\">Done! On to Step 7!</span>'))\n"
   ]
  },
  {
   "cell_type": "markdown",
   "id": "1230f95a-5881-410c-ac6d-677ec78438f3",
   "metadata": {},
   "source": [
    "***\n",
    "\n",
    "## Step 7 - Visualize the Decision Tree</span>\n",
    "\n",
    "\"A picture is worth a thousand words.\"  Decision tree models are a great start for people new to machine learning.  As mentioned earlier, this model is one of the few that can be visualized and interpreted.  The code block below will load two libraries, `graphviz` and `pydotplus` that are used to render an image of the actual decision tree.  Go ahead and run the code now 👇🏾 and review the decision tree."
   ]
  },
  {
   "cell_type": "code",
   "execution_count": 13,
   "id": "03a7a8df-c626-4a05-b4bd-e1a12aaf8134",
   "metadata": {
    "tags": []
   },
   "outputs": [
    {
     "data": {
      "image/png": "[encoded data removed]",
      "text/plain": [
       "<IPython.core.display.Image object>"
      ]
     },
     "metadata": {},
     "output_type": "display_data"
    },
    {
     "data": {
      "text/markdown": [
       "<span style=\"color: #14B326\">Done!</span>"
      ],
      "text/plain": [
       "<IPython.core.display.Markdown object>"
      ]
     },
     "metadata": {},
     "output_type": "display_data"
    }
   ],
   "source": [
    "# Visualize\n",
    "# from scikit decision tree tutorial: http://scikit-learn.org/stable/modules/tree.html\n",
    "from six import StringIO\n",
    "import pydotplus\n",
    "\n",
    "dot_data = StringIO()\n",
    "tree.export_graphviz(clf, out_file=dot_data,\n",
    "                     feature_names=iris.feature_names,\n",
    "                     class_names=iris.target_names,\n",
    "                     filled=True, rounded=True,\n",
    "                     impurity=False)\n",
    "\n",
    "graph = pydotplus.graph_from_dot_data(dot_data.getvalue())\n",
    "\n",
    "graph.write_png(\"images/iris.png\")\n",
    "display(Image(filename=\"images/iris.png\"))\n",
    "\n",
    "display(Markdown('<span style=\"color: #14B326\">Done!</span>'))\n"
   ]
  },
  {
   "cell_type": "markdown",
   "id": "4fb58193-6dec-481a-a7fc-9bcb230e2898",
   "metadata": {},
   "source": [
    "## You have completed Activity 02.\n",
    "\n",
    "[Start Activity 03](Activity03.ipynb)"
   ]
  }
 ],
 "metadata": {
  "kernelspec": {
   "display_name": "Python 3 (ipykernel)",
   "language": "python",
   "name": "python3"
  },
  "language_info": {
   "codemirror_mode": {
    "name": "ipython",
    "version": 3
   },
   "file_extension": ".py",
   "mimetype": "text/x-python",
   "name": "python",
   "nbconvert_exporter": "python",
   "pygments_lexer": "ipython3",
   "version": "3.11.5"
  }
 },
 "nbformat": 4,
 "nbformat_minor": 5
}
