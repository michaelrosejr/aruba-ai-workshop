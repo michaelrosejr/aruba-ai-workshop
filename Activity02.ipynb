{
 "cells": [
  {
   "cell_type": "markdown",
   "id": "83b727a9-c539-49d2-8c1e-609984aab5f0",
   "metadata": {},
   "source": [
    "## <span style='color:#DB822E'>This lession requires graphviz to be installed</span>\n",
    "\n",
    "Ref: https://www.youtube.com/watch?v=tNa99PG8hR8&list=PLOU2XLYxmsIIuiBfYad6rFYQU_jL2ryal&index=2\n",
    "\n",
    "On the users workstation\n",
    "\n",
    "```\n",
    "mac: brew install graphviz\n",
    "ubuntu: sudo apt-get install graphviz\n",
    "windows: ???\n",
    "```\n",
    "\n",
    "We need to install a few packages for the his lab. \n",
    "The first will be Python pandas used to parse large amounts of data\n",
    "The second will be Python <sklearn module>[https://scikit-learn.org/stable/], which is a predicitive data analyis module.\n",
    "<br /><br />\n",
    "\n"
   ]
  },
  {
   "cell_type": "markdown",
   "id": "c6c224ef-8d95-4eea-92e8-640aed515e0f",
   "metadata": {},
   "source": [
    "## <font color='#DB822E'>Configure Python\n",
    "\n",
    "We load the Python modules for Jupyter Lab, Panadas and the `sklearn` datasets\n",
    "<br />\n",
    "<br />\n",
    "\n"
   ]
  },
  {
   "cell_type": "code",
   "execution_count": 1,
   "id": "c7887752-c907-442d-bdb8-9d62d3c002a5",
   "metadata": {},
   "outputs": [],
   "source": [
    "# Import Jupyter Display module for better data output\n",
    "from IPython.display import display, Markdown, Image\n",
    "import pandas as pd\n",
    "import numpy as np\n",
    "\n"
   ]
  },
  {
   "cell_type": "markdown",
   "id": "40b5dfbd-522f-44a8-9ef3-c21989cc13ed",
   "metadata": {},
   "source": [
    "## <font color='#DB822E'>Load the datasets\n",
    "We load the sklearn Python module and the Iris flower datasets.\n",
    "We then print the feature and target names to confirm the datasets are loaded.\n",
    "<br> \n",
    "The `Sepal` is the (usually) the green leaf of the flower<br>\n",
    "The `Petal` is the non-green leaf/petal of the flower<br>\n",
    "<br>"
   ]
  },
  {
   "cell_type": "code",
   "execution_count": 2,
   "id": "5924a939-8516-4cd1-b1d1-524eaa02c06e",
   "metadata": {},
   "outputs": [
    {
     "data": {
      "text/markdown": [
       "### <font color='#DB822E'>Features Names:"
      ],
      "text/plain": [
       "<IPython.core.display.Markdown object>"
      ]
     },
     "metadata": {},
     "output_type": "display_data"
    },
    {
     "data": {
      "text/plain": [
       "['sepal length (cm)',\n",
       " 'sepal width (cm)',\n",
       " 'petal length (cm)',\n",
       " 'petal width (cm)']"
      ]
     },
     "metadata": {},
     "output_type": "display_data"
    },
    {
     "data": {
      "text/markdown": [
       "### <font color='#DB822E'>Target Names: "
      ],
      "text/plain": [
       "<IPython.core.display.Markdown object>"
      ]
     },
     "metadata": {},
     "output_type": "display_data"
    },
    {
     "data": {
      "text/plain": [
       "'setosa'"
      ]
     },
     "metadata": {},
     "output_type": "display_data"
    },
    {
     "data": {
      "text/plain": [
       "'versicolor'"
      ]
     },
     "metadata": {},
     "output_type": "display_data"
    },
    {
     "data": {
      "text/plain": [
       "'virginica'"
      ]
     },
     "metadata": {},
     "output_type": "display_data"
    }
   ],
   "source": [
    "from sklearn.datasets import load_iris\n",
    "from sklearn import tree\n",
    "\n",
    "iris = load_iris()\n",
    "\n",
    "display(Markdown(\"### <font color='#DB822E'>Features Names:\"))\n",
    "display(iris.feature_names)\n",
    "\n",
    "display(Markdown(\"### <font color='#DB822E'>Target Names: \"))\n",
    "for types in iris.target_names:\n",
    "    display(types)\n"
   ]
  },
  {
   "cell_type": "markdown",
   "id": "e67a3580-0248-4946-bffa-19faccc93c4d",
   "metadata": {},
   "source": [
    "<br>\n",
    "Let's print out entire dataset\n",
    "<br><br>"
   ]
  },
  {
   "cell_type": "code",
   "execution_count": 3,
   "id": "97b20523-8e16-4918-9b60-b3923a1e63d9",
   "metadata": {
    "collapsed": true,
    "jupyter": {
     "outputs_hidden": true
    }
   },
   "outputs": [
    {
     "data": {
      "text/plain": [
       "'Example 0: label 0: features [5.1 3.5 1.4 0.2]'"
      ]
     },
     "metadata": {},
     "output_type": "display_data"
    },
    {
     "data": {
      "text/plain": [
       "'Example 1: label 0: features [4.9 3.  1.4 0.2]'"
      ]
     },
     "metadata": {},
     "output_type": "display_data"
    },
    {
     "data": {
      "text/plain": [
       "'Example 2: label 0: features [4.7 3.2 1.3 0.2]'"
      ]
     },
     "metadata": {},
     "output_type": "display_data"
    },
    {
     "data": {
      "text/plain": [
       "'Example 3: label 0: features [4.6 3.1 1.5 0.2]'"
      ]
     },
     "metadata": {},
     "output_type": "display_data"
    },
    {
     "data": {
      "text/plain": [
       "'Example 4: label 0: features [5.  3.6 1.4 0.2]'"
      ]
     },
     "metadata": {},
     "output_type": "display_data"
    },
    {
     "data": {
      "text/plain": [
       "'Example 5: label 0: features [5.4 3.9 1.7 0.4]'"
      ]
     },
     "metadata": {},
     "output_type": "display_data"
    },
    {
     "data": {
      "text/plain": [
       "'Example 6: label 0: features [4.6 3.4 1.4 0.3]'"
      ]
     },
     "metadata": {},
     "output_type": "display_data"
    },
    {
     "data": {
      "text/plain": [
       "'Example 7: label 0: features [5.  3.4 1.5 0.2]'"
      ]
     },
     "metadata": {},
     "output_type": "display_data"
    },
    {
     "data": {
      "text/plain": [
       "'Example 8: label 0: features [4.4 2.9 1.4 0.2]'"
      ]
     },
     "metadata": {},
     "output_type": "display_data"
    },
    {
     "data": {
      "text/plain": [
       "'Example 9: label 0: features [4.9 3.1 1.5 0.1]'"
      ]
     },
     "metadata": {},
     "output_type": "display_data"
    },
    {
     "data": {
      "text/plain": [
       "'Example 10: label 0: features [5.4 3.7 1.5 0.2]'"
      ]
     },
     "metadata": {},
     "output_type": "display_data"
    },
    {
     "data": {
      "text/plain": [
       "'Example 11: label 0: features [4.8 3.4 1.6 0.2]'"
      ]
     },
     "metadata": {},
     "output_type": "display_data"
    },
    {
     "data": {
      "text/plain": [
       "'Example 12: label 0: features [4.8 3.  1.4 0.1]'"
      ]
     },
     "metadata": {},
     "output_type": "display_data"
    },
    {
     "data": {
      "text/plain": [
       "'Example 13: label 0: features [4.3 3.  1.1 0.1]'"
      ]
     },
     "metadata": {},
     "output_type": "display_data"
    },
    {
     "data": {
      "text/plain": [
       "'Example 14: label 0: features [5.8 4.  1.2 0.2]'"
      ]
     },
     "metadata": {},
     "output_type": "display_data"
    },
    {
     "data": {
      "text/plain": [
       "'Example 15: label 0: features [5.7 4.4 1.5 0.4]'"
      ]
     },
     "metadata": {},
     "output_type": "display_data"
    },
    {
     "data": {
      "text/plain": [
       "'Example 16: label 0: features [5.4 3.9 1.3 0.4]'"
      ]
     },
     "metadata": {},
     "output_type": "display_data"
    },
    {
     "data": {
      "text/plain": [
       "'Example 17: label 0: features [5.1 3.5 1.4 0.3]'"
      ]
     },
     "metadata": {},
     "output_type": "display_data"
    },
    {
     "data": {
      "text/plain": [
       "'Example 18: label 0: features [5.7 3.8 1.7 0.3]'"
      ]
     },
     "metadata": {},
     "output_type": "display_data"
    },
    {
     "data": {
      "text/plain": [
       "'Example 19: label 0: features [5.1 3.8 1.5 0.3]'"
      ]
     },
     "metadata": {},
     "output_type": "display_data"
    },
    {
     "data": {
      "text/plain": [
       "'Example 20: label 0: features [5.4 3.4 1.7 0.2]'"
      ]
     },
     "metadata": {},
     "output_type": "display_data"
    },
    {
     "data": {
      "text/plain": [
       "'Example 21: label 0: features [5.1 3.7 1.5 0.4]'"
      ]
     },
     "metadata": {},
     "output_type": "display_data"
    },
    {
     "data": {
      "text/plain": [
       "'Example 22: label 0: features [4.6 3.6 1.  0.2]'"
      ]
     },
     "metadata": {},
     "output_type": "display_data"
    },
    {
     "data": {
      "text/plain": [
       "'Example 23: label 0: features [5.1 3.3 1.7 0.5]'"
      ]
     },
     "metadata": {},
     "output_type": "display_data"
    },
    {
     "data": {
      "text/plain": [
       "'Example 24: label 0: features [4.8 3.4 1.9 0.2]'"
      ]
     },
     "metadata": {},
     "output_type": "display_data"
    },
    {
     "data": {
      "text/plain": [
       "'Example 25: label 0: features [5.  3.  1.6 0.2]'"
      ]
     },
     "metadata": {},
     "output_type": "display_data"
    },
    {
     "data": {
      "text/plain": [
       "'Example 26: label 0: features [5.  3.4 1.6 0.4]'"
      ]
     },
     "metadata": {},
     "output_type": "display_data"
    },
    {
     "data": {
      "text/plain": [
       "'Example 27: label 0: features [5.2 3.5 1.5 0.2]'"
      ]
     },
     "metadata": {},
     "output_type": "display_data"
    },
    {
     "data": {
      "text/plain": [
       "'Example 28: label 0: features [5.2 3.4 1.4 0.2]'"
      ]
     },
     "metadata": {},
     "output_type": "display_data"
    },
    {
     "data": {
      "text/plain": [
       "'Example 29: label 0: features [4.7 3.2 1.6 0.2]'"
      ]
     },
     "metadata": {},
     "output_type": "display_data"
    },
    {
     "data": {
      "text/plain": [
       "'Example 30: label 0: features [4.8 3.1 1.6 0.2]'"
      ]
     },
     "metadata": {},
     "output_type": "display_data"
    },
    {
     "data": {
      "text/plain": [
       "'Example 31: label 0: features [5.4 3.4 1.5 0.4]'"
      ]
     },
     "metadata": {},
     "output_type": "display_data"
    },
    {
     "data": {
      "text/plain": [
       "'Example 32: label 0: features [5.2 4.1 1.5 0.1]'"
      ]
     },
     "metadata": {},
     "output_type": "display_data"
    },
    {
     "data": {
      "text/plain": [
       "'Example 33: label 0: features [5.5 4.2 1.4 0.2]'"
      ]
     },
     "metadata": {},
     "output_type": "display_data"
    },
    {
     "data": {
      "text/plain": [
       "'Example 34: label 0: features [4.9 3.1 1.5 0.2]'"
      ]
     },
     "metadata": {},
     "output_type": "display_data"
    },
    {
     "data": {
      "text/plain": [
       "'Example 35: label 0: features [5.  3.2 1.2 0.2]'"
      ]
     },
     "metadata": {},
     "output_type": "display_data"
    },
    {
     "data": {
      "text/plain": [
       "'Example 36: label 0: features [5.5 3.5 1.3 0.2]'"
      ]
     },
     "metadata": {},
     "output_type": "display_data"
    },
    {
     "data": {
      "text/plain": [
       "'Example 37: label 0: features [4.9 3.6 1.4 0.1]'"
      ]
     },
     "metadata": {},
     "output_type": "display_data"
    },
    {
     "data": {
      "text/plain": [
       "'Example 38: label 0: features [4.4 3.  1.3 0.2]'"
      ]
     },
     "metadata": {},
     "output_type": "display_data"
    },
    {
     "data": {
      "text/plain": [
       "'Example 39: label 0: features [5.1 3.4 1.5 0.2]'"
      ]
     },
     "metadata": {},
     "output_type": "display_data"
    },
    {
     "data": {
      "text/plain": [
       "'Example 40: label 0: features [5.  3.5 1.3 0.3]'"
      ]
     },
     "metadata": {},
     "output_type": "display_data"
    },
    {
     "data": {
      "text/plain": [
       "'Example 41: label 0: features [4.5 2.3 1.3 0.3]'"
      ]
     },
     "metadata": {},
     "output_type": "display_data"
    },
    {
     "data": {
      "text/plain": [
       "'Example 42: label 0: features [4.4 3.2 1.3 0.2]'"
      ]
     },
     "metadata": {},
     "output_type": "display_data"
    },
    {
     "data": {
      "text/plain": [
       "'Example 43: label 0: features [5.  3.5 1.6 0.6]'"
      ]
     },
     "metadata": {},
     "output_type": "display_data"
    },
    {
     "data": {
      "text/plain": [
       "'Example 44: label 0: features [5.1 3.8 1.9 0.4]'"
      ]
     },
     "metadata": {},
     "output_type": "display_data"
    },
    {
     "data": {
      "text/plain": [
       "'Example 45: label 0: features [4.8 3.  1.4 0.3]'"
      ]
     },
     "metadata": {},
     "output_type": "display_data"
    },
    {
     "data": {
      "text/plain": [
       "'Example 46: label 0: features [5.1 3.8 1.6 0.2]'"
      ]
     },
     "metadata": {},
     "output_type": "display_data"
    },
    {
     "data": {
      "text/plain": [
       "'Example 47: label 0: features [4.6 3.2 1.4 0.2]'"
      ]
     },
     "metadata": {},
     "output_type": "display_data"
    },
    {
     "data": {
      "text/plain": [
       "'Example 48: label 0: features [5.3 3.7 1.5 0.2]'"
      ]
     },
     "metadata": {},
     "output_type": "display_data"
    },
    {
     "data": {
      "text/plain": [
       "'Example 49: label 0: features [5.  3.3 1.4 0.2]'"
      ]
     },
     "metadata": {},
     "output_type": "display_data"
    },
    {
     "data": {
      "text/plain": [
       "'Example 50: label 1: features [7.  3.2 4.7 1.4]'"
      ]
     },
     "metadata": {},
     "output_type": "display_data"
    },
    {
     "data": {
      "text/plain": [
       "'Example 51: label 1: features [6.4 3.2 4.5 1.5]'"
      ]
     },
     "metadata": {},
     "output_type": "display_data"
    },
    {
     "data": {
      "text/plain": [
       "'Example 52: label 1: features [6.9 3.1 4.9 1.5]'"
      ]
     },
     "metadata": {},
     "output_type": "display_data"
    },
    {
     "data": {
      "text/plain": [
       "'Example 53: label 1: features [5.5 2.3 4.  1.3]'"
      ]
     },
     "metadata": {},
     "output_type": "display_data"
    },
    {
     "data": {
      "text/plain": [
       "'Example 54: label 1: features [6.5 2.8 4.6 1.5]'"
      ]
     },
     "metadata": {},
     "output_type": "display_data"
    },
    {
     "data": {
      "text/plain": [
       "'Example 55: label 1: features [5.7 2.8 4.5 1.3]'"
      ]
     },
     "metadata": {},
     "output_type": "display_data"
    },
    {
     "data": {
      "text/plain": [
       "'Example 56: label 1: features [6.3 3.3 4.7 1.6]'"
      ]
     },
     "metadata": {},
     "output_type": "display_data"
    },
    {
     "data": {
      "text/plain": [
       "'Example 57: label 1: features [4.9 2.4 3.3 1. ]'"
      ]
     },
     "metadata": {},
     "output_type": "display_data"
    },
    {
     "data": {
      "text/plain": [
       "'Example 58: label 1: features [6.6 2.9 4.6 1.3]'"
      ]
     },
     "metadata": {},
     "output_type": "display_data"
    },
    {
     "data": {
      "text/plain": [
       "'Example 59: label 1: features [5.2 2.7 3.9 1.4]'"
      ]
     },
     "metadata": {},
     "output_type": "display_data"
    },
    {
     "data": {
      "text/plain": [
       "'Example 60: label 1: features [5.  2.  3.5 1. ]'"
      ]
     },
     "metadata": {},
     "output_type": "display_data"
    },
    {
     "data": {
      "text/plain": [
       "'Example 61: label 1: features [5.9 3.  4.2 1.5]'"
      ]
     },
     "metadata": {},
     "output_type": "display_data"
    },
    {
     "data": {
      "text/plain": [
       "'Example 62: label 1: features [6.  2.2 4.  1. ]'"
      ]
     },
     "metadata": {},
     "output_type": "display_data"
    },
    {
     "data": {
      "text/plain": [
       "'Example 63: label 1: features [6.1 2.9 4.7 1.4]'"
      ]
     },
     "metadata": {},
     "output_type": "display_data"
    },
    {
     "data": {
      "text/plain": [
       "'Example 64: label 1: features [5.6 2.9 3.6 1.3]'"
      ]
     },
     "metadata": {},
     "output_type": "display_data"
    },
    {
     "data": {
      "text/plain": [
       "'Example 65: label 1: features [6.7 3.1 4.4 1.4]'"
      ]
     },
     "metadata": {},
     "output_type": "display_data"
    },
    {
     "data": {
      "text/plain": [
       "'Example 66: label 1: features [5.6 3.  4.5 1.5]'"
      ]
     },
     "metadata": {},
     "output_type": "display_data"
    },
    {
     "data": {
      "text/plain": [
       "'Example 67: label 1: features [5.8 2.7 4.1 1. ]'"
      ]
     },
     "metadata": {},
     "output_type": "display_data"
    },
    {
     "data": {
      "text/plain": [
       "'Example 68: label 1: features [6.2 2.2 4.5 1.5]'"
      ]
     },
     "metadata": {},
     "output_type": "display_data"
    },
    {
     "data": {
      "text/plain": [
       "'Example 69: label 1: features [5.6 2.5 3.9 1.1]'"
      ]
     },
     "metadata": {},
     "output_type": "display_data"
    },
    {
     "data": {
      "text/plain": [
       "'Example 70: label 1: features [5.9 3.2 4.8 1.8]'"
      ]
     },
     "metadata": {},
     "output_type": "display_data"
    },
    {
     "data": {
      "text/plain": [
       "'Example 71: label 1: features [6.1 2.8 4.  1.3]'"
      ]
     },
     "metadata": {},
     "output_type": "display_data"
    },
    {
     "data": {
      "text/plain": [
       "'Example 72: label 1: features [6.3 2.5 4.9 1.5]'"
      ]
     },
     "metadata": {},
     "output_type": "display_data"
    },
    {
     "data": {
      "text/plain": [
       "'Example 73: label 1: features [6.1 2.8 4.7 1.2]'"
      ]
     },
     "metadata": {},
     "output_type": "display_data"
    },
    {
     "data": {
      "text/plain": [
       "'Example 74: label 1: features [6.4 2.9 4.3 1.3]'"
      ]
     },
     "metadata": {},
     "output_type": "display_data"
    },
    {
     "data": {
      "text/plain": [
       "'Example 75: label 1: features [6.6 3.  4.4 1.4]'"
      ]
     },
     "metadata": {},
     "output_type": "display_data"
    },
    {
     "data": {
      "text/plain": [
       "'Example 76: label 1: features [6.8 2.8 4.8 1.4]'"
      ]
     },
     "metadata": {},
     "output_type": "display_data"
    },
    {
     "data": {
      "text/plain": [
       "'Example 77: label 1: features [6.7 3.  5.  1.7]'"
      ]
     },
     "metadata": {},
     "output_type": "display_data"
    },
    {
     "data": {
      "text/plain": [
       "'Example 78: label 1: features [6.  2.9 4.5 1.5]'"
      ]
     },
     "metadata": {},
     "output_type": "display_data"
    },
    {
     "data": {
      "text/plain": [
       "'Example 79: label 1: features [5.7 2.6 3.5 1. ]'"
      ]
     },
     "metadata": {},
     "output_type": "display_data"
    },
    {
     "data": {
      "text/plain": [
       "'Example 80: label 1: features [5.5 2.4 3.8 1.1]'"
      ]
     },
     "metadata": {},
     "output_type": "display_data"
    },
    {
     "data": {
      "text/plain": [
       "'Example 81: label 1: features [5.5 2.4 3.7 1. ]'"
      ]
     },
     "metadata": {},
     "output_type": "display_data"
    },
    {
     "data": {
      "text/plain": [
       "'Example 82: label 1: features [5.8 2.7 3.9 1.2]'"
      ]
     },
     "metadata": {},
     "output_type": "display_data"
    },
    {
     "data": {
      "text/plain": [
       "'Example 83: label 1: features [6.  2.7 5.1 1.6]'"
      ]
     },
     "metadata": {},
     "output_type": "display_data"
    },
    {
     "data": {
      "text/plain": [
       "'Example 84: label 1: features [5.4 3.  4.5 1.5]'"
      ]
     },
     "metadata": {},
     "output_type": "display_data"
    },
    {
     "data": {
      "text/plain": [
       "'Example 85: label 1: features [6.  3.4 4.5 1.6]'"
      ]
     },
     "metadata": {},
     "output_type": "display_data"
    },
    {
     "data": {
      "text/plain": [
       "'Example 86: label 1: features [6.7 3.1 4.7 1.5]'"
      ]
     },
     "metadata": {},
     "output_type": "display_data"
    },
    {
     "data": {
      "text/plain": [
       "'Example 87: label 1: features [6.3 2.3 4.4 1.3]'"
      ]
     },
     "metadata": {},
     "output_type": "display_data"
    },
    {
     "data": {
      "text/plain": [
       "'Example 88: label 1: features [5.6 3.  4.1 1.3]'"
      ]
     },
     "metadata": {},
     "output_type": "display_data"
    },
    {
     "data": {
      "text/plain": [
       "'Example 89: label 1: features [5.5 2.5 4.  1.3]'"
      ]
     },
     "metadata": {},
     "output_type": "display_data"
    },
    {
     "data": {
      "text/plain": [
       "'Example 90: label 1: features [5.5 2.6 4.4 1.2]'"
      ]
     },
     "metadata": {},
     "output_type": "display_data"
    },
    {
     "data": {
      "text/plain": [
       "'Example 91: label 1: features [6.1 3.  4.6 1.4]'"
      ]
     },
     "metadata": {},
     "output_type": "display_data"
    },
    {
     "data": {
      "text/plain": [
       "'Example 92: label 1: features [5.8 2.6 4.  1.2]'"
      ]
     },
     "metadata": {},
     "output_type": "display_data"
    },
    {
     "data": {
      "text/plain": [
       "'Example 93: label 1: features [5.  2.3 3.3 1. ]'"
      ]
     },
     "metadata": {},
     "output_type": "display_data"
    },
    {
     "data": {
      "text/plain": [
       "'Example 94: label 1: features [5.6 2.7 4.2 1.3]'"
      ]
     },
     "metadata": {},
     "output_type": "display_data"
    },
    {
     "data": {
      "text/plain": [
       "'Example 95: label 1: features [5.7 3.  4.2 1.2]'"
      ]
     },
     "metadata": {},
     "output_type": "display_data"
    },
    {
     "data": {
      "text/plain": [
       "'Example 96: label 1: features [5.7 2.9 4.2 1.3]'"
      ]
     },
     "metadata": {},
     "output_type": "display_data"
    },
    {
     "data": {
      "text/plain": [
       "'Example 97: label 1: features [6.2 2.9 4.3 1.3]'"
      ]
     },
     "metadata": {},
     "output_type": "display_data"
    },
    {
     "data": {
      "text/plain": [
       "'Example 98: label 1: features [5.1 2.5 3.  1.1]'"
      ]
     },
     "metadata": {},
     "output_type": "display_data"
    },
    {
     "data": {
      "text/plain": [
       "'Example 99: label 1: features [5.7 2.8 4.1 1.3]'"
      ]
     },
     "metadata": {},
     "output_type": "display_data"
    },
    {
     "data": {
      "text/plain": [
       "'Example 100: label 2: features [6.3 3.3 6.  2.5]'"
      ]
     },
     "metadata": {},
     "output_type": "display_data"
    },
    {
     "data": {
      "text/plain": [
       "'Example 101: label 2: features [5.8 2.7 5.1 1.9]'"
      ]
     },
     "metadata": {},
     "output_type": "display_data"
    },
    {
     "data": {
      "text/plain": [
       "'Example 102: label 2: features [7.1 3.  5.9 2.1]'"
      ]
     },
     "metadata": {},
     "output_type": "display_data"
    },
    {
     "data": {
      "text/plain": [
       "'Example 103: label 2: features [6.3 2.9 5.6 1.8]'"
      ]
     },
     "metadata": {},
     "output_type": "display_data"
    },
    {
     "data": {
      "text/plain": [
       "'Example 104: label 2: features [6.5 3.  5.8 2.2]'"
      ]
     },
     "metadata": {},
     "output_type": "display_data"
    },
    {
     "data": {
      "text/plain": [
       "'Example 105: label 2: features [7.6 3.  6.6 2.1]'"
      ]
     },
     "metadata": {},
     "output_type": "display_data"
    },
    {
     "data": {
      "text/plain": [
       "'Example 106: label 2: features [4.9 2.5 4.5 1.7]'"
      ]
     },
     "metadata": {},
     "output_type": "display_data"
    },
    {
     "data": {
      "text/plain": [
       "'Example 107: label 2: features [7.3 2.9 6.3 1.8]'"
      ]
     },
     "metadata": {},
     "output_type": "display_data"
    },
    {
     "data": {
      "text/plain": [
       "'Example 108: label 2: features [6.7 2.5 5.8 1.8]'"
      ]
     },
     "metadata": {},
     "output_type": "display_data"
    },
    {
     "data": {
      "text/plain": [
       "'Example 109: label 2: features [7.2 3.6 6.1 2.5]'"
      ]
     },
     "metadata": {},
     "output_type": "display_data"
    },
    {
     "data": {
      "text/plain": [
       "'Example 110: label 2: features [6.5 3.2 5.1 2. ]'"
      ]
     },
     "metadata": {},
     "output_type": "display_data"
    },
    {
     "data": {
      "text/plain": [
       "'Example 111: label 2: features [6.4 2.7 5.3 1.9]'"
      ]
     },
     "metadata": {},
     "output_type": "display_data"
    },
    {
     "data": {
      "text/plain": [
       "'Example 112: label 2: features [6.8 3.  5.5 2.1]'"
      ]
     },
     "metadata": {},
     "output_type": "display_data"
    },
    {
     "data": {
      "text/plain": [
       "'Example 113: label 2: features [5.7 2.5 5.  2. ]'"
      ]
     },
     "metadata": {},
     "output_type": "display_data"
    },
    {
     "data": {
      "text/plain": [
       "'Example 114: label 2: features [5.8 2.8 5.1 2.4]'"
      ]
     },
     "metadata": {},
     "output_type": "display_data"
    },
    {
     "data": {
      "text/plain": [
       "'Example 115: label 2: features [6.4 3.2 5.3 2.3]'"
      ]
     },
     "metadata": {},
     "output_type": "display_data"
    },
    {
     "data": {
      "text/plain": [
       "'Example 116: label 2: features [6.5 3.  5.5 1.8]'"
      ]
     },
     "metadata": {},
     "output_type": "display_data"
    },
    {
     "data": {
      "text/plain": [
       "'Example 117: label 2: features [7.7 3.8 6.7 2.2]'"
      ]
     },
     "metadata": {},
     "output_type": "display_data"
    },
    {
     "data": {
      "text/plain": [
       "'Example 118: label 2: features [7.7 2.6 6.9 2.3]'"
      ]
     },
     "metadata": {},
     "output_type": "display_data"
    },
    {
     "data": {
      "text/plain": [
       "'Example 119: label 2: features [6.  2.2 5.  1.5]'"
      ]
     },
     "metadata": {},
     "output_type": "display_data"
    },
    {
     "data": {
      "text/plain": [
       "'Example 120: label 2: features [6.9 3.2 5.7 2.3]'"
      ]
     },
     "metadata": {},
     "output_type": "display_data"
    },
    {
     "data": {
      "text/plain": [
       "'Example 121: label 2: features [5.6 2.8 4.9 2. ]'"
      ]
     },
     "metadata": {},
     "output_type": "display_data"
    },
    {
     "data": {
      "text/plain": [
       "'Example 122: label 2: features [7.7 2.8 6.7 2. ]'"
      ]
     },
     "metadata": {},
     "output_type": "display_data"
    },
    {
     "data": {
      "text/plain": [
       "'Example 123: label 2: features [6.3 2.7 4.9 1.8]'"
      ]
     },
     "metadata": {},
     "output_type": "display_data"
    },
    {
     "data": {
      "text/plain": [
       "'Example 124: label 2: features [6.7 3.3 5.7 2.1]'"
      ]
     },
     "metadata": {},
     "output_type": "display_data"
    },
    {
     "data": {
      "text/plain": [
       "'Example 125: label 2: features [7.2 3.2 6.  1.8]'"
      ]
     },
     "metadata": {},
     "output_type": "display_data"
    },
    {
     "data": {
      "text/plain": [
       "'Example 126: label 2: features [6.2 2.8 4.8 1.8]'"
      ]
     },
     "metadata": {},
     "output_type": "display_data"
    },
    {
     "data": {
      "text/plain": [
       "'Example 127: label 2: features [6.1 3.  4.9 1.8]'"
      ]
     },
     "metadata": {},
     "output_type": "display_data"
    },
    {
     "data": {
      "text/plain": [
       "'Example 128: label 2: features [6.4 2.8 5.6 2.1]'"
      ]
     },
     "metadata": {},
     "output_type": "display_data"
    },
    {
     "data": {
      "text/plain": [
       "'Example 129: label 2: features [7.2 3.  5.8 1.6]'"
      ]
     },
     "metadata": {},
     "output_type": "display_data"
    },
    {
     "data": {
      "text/plain": [
       "'Example 130: label 2: features [7.4 2.8 6.1 1.9]'"
      ]
     },
     "metadata": {},
     "output_type": "display_data"
    },
    {
     "data": {
      "text/plain": [
       "'Example 131: label 2: features [7.9 3.8 6.4 2. ]'"
      ]
     },
     "metadata": {},
     "output_type": "display_data"
    },
    {
     "data": {
      "text/plain": [
       "'Example 132: label 2: features [6.4 2.8 5.6 2.2]'"
      ]
     },
     "metadata": {},
     "output_type": "display_data"
    },
    {
     "data": {
      "text/plain": [
       "'Example 133: label 2: features [6.3 2.8 5.1 1.5]'"
      ]
     },
     "metadata": {},
     "output_type": "display_data"
    },
    {
     "data": {
      "text/plain": [
       "'Example 134: label 2: features [6.1 2.6 5.6 1.4]'"
      ]
     },
     "metadata": {},
     "output_type": "display_data"
    },
    {
     "data": {
      "text/plain": [
       "'Example 135: label 2: features [7.7 3.  6.1 2.3]'"
      ]
     },
     "metadata": {},
     "output_type": "display_data"
    },
    {
     "data": {
      "text/plain": [
       "'Example 136: label 2: features [6.3 3.4 5.6 2.4]'"
      ]
     },
     "metadata": {},
     "output_type": "display_data"
    },
    {
     "data": {
      "text/plain": [
       "'Example 137: label 2: features [6.4 3.1 5.5 1.8]'"
      ]
     },
     "metadata": {},
     "output_type": "display_data"
    },
    {
     "data": {
      "text/plain": [
       "'Example 138: label 2: features [6.  3.  4.8 1.8]'"
      ]
     },
     "metadata": {},
     "output_type": "display_data"
    },
    {
     "data": {
      "text/plain": [
       "'Example 139: label 2: features [6.9 3.1 5.4 2.1]'"
      ]
     },
     "metadata": {},
     "output_type": "display_data"
    },
    {
     "data": {
      "text/plain": [
       "'Example 140: label 2: features [6.7 3.1 5.6 2.4]'"
      ]
     },
     "metadata": {},
     "output_type": "display_data"
    },
    {
     "data": {
      "text/plain": [
       "'Example 141: label 2: features [6.9 3.1 5.1 2.3]'"
      ]
     },
     "metadata": {},
     "output_type": "display_data"
    },
    {
     "data": {
      "text/plain": [
       "'Example 142: label 2: features [5.8 2.7 5.1 1.9]'"
      ]
     },
     "metadata": {},
     "output_type": "display_data"
    },
    {
     "data": {
      "text/plain": [
       "'Example 143: label 2: features [6.8 3.2 5.9 2.3]'"
      ]
     },
     "metadata": {},
     "output_type": "display_data"
    },
    {
     "data": {
      "text/plain": [
       "'Example 144: label 2: features [6.7 3.3 5.7 2.5]'"
      ]
     },
     "metadata": {},
     "output_type": "display_data"
    },
    {
     "data": {
      "text/plain": [
       "'Example 145: label 2: features [6.7 3.  5.2 2.3]'"
      ]
     },
     "metadata": {},
     "output_type": "display_data"
    },
    {
     "data": {
      "text/plain": [
       "'Example 146: label 2: features [6.3 2.5 5.  1.9]'"
      ]
     },
     "metadata": {},
     "output_type": "display_data"
    },
    {
     "data": {
      "text/plain": [
       "'Example 147: label 2: features [6.5 3.  5.2 2. ]'"
      ]
     },
     "metadata": {},
     "output_type": "display_data"
    },
    {
     "data": {
      "text/plain": [
       "'Example 148: label 2: features [6.2 3.4 5.4 2.3]'"
      ]
     },
     "metadata": {},
     "output_type": "display_data"
    },
    {
     "data": {
      "text/plain": [
       "'Example 149: label 2: features [5.9 3.  5.1 1.8]'"
      ]
     },
     "metadata": {},
     "output_type": "display_data"
    }
   ],
   "source": [
    "# iris_data = []\n",
    "# for i in range(len(iris.target)):\n",
    "#     iris_data.append(\n",
    "#         {\"Example\": i, \"Label\": iris.target[i], \"Features\": iris.data[i]}\n",
    "#     )\n",
    "\n",
    "# df = pd.DataFrame(iris_data)\n",
    "# display(HTML(df.to_html(index=False)))\n",
    "\n",
    "for i in range(len(iris.target)):\n",
    "    display(f\"Example {i}: label {iris.target[i]}: features {iris.data[i]}\")\n",
    "\n",
    "# display(iris.data[0])\n"
   ]
  },
  {
   "cell_type": "markdown",
   "id": "f6c96e91-8c2a-4aaf-9f0f-4c40dc2708a6",
   "metadata": {},
   "source": [
    "\n",
    "### <span style='color:#DB822E'>Print out entire dataset with target names instead of index</span>\n",
    "<br>\n"
   ]
  },
  {
   "cell_type": "code",
   "execution_count": 5,
   "id": "775892ec-bf6b-429c-bebb-e4ef94e5d142",
   "metadata": {
    "collapsed": true,
    "jupyter": {
     "outputs_hidden": true
    }
   },
   "outputs": [
    {
     "data": {
      "text/plain": [
       "'Example 0: label setosa(0): features [5.1 3.5 1.4 0.2]'"
      ]
     },
     "metadata": {},
     "output_type": "display_data"
    },
    {
     "data": {
      "text/plain": [
       "'Example 1: label setosa(0): features [4.9 3.  1.4 0.2]'"
      ]
     },
     "metadata": {},
     "output_type": "display_data"
    },
    {
     "data": {
      "text/plain": [
       "'Example 2: label setosa(0): features [4.7 3.2 1.3 0.2]'"
      ]
     },
     "metadata": {},
     "output_type": "display_data"
    },
    {
     "data": {
      "text/plain": [
       "'Example 3: label setosa(0): features [4.6 3.1 1.5 0.2]'"
      ]
     },
     "metadata": {},
     "output_type": "display_data"
    },
    {
     "data": {
      "text/plain": [
       "'Example 4: label setosa(0): features [5.  3.6 1.4 0.2]'"
      ]
     },
     "metadata": {},
     "output_type": "display_data"
    },
    {
     "data": {
      "text/plain": [
       "'Example 5: label setosa(0): features [5.4 3.9 1.7 0.4]'"
      ]
     },
     "metadata": {},
     "output_type": "display_data"
    },
    {
     "data": {
      "text/plain": [
       "'Example 6: label setosa(0): features [4.6 3.4 1.4 0.3]'"
      ]
     },
     "metadata": {},
     "output_type": "display_data"
    },
    {
     "data": {
      "text/plain": [
       "'Example 7: label setosa(0): features [5.  3.4 1.5 0.2]'"
      ]
     },
     "metadata": {},
     "output_type": "display_data"
    },
    {
     "data": {
      "text/plain": [
       "'Example 8: label setosa(0): features [4.4 2.9 1.4 0.2]'"
      ]
     },
     "metadata": {},
     "output_type": "display_data"
    },
    {
     "data": {
      "text/plain": [
       "'Example 9: label setosa(0): features [4.9 3.1 1.5 0.1]'"
      ]
     },
     "metadata": {},
     "output_type": "display_data"
    },
    {
     "data": {
      "text/plain": [
       "'Example 10: label setosa(0): features [5.4 3.7 1.5 0.2]'"
      ]
     },
     "metadata": {},
     "output_type": "display_data"
    },
    {
     "data": {
      "text/plain": [
       "'Example 11: label setosa(0): features [4.8 3.4 1.6 0.2]'"
      ]
     },
     "metadata": {},
     "output_type": "display_data"
    },
    {
     "data": {
      "text/plain": [
       "'Example 12: label setosa(0): features [4.8 3.  1.4 0.1]'"
      ]
     },
     "metadata": {},
     "output_type": "display_data"
    },
    {
     "data": {
      "text/plain": [
       "'Example 13: label setosa(0): features [4.3 3.  1.1 0.1]'"
      ]
     },
     "metadata": {},
     "output_type": "display_data"
    },
    {
     "data": {
      "text/plain": [
       "'Example 14: label setosa(0): features [5.8 4.  1.2 0.2]'"
      ]
     },
     "metadata": {},
     "output_type": "display_data"
    },
    {
     "data": {
      "text/plain": [
       "'Example 15: label setosa(0): features [5.7 4.4 1.5 0.4]'"
      ]
     },
     "metadata": {},
     "output_type": "display_data"
    },
    {
     "data": {
      "text/plain": [
       "'Example 16: label setosa(0): features [5.4 3.9 1.3 0.4]'"
      ]
     },
     "metadata": {},
     "output_type": "display_data"
    },
    {
     "data": {
      "text/plain": [
       "'Example 17: label setosa(0): features [5.1 3.5 1.4 0.3]'"
      ]
     },
     "metadata": {},
     "output_type": "display_data"
    },
    {
     "data": {
      "text/plain": [
       "'Example 18: label setosa(0): features [5.7 3.8 1.7 0.3]'"
      ]
     },
     "metadata": {},
     "output_type": "display_data"
    },
    {
     "data": {
      "text/plain": [
       "'Example 19: label setosa(0): features [5.1 3.8 1.5 0.3]'"
      ]
     },
     "metadata": {},
     "output_type": "display_data"
    },
    {
     "data": {
      "text/plain": [
       "'Example 20: label setosa(0): features [5.4 3.4 1.7 0.2]'"
      ]
     },
     "metadata": {},
     "output_type": "display_data"
    },
    {
     "data": {
      "text/plain": [
       "'Example 21: label setosa(0): features [5.1 3.7 1.5 0.4]'"
      ]
     },
     "metadata": {},
     "output_type": "display_data"
    },
    {
     "data": {
      "text/plain": [
       "'Example 22: label setosa(0): features [4.6 3.6 1.  0.2]'"
      ]
     },
     "metadata": {},
     "output_type": "display_data"
    },
    {
     "data": {
      "text/plain": [
       "'Example 23: label setosa(0): features [5.1 3.3 1.7 0.5]'"
      ]
     },
     "metadata": {},
     "output_type": "display_data"
    },
    {
     "data": {
      "text/plain": [
       "'Example 24: label setosa(0): features [4.8 3.4 1.9 0.2]'"
      ]
     },
     "metadata": {},
     "output_type": "display_data"
    },
    {
     "data": {
      "text/plain": [
       "'Example 25: label setosa(0): features [5.  3.  1.6 0.2]'"
      ]
     },
     "metadata": {},
     "output_type": "display_data"
    },
    {
     "data": {
      "text/plain": [
       "'Example 26: label setosa(0): features [5.  3.4 1.6 0.4]'"
      ]
     },
     "metadata": {},
     "output_type": "display_data"
    },
    {
     "data": {
      "text/plain": [
       "'Example 27: label setosa(0): features [5.2 3.5 1.5 0.2]'"
      ]
     },
     "metadata": {},
     "output_type": "display_data"
    },
    {
     "data": {
      "text/plain": [
       "'Example 28: label setosa(0): features [5.2 3.4 1.4 0.2]'"
      ]
     },
     "metadata": {},
     "output_type": "display_data"
    },
    {
     "data": {
      "text/plain": [
       "'Example 29: label setosa(0): features [4.7 3.2 1.6 0.2]'"
      ]
     },
     "metadata": {},
     "output_type": "display_data"
    },
    {
     "data": {
      "text/plain": [
       "'Example 30: label setosa(0): features [4.8 3.1 1.6 0.2]'"
      ]
     },
     "metadata": {},
     "output_type": "display_data"
    },
    {
     "data": {
      "text/plain": [
       "'Example 31: label setosa(0): features [5.4 3.4 1.5 0.4]'"
      ]
     },
     "metadata": {},
     "output_type": "display_data"
    },
    {
     "data": {
      "text/plain": [
       "'Example 32: label setosa(0): features [5.2 4.1 1.5 0.1]'"
      ]
     },
     "metadata": {},
     "output_type": "display_data"
    },
    {
     "data": {
      "text/plain": [
       "'Example 33: label setosa(0): features [5.5 4.2 1.4 0.2]'"
      ]
     },
     "metadata": {},
     "output_type": "display_data"
    },
    {
     "data": {
      "text/plain": [
       "'Example 34: label setosa(0): features [4.9 3.1 1.5 0.2]'"
      ]
     },
     "metadata": {},
     "output_type": "display_data"
    },
    {
     "data": {
      "text/plain": [
       "'Example 35: label setosa(0): features [5.  3.2 1.2 0.2]'"
      ]
     },
     "metadata": {},
     "output_type": "display_data"
    },
    {
     "data": {
      "text/plain": [
       "'Example 36: label setosa(0): features [5.5 3.5 1.3 0.2]'"
      ]
     },
     "metadata": {},
     "output_type": "display_data"
    },
    {
     "data": {
      "text/plain": [
       "'Example 37: label setosa(0): features [4.9 3.6 1.4 0.1]'"
      ]
     },
     "metadata": {},
     "output_type": "display_data"
    },
    {
     "data": {
      "text/plain": [
       "'Example 38: label setosa(0): features [4.4 3.  1.3 0.2]'"
      ]
     },
     "metadata": {},
     "output_type": "display_data"
    },
    {
     "data": {
      "text/plain": [
       "'Example 39: label setosa(0): features [5.1 3.4 1.5 0.2]'"
      ]
     },
     "metadata": {},
     "output_type": "display_data"
    },
    {
     "data": {
      "text/plain": [
       "'Example 40: label setosa(0): features [5.  3.5 1.3 0.3]'"
      ]
     },
     "metadata": {},
     "output_type": "display_data"
    },
    {
     "data": {
      "text/plain": [
       "'Example 41: label setosa(0): features [4.5 2.3 1.3 0.3]'"
      ]
     },
     "metadata": {},
     "output_type": "display_data"
    },
    {
     "data": {
      "text/plain": [
       "'Example 42: label setosa(0): features [4.4 3.2 1.3 0.2]'"
      ]
     },
     "metadata": {},
     "output_type": "display_data"
    },
    {
     "data": {
      "text/plain": [
       "'Example 43: label setosa(0): features [5.  3.5 1.6 0.6]'"
      ]
     },
     "metadata": {},
     "output_type": "display_data"
    },
    {
     "data": {
      "text/plain": [
       "'Example 44: label setosa(0): features [5.1 3.8 1.9 0.4]'"
      ]
     },
     "metadata": {},
     "output_type": "display_data"
    },
    {
     "data": {
      "text/plain": [
       "'Example 45: label setosa(0): features [4.8 3.  1.4 0.3]'"
      ]
     },
     "metadata": {},
     "output_type": "display_data"
    },
    {
     "data": {
      "text/plain": [
       "'Example 46: label setosa(0): features [5.1 3.8 1.6 0.2]'"
      ]
     },
     "metadata": {},
     "output_type": "display_data"
    },
    {
     "data": {
      "text/plain": [
       "'Example 47: label setosa(0): features [4.6 3.2 1.4 0.2]'"
      ]
     },
     "metadata": {},
     "output_type": "display_data"
    },
    {
     "data": {
      "text/plain": [
       "'Example 48: label setosa(0): features [5.3 3.7 1.5 0.2]'"
      ]
     },
     "metadata": {},
     "output_type": "display_data"
    },
    {
     "data": {
      "text/plain": [
       "'Example 49: label setosa(0): features [5.  3.3 1.4 0.2]'"
      ]
     },
     "metadata": {},
     "output_type": "display_data"
    },
    {
     "data": {
      "text/plain": [
       "'Example 50: label versicolor(1): features [7.  3.2 4.7 1.4]'"
      ]
     },
     "metadata": {},
     "output_type": "display_data"
    },
    {
     "data": {
      "text/plain": [
       "'Example 51: label versicolor(1): features [6.4 3.2 4.5 1.5]'"
      ]
     },
     "metadata": {},
     "output_type": "display_data"
    },
    {
     "data": {
      "text/plain": [
       "'Example 52: label versicolor(1): features [6.9 3.1 4.9 1.5]'"
      ]
     },
     "metadata": {},
     "output_type": "display_data"
    },
    {
     "data": {
      "text/plain": [
       "'Example 53: label versicolor(1): features [5.5 2.3 4.  1.3]'"
      ]
     },
     "metadata": {},
     "output_type": "display_data"
    },
    {
     "data": {
      "text/plain": [
       "'Example 54: label versicolor(1): features [6.5 2.8 4.6 1.5]'"
      ]
     },
     "metadata": {},
     "output_type": "display_data"
    },
    {
     "data": {
      "text/plain": [
       "'Example 55: label versicolor(1): features [5.7 2.8 4.5 1.3]'"
      ]
     },
     "metadata": {},
     "output_type": "display_data"
    },
    {
     "data": {
      "text/plain": [
       "'Example 56: label versicolor(1): features [6.3 3.3 4.7 1.6]'"
      ]
     },
     "metadata": {},
     "output_type": "display_data"
    },
    {
     "data": {
      "text/plain": [
       "'Example 57: label versicolor(1): features [4.9 2.4 3.3 1. ]'"
      ]
     },
     "metadata": {},
     "output_type": "display_data"
    },
    {
     "data": {
      "text/plain": [
       "'Example 58: label versicolor(1): features [6.6 2.9 4.6 1.3]'"
      ]
     },
     "metadata": {},
     "output_type": "display_data"
    },
    {
     "data": {
      "text/plain": [
       "'Example 59: label versicolor(1): features [5.2 2.7 3.9 1.4]'"
      ]
     },
     "metadata": {},
     "output_type": "display_data"
    },
    {
     "data": {
      "text/plain": [
       "'Example 60: label versicolor(1): features [5.  2.  3.5 1. ]'"
      ]
     },
     "metadata": {},
     "output_type": "display_data"
    },
    {
     "data": {
      "text/plain": [
       "'Example 61: label versicolor(1): features [5.9 3.  4.2 1.5]'"
      ]
     },
     "metadata": {},
     "output_type": "display_data"
    },
    {
     "data": {
      "text/plain": [
       "'Example 62: label versicolor(1): features [6.  2.2 4.  1. ]'"
      ]
     },
     "metadata": {},
     "output_type": "display_data"
    },
    {
     "data": {
      "text/plain": [
       "'Example 63: label versicolor(1): features [6.1 2.9 4.7 1.4]'"
      ]
     },
     "metadata": {},
     "output_type": "display_data"
    },
    {
     "data": {
      "text/plain": [
       "'Example 64: label versicolor(1): features [5.6 2.9 3.6 1.3]'"
      ]
     },
     "metadata": {},
     "output_type": "display_data"
    },
    {
     "data": {
      "text/plain": [
       "'Example 65: label versicolor(1): features [6.7 3.1 4.4 1.4]'"
      ]
     },
     "metadata": {},
     "output_type": "display_data"
    },
    {
     "data": {
      "text/plain": [
       "'Example 66: label versicolor(1): features [5.6 3.  4.5 1.5]'"
      ]
     },
     "metadata": {},
     "output_type": "display_data"
    },
    {
     "data": {
      "text/plain": [
       "'Example 67: label versicolor(1): features [5.8 2.7 4.1 1. ]'"
      ]
     },
     "metadata": {},
     "output_type": "display_data"
    },
    {
     "data": {
      "text/plain": [
       "'Example 68: label versicolor(1): features [6.2 2.2 4.5 1.5]'"
      ]
     },
     "metadata": {},
     "output_type": "display_data"
    },
    {
     "data": {
      "text/plain": [
       "'Example 69: label versicolor(1): features [5.6 2.5 3.9 1.1]'"
      ]
     },
     "metadata": {},
     "output_type": "display_data"
    },
    {
     "data": {
      "text/plain": [
       "'Example 70: label versicolor(1): features [5.9 3.2 4.8 1.8]'"
      ]
     },
     "metadata": {},
     "output_type": "display_data"
    },
    {
     "data": {
      "text/plain": [
       "'Example 71: label versicolor(1): features [6.1 2.8 4.  1.3]'"
      ]
     },
     "metadata": {},
     "output_type": "display_data"
    },
    {
     "data": {
      "text/plain": [
       "'Example 72: label versicolor(1): features [6.3 2.5 4.9 1.5]'"
      ]
     },
     "metadata": {},
     "output_type": "display_data"
    },
    {
     "data": {
      "text/plain": [
       "'Example 73: label versicolor(1): features [6.1 2.8 4.7 1.2]'"
      ]
     },
     "metadata": {},
     "output_type": "display_data"
    },
    {
     "data": {
      "text/plain": [
       "'Example 74: label versicolor(1): features [6.4 2.9 4.3 1.3]'"
      ]
     },
     "metadata": {},
     "output_type": "display_data"
    },
    {
     "data": {
      "text/plain": [
       "'Example 75: label versicolor(1): features [6.6 3.  4.4 1.4]'"
      ]
     },
     "metadata": {},
     "output_type": "display_data"
    },
    {
     "data": {
      "text/plain": [
       "'Example 76: label versicolor(1): features [6.8 2.8 4.8 1.4]'"
      ]
     },
     "metadata": {},
     "output_type": "display_data"
    },
    {
     "data": {
      "text/plain": [
       "'Example 77: label versicolor(1): features [6.7 3.  5.  1.7]'"
      ]
     },
     "metadata": {},
     "output_type": "display_data"
    },
    {
     "data": {
      "text/plain": [
       "'Example 78: label versicolor(1): features [6.  2.9 4.5 1.5]'"
      ]
     },
     "metadata": {},
     "output_type": "display_data"
    },
    {
     "data": {
      "text/plain": [
       "'Example 79: label versicolor(1): features [5.7 2.6 3.5 1. ]'"
      ]
     },
     "metadata": {},
     "output_type": "display_data"
    },
    {
     "data": {
      "text/plain": [
       "'Example 80: label versicolor(1): features [5.5 2.4 3.8 1.1]'"
      ]
     },
     "metadata": {},
     "output_type": "display_data"
    },
    {
     "data": {
      "text/plain": [
       "'Example 81: label versicolor(1): features [5.5 2.4 3.7 1. ]'"
      ]
     },
     "metadata": {},
     "output_type": "display_data"
    },
    {
     "data": {
      "text/plain": [
       "'Example 82: label versicolor(1): features [5.8 2.7 3.9 1.2]'"
      ]
     },
     "metadata": {},
     "output_type": "display_data"
    },
    {
     "data": {
      "text/plain": [
       "'Example 83: label versicolor(1): features [6.  2.7 5.1 1.6]'"
      ]
     },
     "metadata": {},
     "output_type": "display_data"
    },
    {
     "data": {
      "text/plain": [
       "'Example 84: label versicolor(1): features [5.4 3.  4.5 1.5]'"
      ]
     },
     "metadata": {},
     "output_type": "display_data"
    },
    {
     "data": {
      "text/plain": [
       "'Example 85: label versicolor(1): features [6.  3.4 4.5 1.6]'"
      ]
     },
     "metadata": {},
     "output_type": "display_data"
    },
    {
     "data": {
      "text/plain": [
       "'Example 86: label versicolor(1): features [6.7 3.1 4.7 1.5]'"
      ]
     },
     "metadata": {},
     "output_type": "display_data"
    },
    {
     "data": {
      "text/plain": [
       "'Example 87: label versicolor(1): features [6.3 2.3 4.4 1.3]'"
      ]
     },
     "metadata": {},
     "output_type": "display_data"
    },
    {
     "data": {
      "text/plain": [
       "'Example 88: label versicolor(1): features [5.6 3.  4.1 1.3]'"
      ]
     },
     "metadata": {},
     "output_type": "display_data"
    },
    {
     "data": {
      "text/plain": [
       "'Example 89: label versicolor(1): features [5.5 2.5 4.  1.3]'"
      ]
     },
     "metadata": {},
     "output_type": "display_data"
    },
    {
     "data": {
      "text/plain": [
       "'Example 90: label versicolor(1): features [5.5 2.6 4.4 1.2]'"
      ]
     },
     "metadata": {},
     "output_type": "display_data"
    },
    {
     "data": {
      "text/plain": [
       "'Example 91: label versicolor(1): features [6.1 3.  4.6 1.4]'"
      ]
     },
     "metadata": {},
     "output_type": "display_data"
    },
    {
     "data": {
      "text/plain": [
       "'Example 92: label versicolor(1): features [5.8 2.6 4.  1.2]'"
      ]
     },
     "metadata": {},
     "output_type": "display_data"
    },
    {
     "data": {
      "text/plain": [
       "'Example 93: label versicolor(1): features [5.  2.3 3.3 1. ]'"
      ]
     },
     "metadata": {},
     "output_type": "display_data"
    },
    {
     "data": {
      "text/plain": [
       "'Example 94: label versicolor(1): features [5.6 2.7 4.2 1.3]'"
      ]
     },
     "metadata": {},
     "output_type": "display_data"
    },
    {
     "data": {
      "text/plain": [
       "'Example 95: label versicolor(1): features [5.7 3.  4.2 1.2]'"
      ]
     },
     "metadata": {},
     "output_type": "display_data"
    },
    {
     "data": {
      "text/plain": [
       "'Example 96: label versicolor(1): features [5.7 2.9 4.2 1.3]'"
      ]
     },
     "metadata": {},
     "output_type": "display_data"
    },
    {
     "data": {
      "text/plain": [
       "'Example 97: label versicolor(1): features [6.2 2.9 4.3 1.3]'"
      ]
     },
     "metadata": {},
     "output_type": "display_data"
    },
    {
     "data": {
      "text/plain": [
       "'Example 98: label versicolor(1): features [5.1 2.5 3.  1.1]'"
      ]
     },
     "metadata": {},
     "output_type": "display_data"
    },
    {
     "data": {
      "text/plain": [
       "'Example 99: label versicolor(1): features [5.7 2.8 4.1 1.3]'"
      ]
     },
     "metadata": {},
     "output_type": "display_data"
    },
    {
     "data": {
      "text/plain": [
       "'Example 100: label virginica(2): features [6.3 3.3 6.  2.5]'"
      ]
     },
     "metadata": {},
     "output_type": "display_data"
    },
    {
     "data": {
      "text/plain": [
       "'Example 101: label virginica(2): features [5.8 2.7 5.1 1.9]'"
      ]
     },
     "metadata": {},
     "output_type": "display_data"
    },
    {
     "data": {
      "text/plain": [
       "'Example 102: label virginica(2): features [7.1 3.  5.9 2.1]'"
      ]
     },
     "metadata": {},
     "output_type": "display_data"
    },
    {
     "data": {
      "text/plain": [
       "'Example 103: label virginica(2): features [6.3 2.9 5.6 1.8]'"
      ]
     },
     "metadata": {},
     "output_type": "display_data"
    },
    {
     "data": {
      "text/plain": [
       "'Example 104: label virginica(2): features [6.5 3.  5.8 2.2]'"
      ]
     },
     "metadata": {},
     "output_type": "display_data"
    },
    {
     "data": {
      "text/plain": [
       "'Example 105: label virginica(2): features [7.6 3.  6.6 2.1]'"
      ]
     },
     "metadata": {},
     "output_type": "display_data"
    },
    {
     "data": {
      "text/plain": [
       "'Example 106: label virginica(2): features [4.9 2.5 4.5 1.7]'"
      ]
     },
     "metadata": {},
     "output_type": "display_data"
    },
    {
     "data": {
      "text/plain": [
       "'Example 107: label virginica(2): features [7.3 2.9 6.3 1.8]'"
      ]
     },
     "metadata": {},
     "output_type": "display_data"
    },
    {
     "data": {
      "text/plain": [
       "'Example 108: label virginica(2): features [6.7 2.5 5.8 1.8]'"
      ]
     },
     "metadata": {},
     "output_type": "display_data"
    },
    {
     "data": {
      "text/plain": [
       "'Example 109: label virginica(2): features [7.2 3.6 6.1 2.5]'"
      ]
     },
     "metadata": {},
     "output_type": "display_data"
    },
    {
     "data": {
      "text/plain": [
       "'Example 110: label virginica(2): features [6.5 3.2 5.1 2. ]'"
      ]
     },
     "metadata": {},
     "output_type": "display_data"
    },
    {
     "data": {
      "text/plain": [
       "'Example 111: label virginica(2): features [6.4 2.7 5.3 1.9]'"
      ]
     },
     "metadata": {},
     "output_type": "display_data"
    },
    {
     "data": {
      "text/plain": [
       "'Example 112: label virginica(2): features [6.8 3.  5.5 2.1]'"
      ]
     },
     "metadata": {},
     "output_type": "display_data"
    },
    {
     "data": {
      "text/plain": [
       "'Example 113: label virginica(2): features [5.7 2.5 5.  2. ]'"
      ]
     },
     "metadata": {},
     "output_type": "display_data"
    },
    {
     "data": {
      "text/plain": [
       "'Example 114: label virginica(2): features [5.8 2.8 5.1 2.4]'"
      ]
     },
     "metadata": {},
     "output_type": "display_data"
    },
    {
     "data": {
      "text/plain": [
       "'Example 115: label virginica(2): features [6.4 3.2 5.3 2.3]'"
      ]
     },
     "metadata": {},
     "output_type": "display_data"
    },
    {
     "data": {
      "text/plain": [
       "'Example 116: label virginica(2): features [6.5 3.  5.5 1.8]'"
      ]
     },
     "metadata": {},
     "output_type": "display_data"
    },
    {
     "data": {
      "text/plain": [
       "'Example 117: label virginica(2): features [7.7 3.8 6.7 2.2]'"
      ]
     },
     "metadata": {},
     "output_type": "display_data"
    },
    {
     "data": {
      "text/plain": [
       "'Example 118: label virginica(2): features [7.7 2.6 6.9 2.3]'"
      ]
     },
     "metadata": {},
     "output_type": "display_data"
    },
    {
     "data": {
      "text/plain": [
       "'Example 119: label virginica(2): features [6.  2.2 5.  1.5]'"
      ]
     },
     "metadata": {},
     "output_type": "display_data"
    },
    {
     "data": {
      "text/plain": [
       "'Example 120: label virginica(2): features [6.9 3.2 5.7 2.3]'"
      ]
     },
     "metadata": {},
     "output_type": "display_data"
    },
    {
     "data": {
      "text/plain": [
       "'Example 121: label virginica(2): features [5.6 2.8 4.9 2. ]'"
      ]
     },
     "metadata": {},
     "output_type": "display_data"
    },
    {
     "data": {
      "text/plain": [
       "'Example 122: label virginica(2): features [7.7 2.8 6.7 2. ]'"
      ]
     },
     "metadata": {},
     "output_type": "display_data"
    },
    {
     "data": {
      "text/plain": [
       "'Example 123: label virginica(2): features [6.3 2.7 4.9 1.8]'"
      ]
     },
     "metadata": {},
     "output_type": "display_data"
    },
    {
     "data": {
      "text/plain": [
       "'Example 124: label virginica(2): features [6.7 3.3 5.7 2.1]'"
      ]
     },
     "metadata": {},
     "output_type": "display_data"
    },
    {
     "data": {
      "text/plain": [
       "'Example 125: label virginica(2): features [7.2 3.2 6.  1.8]'"
      ]
     },
     "metadata": {},
     "output_type": "display_data"
    },
    {
     "data": {
      "text/plain": [
       "'Example 126: label virginica(2): features [6.2 2.8 4.8 1.8]'"
      ]
     },
     "metadata": {},
     "output_type": "display_data"
    },
    {
     "data": {
      "text/plain": [
       "'Example 127: label virginica(2): features [6.1 3.  4.9 1.8]'"
      ]
     },
     "metadata": {},
     "output_type": "display_data"
    },
    {
     "data": {
      "text/plain": [
       "'Example 128: label virginica(2): features [6.4 2.8 5.6 2.1]'"
      ]
     },
     "metadata": {},
     "output_type": "display_data"
    },
    {
     "data": {
      "text/plain": [
       "'Example 129: label virginica(2): features [7.2 3.  5.8 1.6]'"
      ]
     },
     "metadata": {},
     "output_type": "display_data"
    },
    {
     "data": {
      "text/plain": [
       "'Example 130: label virginica(2): features [7.4 2.8 6.1 1.9]'"
      ]
     },
     "metadata": {},
     "output_type": "display_data"
    },
    {
     "data": {
      "text/plain": [
       "'Example 131: label virginica(2): features [7.9 3.8 6.4 2. ]'"
      ]
     },
     "metadata": {},
     "output_type": "display_data"
    },
    {
     "data": {
      "text/plain": [
       "'Example 132: label virginica(2): features [6.4 2.8 5.6 2.2]'"
      ]
     },
     "metadata": {},
     "output_type": "display_data"
    },
    {
     "data": {
      "text/plain": [
       "'Example 133: label virginica(2): features [6.3 2.8 5.1 1.5]'"
      ]
     },
     "metadata": {},
     "output_type": "display_data"
    },
    {
     "data": {
      "text/plain": [
       "'Example 134: label virginica(2): features [6.1 2.6 5.6 1.4]'"
      ]
     },
     "metadata": {},
     "output_type": "display_data"
    },
    {
     "data": {
      "text/plain": [
       "'Example 135: label virginica(2): features [7.7 3.  6.1 2.3]'"
      ]
     },
     "metadata": {},
     "output_type": "display_data"
    },
    {
     "data": {
      "text/plain": [
       "'Example 136: label virginica(2): features [6.3 3.4 5.6 2.4]'"
      ]
     },
     "metadata": {},
     "output_type": "display_data"
    },
    {
     "data": {
      "text/plain": [
       "'Example 137: label virginica(2): features [6.4 3.1 5.5 1.8]'"
      ]
     },
     "metadata": {},
     "output_type": "display_data"
    },
    {
     "data": {
      "text/plain": [
       "'Example 138: label virginica(2): features [6.  3.  4.8 1.8]'"
      ]
     },
     "metadata": {},
     "output_type": "display_data"
    },
    {
     "data": {
      "text/plain": [
       "'Example 139: label virginica(2): features [6.9 3.1 5.4 2.1]'"
      ]
     },
     "metadata": {},
     "output_type": "display_data"
    },
    {
     "data": {
      "text/plain": [
       "'Example 140: label virginica(2): features [6.7 3.1 5.6 2.4]'"
      ]
     },
     "metadata": {},
     "output_type": "display_data"
    },
    {
     "data": {
      "text/plain": [
       "'Example 141: label virginica(2): features [6.9 3.1 5.1 2.3]'"
      ]
     },
     "metadata": {},
     "output_type": "display_data"
    },
    {
     "data": {
      "text/plain": [
       "'Example 142: label virginica(2): features [5.8 2.7 5.1 1.9]'"
      ]
     },
     "metadata": {},
     "output_type": "display_data"
    },
    {
     "data": {
      "text/plain": [
       "'Example 143: label virginica(2): features [6.8 3.2 5.9 2.3]'"
      ]
     },
     "metadata": {},
     "output_type": "display_data"
    },
    {
     "data": {
      "text/plain": [
       "'Example 144: label virginica(2): features [6.7 3.3 5.7 2.5]'"
      ]
     },
     "metadata": {},
     "output_type": "display_data"
    },
    {
     "data": {
      "text/plain": [
       "'Example 145: label virginica(2): features [6.7 3.  5.2 2.3]'"
      ]
     },
     "metadata": {},
     "output_type": "display_data"
    },
    {
     "data": {
      "text/plain": [
       "'Example 146: label virginica(2): features [6.3 2.5 5.  1.9]'"
      ]
     },
     "metadata": {},
     "output_type": "display_data"
    },
    {
     "data": {
      "text/plain": [
       "'Example 147: label virginica(2): features [6.5 3.  5.2 2. ]'"
      ]
     },
     "metadata": {},
     "output_type": "display_data"
    },
    {
     "data": {
      "text/plain": [
       "'Example 148: label virginica(2): features [6.2 3.4 5.4 2.3]'"
      ]
     },
     "metadata": {},
     "output_type": "display_data"
    },
    {
     "data": {
      "text/plain": [
       "'Example 149: label virginica(2): features [5.9 3.  5.1 1.8]'"
      ]
     },
     "metadata": {},
     "output_type": "display_data"
    }
   ],
   "source": [
    "\n",
    "for i in range(len(iris.target)):\n",
    "    display(f\"Example {i}: label {iris.target_names[iris.target[i]]}({iris.target[i]}): features {iris.data[i]}\")"
   ]
  },
  {
   "cell_type": "markdown",
   "id": "4b18cd76-29c7-425e-b1e2-3816422064dd",
   "metadata": {},
   "source": [
    "## <span style='color:#DB822E'>Entering our own data</span>\n",
    "\n",
    "We'll now enter our own test data. We'll start by removing any septal, petal info in the dataset.\n",
    "This will ensure we'll get the results we intended. \n",
    "Then enter our test index data. [0, 50, 100]\n",
    "\n",
    "Then print the expected results.\n",
    "\n"
   ]
  },
  {
   "cell_type": "code",
   "execution_count": 7,
   "id": "64894bf8-6fbe-41d2-890f-ba79f710e173",
   "metadata": {},
   "outputs": [
    {
     "data": {
      "text/plain": [
       "array([0, 1, 2])"
      ]
     },
     "metadata": {},
     "output_type": "display_data"
    }
   ],
   "source": [
    "\n",
    "# iris = load_iris()\n",
    "test_idx = [0, 50, 100]\n",
    "\n",
    "# training data\n",
    "train_target = np.delete(iris.target, test_idx)\n",
    "train_data = np.delete(iris.data, test_idx, axis=0)\n",
    "\n",
    "# testing data\n",
    "test_target = iris.target[test_idx]\n",
    "test_data = iris.data[test_idx]\n",
    "\n",
    "\n",
    "\n",
    "# What to expect\n",
    "display(test_target)"
   ]
  },
  {
   "cell_type": "markdown",
   "id": "d755061b-2e2f-4a95-a2cb-35983219fbb1",
   "metadata": {},
   "source": [
    "### <span style='color:#DB822E'> What does the model predict?</font>\n",
    "\n",
    "With text data enter, we now train the model with the new dataset.\n",
    "Using the test data we entered above, we then predict what we should get based on that data\n",
    "<br><br>\n"
   ]
  },
  {
   "cell_type": "code",
   "execution_count": 8,
   "id": "5ec042df-f29b-42e5-9e47-a654cc6a92ac",
   "metadata": {},
   "outputs": [
    {
     "data": {
      "text/plain": [
       "array([0, 1, 2])"
      ]
     },
     "metadata": {},
     "output_type": "display_data"
    }
   ],
   "source": [
    "# create new classifier\n",
    "clf = tree.DecisionTreeClassifier()\n",
    "# train on training data\n",
    "clf.fit(train_data, train_target)\n",
    "\n",
    "# What the tree predicts\n",
    "display(clf.predict(test_data))"
   ]
  },
  {
   "cell_type": "markdown",
   "id": "1230f95a-5881-410c-ac6d-677ec78438f3",
   "metadata": {},
   "source": [
    "###  <span style='color:#DB822E'> Visualize the data using an image</span>\n",
    "\n",
    "Utilizing the Graphviz Dot language module to print out a tree diagram of the Iris petal/sepal data\n",
    "<br>"
   ]
  },
  {
   "cell_type": "code",
   "execution_count": 9,
   "id": "03a7a8df-c626-4a05-b4bd-e1a12aaf8134",
   "metadata": {},
   "outputs": [
    {
     "data": {
      "image/png": "[encoded data removed]",
      "text/plain": [
       "<IPython.core.display.Image object>"
      ]
     },
     "metadata": {},
     "output_type": "display_data"
    }
   ],
   "source": [
    "# Visualize\n",
    "# from scikit decision tree tutorial: http://scikit-learn.org/stable/modules/tree.html\n",
    "from six import StringIO\n",
    "import pydotplus\n",
    "\n",
    "dot_data = StringIO()\n",
    "tree.export_graphviz(clf, out_file=dot_data,\n",
    "                     feature_names=iris.feature_names,\n",
    "                     class_names=iris.target_names,\n",
    "                     filled=True, rounded=True,\n",
    "                     impurity=False)\n",
    "\n",
    "graph = pydotplus.graph_from_dot_data(dot_data.getvalue())\n",
    "\n",
    "graph.write_png(\"images/iris.png\")\n",
    "display(Image(filename=\"images/iris.png\"))\n",
    "\n"
   ]
  },
  {
   "cell_type": "code",
   "execution_count": null,
   "id": "f8556e03-b297-4c44-b3a8-91fc5abd7396",
   "metadata": {},
   "outputs": [],
   "source": []
  }
 ],
 "metadata": {
  "kernelspec": {
   "display_name": "local-venv-kernel",
   "language": "python",
   "name": "local-venv-kernel"
  },
  "language_info": {
   "codemirror_mode": {
    "name": "ipython",
    "version": 3
   },
   "file_extension": ".py",
   "mimetype": "text/x-python",
   "name": "python",
   "nbconvert_exporter": "python",
   "pygments_lexer": "ipython3",
   "version": "3.10.3"
  }
 },
 "nbformat": 4,
 "nbformat_minor": 5
}
