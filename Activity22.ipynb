{
 "cells": [
  {
   "cell_type": "markdown",
   "id": "b80fd11b-5d17-48fe-84b8-6021cc71e921",
   "metadata": {},
   "source": [
    "# Image Classification - From Saved Model\n",
    "## Switch vs. Access Point\n"
   ]
  },
  {
   "cell_type": "code",
   "execution_count": 1,
   "id": "9888d235-0e09-40ac-9b7b-68fb5f5ee0b3",
   "metadata": {},
   "outputs": [
    {
     "name": "stderr",
     "output_type": "stream",
     "text": [
      "2023-07-26 13:53:15.991192: I tensorflow/core/platform/cpu_feature_guard.cc:182] This TensorFlow binary is optimized to use available CPU instructions in performance-critical operations.\n",
      "To enable the following instructions: AVX2 FMA, in other operations, rebuild TensorFlow with the appropriate compiler flags.\n"
     ]
    },
    {
     "name": "stdout",
     "output_type": "stream",
     "text": [
      "1/1 [==============================] - 0s 138ms/step\n",
      "1/1 [==============================] - 0s 24ms/step\n"
     ]
    },
    {
     "data": {
      "text/plain": [
       "'Predicted class of image is a Switch'"
      ]
     },
     "metadata": {},
     "output_type": "display_data"
    }
   ],
   "source": [
    "from IPython.display import display as print\n",
    "from IPython.display import Image, display, Markdown\n",
    "\n",
    "import cv2\n",
    "import numpy as np\n",
    "import tensorflow as tf\n",
    "from tensorflow.keras.models import load_model  # type: ignore\n",
    "\n",
    "img = cv2.imread('test_images/test_switch-1.png')\n",
    "resize = tf.image.resize(img, (256, 256))\n",
    "\n",
    "model = load_model('models/imageclassifier.h5')\n",
    "model_array = model.predict(np.expand_dims(resize/255, 0))  # type: ignore\n",
    "# print(model_array)\n",
    "\n",
    "yhat = model.predict(np.expand_dims(resize/255, 0))  # type: ignore\n",
    "\n",
    "if yhat > 0.5:\n",
    "    print('Predicted class of image is a Switch')\n",
    "else:\n",
    "    print('Predicted class of image is an Access Point')"
   ]
  },
  {
   "cell_type": "code",
   "execution_count": null,
   "id": "f9bb2383-5b68-42b5-a2d4-85789101d4c1",
   "metadata": {},
   "outputs": [],
   "source": []
  }
 ],
 "metadata": {
  "kernelspec": {
   "display_name": "aruba-ai-workshop-tf",
   "language": "python",
   "name": "aruba-ai-workshop-tf"
  },
  "language_info": {
   "codemirror_mode": {
    "name": "ipython",
    "version": 3
   },
   "file_extension": ".py",
   "mimetype": "text/x-python",
   "name": "python",
   "nbconvert_exporter": "python",
   "pygments_lexer": "ipython3",
   "version": "3.10.3"
  }
 },
 "nbformat": 4,
 "nbformat_minor": 5
}
