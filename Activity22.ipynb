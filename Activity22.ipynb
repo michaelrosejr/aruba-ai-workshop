{
 "cells": [
  {
   "cell_type": "markdown",
   "id": "b80fd11b-5d17-48fe-84b8-6021cc71e921",
   "metadata": {},
   "source": [
    "# <span style='color:#DB822E'>Activity 22: Switch vs. Access Point</span>\n",
    "## Image Classification - From a Saved Model\n",
    "\n"
   ]
  },
  {
   "cell_type": "code",
   "execution_count": null,
   "id": "9888d235-0e09-40ac-9b7b-68fb5f5ee0b3",
   "metadata": {},
   "outputs": [],
   "source": [
    "from IPython.display import display as print\n",
    "from IPython.display import Image, display, Markdown\n",
    "\n",
    "import cv2\n",
    "import numpy as np\n",
    "import tensorflow as tf\n",
    "from tensorflow.keras.models import load_model  # type: ignore\n",
    "\n",
    "img = cv2.imread('test_images/test_switch-1.png')\n",
    "resize = tf.image.resize(img, (256, 256))\n",
    "\n",
    "model = load_model('models/imageclassifier.keras')\n",
    "model_array = model.predict(np.expand_dims(resize/255, 0))  # type: ignore\n",
    "# print(model_array)\n",
    "\n",
    "yhat = model.predict(np.expand_dims(resize/255, 0))  # type: ignore\n",
    "\n",
    "if yhat > 0.5:\n",
    "    print('Predicted class of image is a Switch')\n",
    "else:\n",
    "    print('Predicted class of image is an Access Point')"
   ]
  },
  {
   "cell_type": "code",
   "execution_count": null,
   "id": "f9bb2383-5b68-42b5-a2d4-85789101d4c1",
   "metadata": {},
   "outputs": [],
   "source": []
  }
 ],
 "metadata": {
  "kernelspec": {
   "display_name": "aruba-ai-workshop-tf",
   "language": "python",
   "name": "aruba-ai-workshop-tf"
  },
  "language_info": {
   "codemirror_mode": {
    "name": "ipython",
    "version": 3
   },
   "file_extension": ".py",
   "mimetype": "text/x-python",
   "name": "python",
   "nbconvert_exporter": "python",
   "pygments_lexer": "ipython3",
   "version": "3.10.3"
  }
 },
 "nbformat": 4,
 "nbformat_minor": 5
}
