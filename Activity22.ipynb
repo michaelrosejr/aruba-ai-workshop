{
 "cells": [
  {
   "cell_type": "markdown",
   "id": "b80fd11b-5d17-48fe-84b8-6021cc71e921",
   "metadata": {},
   "source": [
    "# <span style='color:#DB822E'>Activity 22: Switch vs. Access Point</span>\n",
    "## Image Classification Using A Saved Model\n",
    "\n",
    "In this activity we'll use the model from the previous activity to predicted if an image is a switch or an AP. The difference between these two activities is that in this actvitiy, we'll use a saved model. \n",
    "\n",
    "Using a saved model allows avoid having to train the model again to run our predictions. We can use the saved trainings that are in the model to quickly run our predictions. This is the power of ML!\n"
   ]
  },
  {
   "cell_type": "code",
   "execution_count": null,
   "id": "9888d235-0e09-40ac-9b7b-68fb5f5ee0b3",
   "metadata": {
    "collapsed": true,
    "jupyter": {
     "outputs_hidden": true
    }
   },
   "outputs": [],
   "source": [
    "from IPython.display import display\n",
    "from IPython.display import Image, display, Markdown\n",
    "\n",
    "import cv2\n",
    "import numpy as np\n",
    "import tensorflow as tf\n",
    "from tensorflow.keras.models import load_model  # type: ignore\n",
    "\n",
    "img = cv2.imread('test_images/test_switch-1.png')\n",
    "resize = tf.image.resize(img, (256, 256))\n",
    "\n",
    "model = load_model('models/imageclassifier.keras')\n",
    "model_array = model.predict(np.expand_dims(resize/255, 0))  # type: ignore\n",
    "# print(model_array)\n",
    "\n",
    "yhat = model.predict(np.expand_dims(resize/255, 0))  # type: ignore\n",
    "\n",
    "if yhat > 0.5:\n",
    "    display(Markdown('## The predicted class of image is a: Switch'))\n",
    "else:\n",
    "    display(Markdown('## The predicted class of image is an: Access Point'))\n",
    "    \n",
    "display(Markdown('<span style=\"color: #14B326\">Done!</span>'))\n"
   ]
  },
  {
   "cell_type": "markdown",
   "id": "20e2cfda-f1dd-42de-aa74-7c04edba99f7",
   "metadata": {},
   "source": [
    "What happened?\n",
    "\n",
    "Well in the above code, we loaded the image we wanted to test.\n",
    "We then resized the image.\n",
    "We then open our saved model that we used in the prevoius activity, which was using the Keras Image Classifier.\n",
    "Finally, we run our prediction and display the results!\n"
   ]
  },
  {
   "cell_type": "markdown",
   "id": "c9f2fa16-0ace-4622-8ed1-56c4c8d5154e",
   "metadata": {},
   "source": [
    "## You have completed Activity 22 and this workshop. Congratulations!"
   ]
  }
 ],
 "metadata": {
  "kernelspec": {
   "display_name": "Python 3 (ipykernel)",
   "language": "python",
   "name": "python3"
  },
  "language_info": {
   "codemirror_mode": {
    "name": "ipython",
    "version": 3
   },
   "file_extension": ".py",
   "mimetype": "text/x-python",
   "name": "python",
   "nbconvert_exporter": "python",
   "pygments_lexer": "ipython3",
   "version": "3.10.12"
  }
 },
 "nbformat": 4,
 "nbformat_minor": 5
}
