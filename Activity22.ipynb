{
 "cells": [
  {
   "cell_type": "markdown",
   "id": "b80fd11b-5d17-48fe-84b8-6021cc71e921",
   "metadata": {},
   "source": [
    "# <span style='color:#DB822E'>Activity 22: Switch vs. Access Point</span>\n",
    "## Image Classification Using A Saved Model\n",
    "\n",
    "In this activity we'll use the model from the previous activity to predicted if an image is a switch or an AP. The difference between these two activities is that in this actvitiy, we'll use a saved model. \n",
    "\n",
    "Using a saved model allows avoid having to train the model again to run our predictions. We can use the saved trainings that are in the model to quickly run our predictions. This is the power of ML!\n",
    "\n",
    "First we'll load the necessary Python modules and the test image we'll use to validate the model we saved in the preivous Activity."
   ]
  },
  {
   "cell_type": "code",
   "execution_count": null,
   "id": "9b4343b7-c7d9-4a1b-b22d-f202d7d4f1ea",
   "metadata": {},
   "outputs": [],
   "source": [
    "from IPython.display import display\n",
    "from IPython.display import Image, display, Markdown\n",
    "\n",
    "import cv2\n",
    "import numpy as np\n",
    "import tensorflow as tf\n",
    "from tensorflow.keras.models import load_model  # type: ignore\n",
    "\n",
    "test_image_location = 'test_images/test_switch-1.png'\n",
    "\n",
    "img = cv2.imread(test_image_location)\n",
    "resize = tf.image.resize(img, (256, 256))\n",
    "\n",
    "display(Markdown(f'\\nUsing the test image file <span style=\"color: blue\">./{test_image_location}</span> to validate our saved model\\n'))\n",
    "display(Markdown('<span style=\"color: #14B326\">Done!</span>'))\n"
   ]
  },
  {
   "cell_type": "markdown",
   "id": "dcb9206d-8a2c-4f03-a373-83a45e7f24e3",
   "metadata": {},
   "source": [
    "Next the instructors for this course will provide you a GPU. This is necessary to ensure everyone in the workshop isn't using too many resources as we only have a few GPUs available.\n",
    "\n",
    "Once that has been provided, run the code block below and enter the GPU number provided. \n",
    "\n",
    "This code block will load the model from the previous activity and run a prediction on the test image we provided above.\n",
    "\n",
    "Let's see what it comes back as based on our prediction."
   ]
  },
  {
   "cell_type": "code",
   "execution_count": null,
   "id": "9888d235-0e09-40ac-9b7b-68fb5f5ee0b3",
   "metadata": {},
   "outputs": [],
   "source": [
    "\n",
    "gpu_number=input(\"Enter the GPU number:\")\n",
    "\n",
    "classifier_file = 'imageclassifier.keras'\n",
    "\n",
    "with tf.device(f'/device:GPU:{gpu_number}'):\n",
    "    print(f\"Using GPU Number: {gpu_number}\")\n",
    "    model = load_model(f'models/{classifier_file}')\n",
    "    model_array = model.predict(np.expand_dims(resize/255, 0))  # type: ignore\n",
    "    # print(model_array)\n",
    "\n",
    "    yhat = model.predict(np.expand_dims(resize/255, 0))  # type: ignore\n",
    "\n",
    "if yhat > 0.5:\n",
    "    display(Markdown('## The predicted class of image is a: <span style=\"color: #FF7800\">Switch</span>'))\n",
    "else:\n",
    "    display(Markdown('## The predicted class of image is an: <span style=\"color: #FF7800\">Access Point</span>'))\n",
    "    \n",
    "display(Markdown('<span style=\"color: #14B326\">Done!</span>'))\n"
   ]
  },
  {
   "cell_type": "markdown",
   "id": "20e2cfda-f1dd-42de-aa74-7c04edba99f7",
   "metadata": {},
   "source": [
    "What happened?\n",
    "\n",
    "Well in the above code, we loaded the image we wanted to test.\n",
    "We then resized the image.\n",
    "We then open our saved model that we used in the prevoius activity, which was using the Keras Image Classifier.\n",
    "Finally, we run our prediction and display the results!\n"
   ]
  },
  {
   "cell_type": "markdown",
   "id": "872678ed-2d0b-4a99-ac01-25ce185ca437",
   "metadata": {},
   "source": [
    "As an added bonus, feel free to do an image search for an Access Point or a Switch. Save it to the `./images` folder and update the code above with the file name.\n",
    "\n",
    "Run the code block again and see if the model correctly predicts what the image is of.\n",
    "\n",
    "For fun, try finding an image of a RAP (Remote Access Point) with or without the ports showing and see what the model predicts."
   ]
  },
  {
   "cell_type": "markdown",
   "id": "c9f2fa16-0ace-4622-8ed1-56c4c8d5154e",
   "metadata": {},
   "source": [
    "## You have completed Activity 22 and this workshop. Congratulations!"
   ]
  },
  {
   "cell_type": "markdown",
   "id": "f4d1c764-87ee-4b91-95b3-b83cf499abf8",
   "metadata": {},
   "source": [
    "## Optional Activity A: Training without a GPU\n",
    "\n",
    "In this Optional Activity, we can see what happens when you attempt to train a model without using a GPU. We'll use the previous Activity as an example.\n",
    "\n",
    "The below code is the same as above, with the slight change of commenting out the GPU section.\n"
   ]
  },
  {
   "cell_type": "code",
   "execution_count": null,
   "id": "1bab1fa3-bc18-4561-a79e-cdcac19c3ba3",
   "metadata": {},
   "outputs": [],
   "source": [
    "#\n",
    "# gpu_number=input(\"Enter the GPU number:\")\n",
    "\n",
    "# with tf.device(f'/device:GPU:{gpu_number}'):\n",
    "# print(f\"Using GPU Number: {gpu_number}\")\n",
    "classifier_file = 'imageclassifier.keras'\n",
    "\n",
    "\n",
    "model = load_model(f'models/{classifier_file}')\n",
    "model_array = model.predict(np.expand_dims(resize/255, 0))  # type: ignore\n",
    "# print(model_array)\n",
    "\n",
    "yhat = model.predict(np.expand_dims(resize/255, 0))  # type: ignore\n",
    "\n",
    "if yhat > 0.5:\n",
    "    display(Markdown('## The predicted class of image is a: <span style=\"color: #FF7800\">Switch</span>'))\n",
    "else:\n",
    "    display(Markdown('## The predicted class of image is an: <span style=\"color: #FF7800\">Access Point</span>'))\n",
    "    \n",
    "display(Markdown('<span style=\"color: #14B326\">Done!</span>'))"
   ]
  },
  {
   "cell_type": "markdown",
   "id": "8d14503a-7005-470b-9dfc-cefe1f2410cc",
   "metadata": {},
   "source": [
    "What happened?\n",
    "\n",
    "Well there can be few things that could have happened. You'll either receive one or more of the following errors:\n",
    "\n",
    "- InternalError: Dst tensor is not initialized.\n",
    "- ResourceExhaustedError\n",
    "- OOM when allocating tensor with shape\n",
    "- Or something similar\n",
    "\n",
    "Depending on your hardware, you may not have received an error at all but the code above took a long time to run.\n",
    "\n",
    "This is an example of why a GPU is needed and how much a difference it can make on even a small dataset such as Keras.\n",
    "\n"
   ]
  },
  {
   "cell_type": "markdown",
   "id": "56665de6-73c9-45df-9734-c95bad9d9150",
   "metadata": {},
   "source": [
    "## You have completed this Optional Activity and this workshop. Congratulations!"
   ]
  }
 ],
 "metadata": {
  "kernelspec": {
   "display_name": "Python 3 (ipykernel)",
   "language": "python",
   "name": "python3"
  },
  "language_info": {
   "codemirror_mode": {
    "name": "ipython",
    "version": 3
   },
   "file_extension": ".py",
   "mimetype": "text/x-python",
   "name": "python",
   "nbconvert_exporter": "python",
   "pygments_lexer": "ipython3",
   "version": "3.11.5"
  }
 },
 "nbformat": 4,
 "nbformat_minor": 5
}
