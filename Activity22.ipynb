{
 "cells": [
  {
   "cell_type": "markdown",
   "id": "b80fd11b-5d17-48fe-84b8-6021cc71e921",
   "metadata": {},
   "source": [
    "# <span style='color:#DB822E'>Activity 22: Switch vs. Access Point</span>\n",
    "## Image Classification Using A Saved Model\n",
    "\n",
    "In this activity we'll use the model from the previous activity to predicted if an image is a switch or an AP. The difference between these two activities is that in this actvitiy, we'll use a saved model. \n",
    "\n",
    "Using a saved model allows avoid having to train the model again to run our predictions. We can use the saved trainings that are in the model to quickly run our predictions. This is the power of ML!\n"
   ]
  },
  {
   "cell_type": "markdown",
   "id": "800ecfc8-3475-4f31-ac8f-29fc0a1bc1f7",
   "metadata": {},
   "source": [
    "## Step 1 - First we'll load all the necessary Python modules."
   ]
  },
  {
   "cell_type": "code",
   "execution_count": null,
   "id": "555626bf-a70e-4483-8994-b6b8cb7bae18",
   "metadata": {},
   "outputs": [],
   "source": [
    "from IPython.display import display\n",
    "from IPython.display import Image, display, Markdown\n",
    "\n",
    "import cv2\n",
    "import numpy as np\n",
    "import tensorflow as tf\n",
    "from tensorflow.keras.models import load_model  # type: ignore\n",
    "\n",
    "# gpus = tf.config.experimental.list_physical_devices('GPU')\n",
    "# for gpu in gpus:\n",
    "#   tf.config.experimental.set_memory_growth(gpu, True)\n",
    "\n",
    "display(Markdown('<span style=\"color: #14B326\">Done!</span>'))\n"
   ]
  },
  {
   "cell_type": "markdown",
   "id": "e69a1c4c-4b4c-47a5-aebd-0bf4ad9098b8",
   "metadata": {},
   "source": [
    "## Step 2 - Next we'll load a test image from the test_images directory to verify that our model is indeed working."
   ]
  },
  {
   "cell_type": "code",
   "execution_count": null,
   "id": "309ffbc4-8047-458c-9880-2a4fc1e885a0",
   "metadata": {},
   "outputs": [],
   "source": [
    "img = cv2.imread('test_images/test_switch-1.png')\n",
    "resize = tf.image.resize(img, (256, 256))\n",
    "\n",
    "display(Markdown('<span style=\"color: #14B326\">Done!</span>'))\n"
   ]
  },
  {
   "cell_type": "markdown",
   "id": "9fb761d0-6573-489c-b46e-d73dfb374492",
   "metadata": {},
   "source": [
    "## Step 3 - Now we'll load the image classifier model that you saved in Acitivity 21. \n",
    "\n",
    "By loading the model from the previous activity we do not need to wait to train the model. \n"
   ]
  },
  {
   "cell_type": "code",
   "execution_count": null,
   "id": "9888d235-0e09-40ac-9b7b-68fb5f5ee0b3",
   "metadata": {},
   "outputs": [],
   "source": [
    "\n",
    "# gpu_number = input(\"Enter the weight (grams):\")\n",
    "# print(f'Using GPU:{gpu_number} for model')\n",
    "\n",
    "strategy = tf.distribute.MirroredStrategy()\n",
    "\n",
    "with tf.device(f'/CPU:0'):\n",
    "    model = load_model('models/imageclassifier.keras')\n",
    "    model_array = model.predict(np.expand_dims(resize/255, 0))  # type: ignore\n",
    "        # print(model_array)\n",
    "        \n",
    "    yhat = model.predict(np.expand_dims(resize/255, 0))  # type: ignore\n",
    "\n",
    "if yhat > 0.5:\n",
    "    display(Markdown('## The predicted class of image is a: <span style=\"color: #14B326\">Switch</span>'))\n",
    "else:\n",
    "    display(Markdown('## The predicted class of image is an: <span style=\"color: #14B326\">Access Point</span>'))\n",
    "\n",
    "tf.keras.backend.clear_session()\n",
    "display(Markdown('<span style=\"color: #14B326\">Done!</span>'))\n"
   ]
  },
  {
   "cell_type": "markdown",
   "id": "20e2cfda-f1dd-42de-aa74-7c04edba99f7",
   "metadata": {},
   "source": [
    "## Step 4 - What happened?\n",
    "\n",
    "Well in the above code, we loaded the image we wanted to test.\n",
    "We then resized the image.\n",
    "We then open our saved model that we used in the prevoius activity, which was using the Keras Image Classifier.\n",
    "Finally, we run our prediction and display the results!\n"
   ]
  },
  {
   "cell_type": "markdown",
   "id": "c9f2fa16-0ace-4622-8ed1-56c4c8d5154e",
   "metadata": {},
   "source": [
    "## <span style=\"color: #14B326\">You have completed Activity 22 and this workshop. Congratulations!</span>"
   ]
  }
 ],
 "metadata": {
  "kernelspec": {
   "display_name": "Python 3 (ipykernel)",
   "language": "python",
   "name": "python3"
  },
  "language_info": {
   "codemirror_mode": {
    "name": "ipython",
    "version": 3
   },
   "file_extension": ".py",
   "mimetype": "text/x-python",
   "name": "python",
   "nbconvert_exporter": "python",
   "pygments_lexer": "ipython3",
   "version": "3.11.5"
  }
 },
 "nbformat": 4,
 "nbformat_minor": 5
}
