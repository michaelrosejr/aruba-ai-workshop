{
 "cells": [
  {
   "cell_type": "markdown",
   "id": "82b91eaa-49aa-4807-ba8a-f945a066e0e1",
   "metadata": {},
   "source": [
    "## <span style='color:#DB822E'> Activity 3: Let's Write a Pipeline </span>\n",
    "\n",
    "Thismlab will reinforce some concepts from the provious three activitie/. We will load up the Iris data set once again and build a machine learning pipeline that uses two different classifier models.  This will show use that we can use different classfiers to solve the same problem. \n",
    "\n",
    "\n",
    "There's a question you need to answer before you can put the data into production.\n",
    "\n",
    "`How accurate will it be when you need to classify your data that wasn't in your training data?`\n",
    "\n",
    "\n",
    "\n",
    "We want to verify that our models work well before we deploy them. \n",
    "\n",
    "To do this, we'll partition our data set into two parts. `Train` and `Test`.\n",
    "\n",
    "We'll use the `Train` to train our model and `Test` to see how accurate it is on new data.\n",
    "\n",
    "\n",
    "## Step 1 - Import the Data\n",
    "To get started we'll import some Python modules and the `sklearn` module that includes the Iris datasets.\n",
    "\n",
    "Let's run the code cell! 👇🏾\n"
   ]
  },
  {
   "cell_type": "code",
   "execution_count": null,
   "id": "905bb2e1-e6dd-4464-b22b-cb5d7a3369b9",
   "metadata": {},
   "outputs": [],
   "source": [
    "from IPython.display import display, Markdown\n",
    "\n",
    "from sklearn import datasets\n",
    "\n",
    "iris = datasets.load_iris()\n",
    "\n",
    "display(Markdown('<span style=\"color: #14B326\">Done!</span>'))\n"
   ]
  },
  {
   "cell_type": "markdown",
   "id": "f73118ae-c574-4a56-926c-78b56ef83709",
   "metadata": {},
   "source": [
    "***\n",
    "\n",
    "\n",
    "## Step 2 - Create Training and Testing Data\n",
    "\n",
    "We'll take our X (Features) and Y (Labels) and partitioning them into two sets.\n",
    "\n",
    "X_train and y_train are the features and labels for the training set.\n",
    "X_test and y_test are the features and labels for the testing set.\n",
    "\n",
    "So half of the data will be used for testing.\n",
    "\n",
    "We'll use the KNeighrborClassifier.\n",
    "In the KNC, we'll call the fit method to train our data\n",
    "then call the predict method on the X_test testing data to see how accurate our classifier is on the testing set.\n",
    "\n",
    "The list of numbers corresond to the type of Iris the classifier has predicted for each row in our testing data.\n",
    "\n",
    "We'll then see how accurate our classifier is based on the predicitive labels.\n",
    "\n",
    "Let's run the code cell! 👇🏾\n",
    "\n",
    "<br/>"
   ]
  },
  {
   "cell_type": "code",
   "execution_count": null,
   "id": "009ec1d4-ec96-4164-82a9-7cbaf6df9757",
   "metadata": {
    "tags": []
   },
   "outputs": [],
   "source": [
    "\n",
    "X = iris.data\n",
    "y = iris.target\n",
    "\n",
    "\n",
    "from sklearn.model_selection import train_test_split\n",
    "\n",
    "X_train, X_test, y_train, y_test = train_test_split(X, y, test_size=0.5)\n",
    "\n",
    "from sklearn.neighbors import KNeighborsClassifier\n",
    "\n",
    "from sklearn import tree\n",
    "my_classifier = tree.DecisionTreeClassifier()\n",
    "\n",
    "my_classifier.fit(X_train, y_train)\n",
    "\n",
    "predictions = my_classifier.predict(X_test)\n",
    "\n",
    "display(Markdown(\"#### Predictions in the classifier data for each row:\"))\n",
    "display(predictions)\n",
    "\n",
    "display(Markdown(\"#### How accurate is the classifier is based on the predictive labels to our true labels:\"))\n",
    "\n",
    "from sklearn.metrics import accuracy_score\n",
    "print(accuracy_score(y_test, predictions))\n",
    "# Output may be different on users client due to dataset\n",
    "# and randomness\n",
    "display(Markdown('<span style=\"color: #14B326\">Done!</span>'))\n"
   ]
  },
  {
   "cell_type": "markdown",
   "id": "352dc8b9-7e86-4c68-bab8-c3b31433ab29",
   "metadata": {},
   "source": [
    "***\n",
    "\n",
    "## Step 3 - Utilizling a different classifier </span>\n",
    "In the prevous example we used the ScrappyKNN classifier. In the next lab, we'll use the `KNeighborsClassifier` to accomplish the same task.\n",
    "\n",
    "Let's run the code cell! 👇🏾\n"
   ]
  },
  {
   "cell_type": "code",
   "execution_count": null,
   "id": "2d253915-3f90-4502-a86c-140acd2a8e11",
   "metadata": {
    "tags": []
   },
   "outputs": [],
   "source": [
    "from sklearn.neighbors import KNeighborsClassifier\n",
    "my_classifier = KNeighborsClassifier()\n",
    "\n",
    "my_classifier.fit(X_train, y_train)\n",
    "\n",
    "predictions = my_classifier.predict(X_test)\n",
    "\n",
    "print(accuracy_score(y_test, predictions))\n",
    "# Output may be different on users client due to dataset\n",
    "# and randomness train test data\n",
    "display(Markdown('<span style=\"color: #14B326\">Done!</span>'))\n"
   ]
  },
  {
   "cell_type": "markdown",
   "id": "b69347ca-7e5a-4d0a-9a81-74f5f5783472",
   "metadata": {},
   "source": [
    "## You have completed Activity 04.\n",
    "\n",
    "[Start Activity 05](Activity05.ipynb)"
   ]
  }
 ],
 "metadata": {
  "kernelspec": {
   "display_name": "Python 3 (ipykernel)",
   "language": "python",
   "name": "python3"
  },
  "language_info": {
   "codemirror_mode": {
    "name": "ipython",
    "version": 3
   },
   "file_extension": ".py",
   "mimetype": "text/x-python",
   "name": "python",
   "nbconvert_exporter": "python",
   "pygments_lexer": "ipython3",
   "version": "3.10.12"
  }
 },
 "nbformat": 4,
 "nbformat_minor": 5
}
