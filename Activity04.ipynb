{
 "cells": [
  {
   "cell_type": "markdown",
   "id": "82b91eaa-49aa-4807-ba8a-f945a066e0e1",
   "metadata": {},
   "source": [
    "## <span style='color:#DB822E'> Back to flowers: Create a pipeline </span>\n",
    "\n",
    "Ref: https://www.youtube.com/watch?v=84gqSbLcBFE\n",
    "\n"
   ]
  },
  {
   "cell_type": "code",
   "execution_count": null,
   "id": "009ec1d4-ec96-4164-82a9-7cbaf6df9757",
   "metadata": {},
   "outputs": [],
   "source": [
    "\n",
    "from IPython.display import display as print, Markdown\n",
    "\n",
    "from sklearn import datasets\n",
    "\n",
    "iris = datasets.load_iris()\n",
    "\n",
    "X = iris.data\n",
    "y = iris.target\n",
    "\n",
    "\n",
    "from sklearn.model_selection import train_test_split\n",
    "\n",
    "X_train, X_test, y_train, y_test = train_test_split(X, y, test_size=0.5)\n",
    "\n",
    "from sklearn.neighbors import KNeighborsClassifier\n",
    "\n",
    "from sklearn import tree\n",
    "my_classifier = tree.DecisionTreeClassifier()\n",
    "\n",
    "my_classifier.fit(X_train, y_train)\n",
    "\n",
    "predictions = my_classifier.predict(X_test)\n",
    "\n",
    "display(Markdown(\"#### Predictions in the classifier data for each row:\"))\n",
    "display(predictions)\n",
    "\n",
    "display(Markdown(\"#### How accurate is the classifier is based on the predictive labels to our true labels:\"))\n",
    "\n",
    "from sklearn.metrics import accuracy_score\n",
    "print(accuracy_score(y_test, predictions))\n",
    "# Output may be different on users client due to dataset\n",
    "# and randomness"
   ]
  },
  {
   "cell_type": "markdown",
   "id": "352dc8b9-7e86-4c68-bab8-c3b31433ab29",
   "metadata": {},
   "source": [
    "## <span style='color:#DB822E'> Utilizling a different classifier </span>\n",
    "In the prevous example we used the ScrappyKNN classifier. In the next lab, we'll use the `KNeighborsClassifier` to accomplish the same task.\n"
   ]
  },
  {
   "cell_type": "code",
   "execution_count": null,
   "id": "2d253915-3f90-4502-a86c-140acd2a8e11",
   "metadata": {},
   "outputs": [],
   "source": [
    "from sklearn.neighbors import KNeighborsClassifier\n",
    "my_classifier = KNeighborsClassifier()\n",
    "\n",
    "my_classifier.fit(X_train, y_train)\n",
    "\n",
    "predictions = my_classifier.predict(X_test)\n",
    "\n",
    "print(accuracy_score(y_test, predictions))\n",
    "# Output may be different on users client due to dataset\n",
    "# and randomness train test data"
   ]
  },
  {
   "cell_type": "code",
   "execution_count": null,
   "id": "5e0159aa-f81d-40b7-a990-d54759518247",
   "metadata": {},
   "outputs": [],
   "source": []
  },
  {
   "cell_type": "code",
   "execution_count": null,
   "id": "68cd9fbe-a717-420f-b774-751957709413",
   "metadata": {},
   "outputs": [],
   "source": []
  },
  {
   "cell_type": "code",
   "execution_count": null,
   "id": "d13fce3c-3bca-4d50-8e71-428dbcb0c8d9",
   "metadata": {},
   "outputs": [],
   "source": []
  },
  {
   "cell_type": "code",
   "execution_count": null,
   "id": "f0bfc2c9-ef51-43dd-ad6f-017fd183f356",
   "metadata": {},
   "outputs": [],
   "source": []
  }
 ],
 "metadata": {
  "kernelspec": {
   "display_name": "local-venv-kernel",
   "language": "python",
   "name": "local-venv-kernel"
  },
  "language_info": {
   "codemirror_mode": {
    "name": "ipython",
    "version": 3
   },
   "file_extension": ".py",
   "mimetype": "text/x-python",
   "name": "python",
   "nbconvert_exporter": "python",
   "pygments_lexer": "ipython3",
   "version": "3.10.3"
  }
 },
 "nbformat": 4,
 "nbformat_minor": 5
}
